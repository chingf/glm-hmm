{
 "cells": [
  {
   "cell_type": "code",
   "execution_count": 9,
   "metadata": {},
   "outputs": [],
   "source": [
    "# Import statements\n",
    "import os\n",
    "import traceback\n",
    "import pickle\n",
    "from datetime import datetime\n",
    "import numpy as np\n",
    "import matplotlib.pyplot as plt\n",
    "from LearningSession import *\n",
    "from LearningChoicePredictor import *\n",
    "from LearningPsychometricPredictor import *\n",
    "import ssm"
   ]
  },
  {
   "cell_type": "markdown",
   "metadata": {},
   "source": [
    "## Set up Data"
   ]
  },
  {
   "cell_type": "code",
   "execution_count": 10,
   "metadata": {},
   "outputs": [],
   "source": [
    "animal = 'mSM63'\n",
    "folder = '/home/chingf/engram/data/musall/learning/neural/mSM63'\n",
    "dates = os.listdir(folder)\n",
    "dates.sort()\n",
    "dates = dates[1:]\n",
    "dates.sort(key = lambda date: datetime.strptime(date, '%d-%b-%Y')) "
   ]
  },
  {
   "cell_type": "code",
   "execution_count": 11,
   "metadata": {},
   "outputs": [],
   "source": [
    "session = LearningSession(\n",
    "    animal, dates[26], access_engram=True, load_Vc=False\n",
    "    )"
   ]
  },
  {
   "cell_type": "code",
   "execution_count": 12,
   "metadata": {},
   "outputs": [],
   "source": [
    "predictor = LearningPsychometricPredictor(session)"
   ]
  },
  {
   "cell_type": "code",
   "execution_count": 13,
   "metadata": {
    "code_folding": []
   },
   "outputs": [],
   "source": [
    "trial_choices = predictor.trial_choices\n",
    "nonnan_choices = np.logical_not(np.isnan(trial_choices))\n",
    "nonnan_data = np.ones((nonnan_choices.shape)).astype(bool)\n",
    "for trial in range(predictor.data.shape[0]):\n",
    "    if np.sum(np.isnan(predictor.data[trial,:])) > 0:\n",
    "        nonnan_data[trial] = False\n",
    "nonnan_indices = np.logical_and(nonnan_choices, nonnan_data)\n",
    "y = trial_choices[nonnan_indices].astype(int) - 1\n",
    "y = y.reshape((-1,1))\n",
    "X = predictor.data[nonnan_indices,:]"
   ]
  },
  {
   "cell_type": "code",
   "execution_count": 14,
   "metadata": {},
   "outputs": [],
   "source": [
    "indices = np.arange(y.size)\n",
    "X_train, X_test, y_train, y_test, train_indices, test_indices = \\\n",
    "    train_test_split(\n",
    "        X, y, indices, test_size = 0.20, stratify=y\n",
    "        )"
   ]
  },
  {
   "cell_type": "code",
   "execution_count": 24,
   "metadata": {},
   "outputs": [],
   "source": [
    "K = 2 # Number of states\n",
    "D = 1 # Dimension of observations"
   ]
  },
  {
   "cell_type": "markdown",
   "metadata": {},
   "source": [
    "## Bernoulli with SGD"
   ]
  },
  {
   "cell_type": "code",
   "execution_count": null,
   "metadata": {},
   "outputs": [
    {
     "name": "stdout",
     "output_type": "stream",
     "text": [
      "> /home/chingf/Code/ExternalPackages/ssm/ssm/stats.py(523)bernoulli_logpdf()\n",
      "-> return np.sum(lls * mask, axis=-1)\n",
      "(Pdb) l\n",
      "518  \t    #\n",
      "519  \t    # This holds for any m. we choose m = max(0, u) to avoid overflow.\n",
      "520  \t    m = np.maximum(0, logit_ps)\n",
      "521  \t    lls = data * logit_ps - m - np.log(np.exp(-m) + np.exp(logit_ps - m))\n",
      "522  \t    import pdb; pdb.set_trace()\n",
      "523  ->\t    return np.sum(lls * mask, axis=-1)\n",
      "524  \t\n",
      "525  \tdef logistic_logpdf(data, logit_ps, mask=None):\n",
      "526  \t    \"\"\"\n",
      "527  \t    Compute the log probability density of a Bernoulli distribution.\n",
      "528  \t    This will broadcast as long as data and logit_ps have the same\n",
      "(Pdb) x = lls*mask\n",
      "(Pdb) x.shape\n",
      "(332, 2, 1)\n",
      "(Pdb) y = np.sum(lls*mask, axis=-1)\n",
      "(Pdb) y.shape\n",
      "(332, 2)\n",
      "(Pdb) x[:3]\n",
      "array([[[-6.90775528e+00],\n",
      "        [-1.00050033e-03]],\n",
      "\n",
      "       [[-1.00050033e-03],\n",
      "        [-6.90775528e+00]],\n",
      "\n",
      "       [[-6.90775528e+00],\n",
      "        [-1.00050033e-03]]])\n",
      "(Pdb) y[:3]\n",
      "array([[-6.90775528e+00, -1.00050033e-03],\n",
      "       [-1.00050033e-03, -6.90775528e+00],\n",
      "       [-6.90775528e+00, -1.00050033e-03]])\n"
     ]
    }
   ],
   "source": [
    "statedim_likelihoods = []\n",
    "hmm = ssm.HMM(\n",
    "    K, D, observations=\"bernoulli\"\n",
    "    )\n",
    "lls = hmm.fit(\n",
    "    y_train,\n",
    "    method=\"sgd\"\n",
    "    )\n",
    "statedim_likelihoods.append(max(lls))"
   ]
  },
  {
   "cell_type": "code",
   "execution_count": 12,
   "metadata": {},
   "outputs": [
    {
     "data": {
      "text/plain": [
       "[<matplotlib.lines.Line2D at 0x7f958ff8f5c0>]"
      ]
     },
     "execution_count": 12,
     "metadata": {},
     "output_type": "execute_result"
    },
    {
     "data": {
      "image/png": "[encoded data removed]",
      "text/plain": [
       "<Figure size 432x288 with 1 Axes>"
      ]
     },
     "metadata": {
      "needs_background": "light"
     },
     "output_type": "display_data"
    }
   ],
   "source": [
    "plt.plot(lls)"
   ]
  },
  {
   "cell_type": "code",
   "execution_count": 13,
   "metadata": {
    "code_folding": [
     0
    ]
   },
   "outputs": [
    {
     "data": {
      "text/plain": [
       "array([[0.87098476],\n",
       "       [0.22809925]])"
      ]
     },
     "execution_count": 13,
     "metadata": {},
     "output_type": "execute_result"
    }
   ],
   "source": [
    "# Corresponding Bernoulli parameters for the classes\n",
    "1/(1+np.exp(hmm.observations.logit_ps))"
   ]
  },
  {
   "cell_type": "code",
   "execution_count": 14,
   "metadata": {
    "scrolled": true
   },
   "outputs": [],
   "source": [
    "predicted = hmm.most_likely_states(y_test, input=X_test)"
   ]
  },
  {
   "cell_type": "code",
   "execution_count": 15,
   "metadata": {},
   "outputs": [
    {
     "data": {
      "text/plain": [
       "array([0, 0, 0, 1, 1, 0, 1, 1, 1, 0, 0, 1, 0, 1, 0, 1, 1, 1, 1, 0, 0, 1,\n",
       "       1, 0, 1, 0, 1, 0, 1, 1, 1, 0, 1, 1, 1, 0, 0, 0, 1, 1, 1, 1, 1, 1,\n",
       "       0, 1, 0, 1, 0, 1, 1, 0, 0, 0, 1, 1, 0, 1, 0, 1, 0, 1, 1, 1, 1, 0,\n",
       "       0, 0, 0, 0, 0, 1, 0, 0, 0, 0, 0, 1, 1, 0, 0, 0, 1, 0])"
      ]
     },
     "execution_count": 15,
     "metadata": {},
     "output_type": "execute_result"
    }
   ],
   "source": [
    "y_test.flatten()"
   ]
  },
  {
   "cell_type": "code",
   "execution_count": 16,
   "metadata": {},
   "outputs": [
    {
     "data": {
      "text/plain": [
       "array([0, 0, 0, 1, 1, 0, 1, 1, 1, 0, 0, 1, 0, 1, 0, 1, 1, 1, 1, 0, 0, 1,\n",
       "       1, 0, 1, 0, 1, 0, 1, 1, 1, 0, 1, 1, 1, 0, 0, 0, 1, 1, 1, 1, 1, 1,\n",
       "       0, 1, 0, 1, 0, 1, 1, 0, 0, 0, 1, 1, 0, 1, 0, 1, 0, 1, 1, 1, 1, 0,\n",
       "       0, 0, 0, 0, 0, 1, 0, 0, 0, 0, 0, 1, 1, 0, 0, 0, 1, 0])"
      ]
     },
     "execution_count": 16,
     "metadata": {},
     "output_type": "execute_result"
    }
   ],
   "source": [
    "predicted"
   ]
  },
  {
   "cell_type": "code",
   "execution_count": null,
   "metadata": {},
   "outputs": [],
   "source": []
  }
 ],
 "metadata": {
  "kernelspec": {
   "display_name": "Python 3",
   "language": "python",
   "name": "python3"
  },
  "language_info": {
   "codemirror_mode": {
    "name": "ipython",
    "version": 3
   },
   "file_extension": ".py",
   "mimetype": "text/x-python",
   "name": "python",
   "nbconvert_exporter": "python",
   "pygments_lexer": "ipython3",
   "version": "3.7.3"
  }
 },
 "nbformat": 4,
 "nbformat_minor": 2
}
