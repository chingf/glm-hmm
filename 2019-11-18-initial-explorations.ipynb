{
 "cells": [
  {
   "cell_type": "markdown",
   "metadata": {},
   "source": [
    "## Churchland Widefield Data\n",
    "\n",
    "Neural data is stored in `neural.mat`. Relevant variables are:\n",
    "- `neural`: calcium traces, trials x time x component\n",
    "- `reg_indxs`: NMF component regions\n",
    "- `reg_indxs_consolidated`: coarse-grained regions\n",
    "- `reg_indxs_consolidated`: coarse-grained regions\n",
    "- `bin_times`: bin times\n",
    "\n",
    "The widefield loading matrix for the traces in `neural.mat` is stored in `neural_nmfsupp.mat`. This should help visualize which region in the brain the activity comes from\n",
    "\n",
    "The raw behavioral video files are in `face` and `body`, which are the two different camera views. The image files here are named as the first 4 numbers are 'trial number' and the last 4 'frame number' (189 frames per trial). I'll pull together the behavioral continuous latents and discrete segmentation etc when I get a chance. The trial markers for mSM30/10-Oct are in the file 'trialmarkers.mat'"
   ]
  },
  {
   "cell_type": "code",
   "execution_count": 1,
   "metadata": {},
   "outputs": [],
   "source": [
    "import numpy as np\n",
    "import ssm\n",
    "import seaborn as sns\n",
    "import numpy.random as npr\n",
    "import matplotlib.pyplot as plt\n",
    "import numpy.linalg as la\n",
    "from collections import OrderedDict\n",
    "from matplotlib.font_manager import FontProperties\n",
    "from matplotlib.gridspec import GridSpec\n",
    "from scipy.io import loadmat\n",
    "from sklearn.decomposition import PCA\n",
    "from ssm import LDS\n",
    "from Session import *\n",
    "\n",
    "sns.set_style(\"white\")\n",
    "sns.set_context(\"talk\")"
   ]
  },
  {
   "cell_type": "code",
   "execution_count": 2,
   "metadata": {},
   "outputs": [],
   "source": [
    "color_names = [\"windows blue\",\n",
    "               \"red\",\n",
    "               \"amber\",\n",
    "               \"faded green\",\n",
    "               \"dusty purple\",\n",
    "               \"orange\",\n",
    "               \"clay\",\n",
    "               \"pink\",\n",
    "               \"greyish\",\n",
    "               \"mint\",\n",
    "               \"light cyan\",\n",
    "               \"steel blue\",\n",
    "               \"forest green\",\n",
    "               \"pastel purple\",\n",
    "               \"salmon\",\n",
    "               \"dark brown\"]\n",
    "colors = sns.xkcd_palette(color_names)"
   ]
  },
  {
   "cell_type": "code",
   "execution_count": 3,
   "metadata": {},
   "outputs": [],
   "source": [
    "dirpath = \"/home/chingf/engram/data/musall/vistrained/mSM30/10-Oct-2017/\"\n",
    "dirpath = \"/home/chingf/Code/LVM-Widefield/Data/10-Oct-2017/\"\n",
    "neural_filepath = dirpath + \"neural.mat\"\n",
    "trialmarker_filepath = dirpath + \"trialmarkers.mat\"\n",
    "matfile = loadmat(neural_filepath)\n",
    "neural = np.array(matfile['neural'])\n",
    "bin_times = np.array(matfile['bin_times'])\n",
    "reg_indxs = np.array(matfile['reg_indxs'])\n",
    "num_trials, num_bins, num_components = neural.shape\n",
    "nmf_indxs = reg_indxs[0][0]\n",
    "nmf_names = np.array(reg_indxs.dtype.names)\n",
    "matfile = loadmat(trialmarker_filepath)"
   ]
  },
  {
   "cell_type": "markdown",
   "metadata": {},
   "source": [
    "# Testing the quiescent activity segmentation"
   ]
  },
  {
   "cell_type": "code",
   "execution_count": 4,
   "metadata": {},
   "outputs": [],
   "source": [
    "testsession = Session(\"vistrained\", \"mSM30\", \"10-Oct-2017\")"
   ]
  },
  {
   "cell_type": "code",
   "execution_count": 5,
   "metadata": {},
   "outputs": [],
   "source": [
    "qa = testsession.get_quiescent_activity()"
   ]
  },
  {
   "cell_type": "code",
   "execution_count": 7,
   "metadata": {},
   "outputs": [
    {
     "data": {
      "image/png": "[encoded data removed]",
      "text/plain": [
       "<Figure size 432x288 with 1 Axes>"
      ]
     },
     "metadata": {
      "needs_background": "light"
     },
     "output_type": "display_data"
    }
   ],
   "source": [
    "# Size of quiescent periods, excluding stimulus presentation\n",
    "binsizes_delay_nostim = [q.shape[0] for q in qa]\n",
    "plt.figure()\n",
    "plt.hist(binsizes_delay_nostim)\n",
    "plt.title(\"Size of quiescent periods\\nexcluding stimulus presentation\")\n",
    "plt.xlabel(\"Number of timebins in the quiescent period\")\n",
    "plt.show()"
   ]
  },
  {
   "cell_type": "code",
   "execution_count": 7,
   "metadata": {},
   "outputs": [
    {
     "data": {
      "image/png": "[encoded data removed]",
      "text/plain": [
       "<Figure size 432x288 with 1 Axes>"
      ]
     },
     "metadata": {
      "needs_background": "light"
     },
     "output_type": "display_data"
    }
   ],
   "source": [
    "# Size of quiescent periods, including stimulus presentation\n",
    "binsizes_delay_nostim = [q.shape[0] for q in qa]\n",
    "plt.figure()\n",
    "plt.hist(binsizes_delay_nostim)\n",
    "plt.title(\"Size of quiescent periods\\nincluding stimulus presentation\")\n",
    "plt.xlabel(\"Number of timebins in the quiescent period\")\n",
    "plt.show()"
   ]
  },
  {
   "cell_type": "markdown",
   "metadata": {},
   "source": [
    "## Finding a non-movement heuristic\n",
    "Here, we use the $k=4$ BehaveNet discrete states as a ground truth\n",
    "for finding a good heuristic over the continuous latents"
   ]
  },
  {
   "cell_type": "code",
   "execution_count": null,
   "metadata": {},
   "outputs": [],
   "source": [
    "testsession = Session(\"vistrained\", \"mSM30\", \"10-Oct-2017\")\n",
    "\n",
    "# The continuous behavioral latents are (trials x bin x latent_dim)\n",
    "behave_latents = testsession.get_behavioral_latents()\n",
    "\n",
    "# The states are (trials x bin)\n",
    "statefile = \"/home/chingf/engram/analysis/behavenet/musall/\" +\\\n",
    "    \"vistrained/mSM30/10-Oct-2017/arhmm/16_latents/04_states/\" +\\\n",
    "    \"0e+00_kappa/gaussian/test_tube_data/diff_init_grid_search/\" +\\\n",
    "    \"version_0/states.pkl\"\n",
    "with open(statefile, \"rb\") as pkl:\n",
    "    pkl_data = pickle.load(pkl)\n",
    "states = np.array(pkl_data['states'])"
   ]
  },
  {
   "cell_type": "code",
   "execution_count": null,
   "metadata": {},
   "outputs": [],
   "source": [
    "def get_change_in_latents(behave_latents, trial, bin_t):\n",
    "    \"\"\"\n",
    "    For a continuous behavioral latent matrix M with dimensions (trials x bin x latent_dim),\n",
    "    returns M[trial,bin_t + 1, :] - M[trial,bin_t, :]\n",
    "    \"\"\"\n",
    "    \n",
    "    return behave_latents[trial, bin_t + 1, :] - behave_latents[trial, bin_t, :]"
   ]
  },
  {
   "cell_type": "code",
   "execution_count": null,
   "metadata": {},
   "outputs": [],
   "source": [
    "# Plot histogram of the difference between two time steps.\n",
    "latent_vals = []\n",
    "bl_dims = behave_latents.shape\n",
    "for i in range(bl_dims[0]): # trial\n",
    "    delay_period = testsession.get_delay_period(i)\n",
    "    start_bin = delay_period[0]\n",
    "    end_bin = delay_period[1]\n",
    "    for j in range(start_bin, end_bin): # bin number\n",
    "        val = np.sum(get_change_in_latents(behave_latents, i, j))\n",
    "        if np.isnan(val):\n",
    "            continue\n",
    "        else:\n",
    "            latent_vals.append(val)\n",
    "plt.figure()\n",
    "plt.hist(latent_vals, bins=200)\n",
    "plt.xlim((-1.5,1.5))\n",
    "plt.title(\"Distribution of Latent Change\\nDuring Delay Period\")\n",
    "plt.xlabel(\"Sum of changes over all latents\")\n",
    "plt.ylabel(\"Number of Instances\")\n",
    "plt.show()"
   ]
  },
  {
   "cell_type": "code",
   "execution_count": null,
   "metadata": {},
   "outputs": [],
   "source": [
    "# Comparing the sum of behavioral latent deltas\n",
    "nonmovement_state = []\n",
    "movement_state = []\n",
    "for trial in range(num_trials):\n",
    "    delay_period = testsession.get_delay_period(trial)\n",
    "    start_bin = delay_period[0]\n",
    "    end_bin = delay_period[1]\n",
    "    b_l = behave_latents[trial,start_bin:end_bin,:]\n",
    "    s = states[trial, start_bin:end_bin]\n",
    "    for timebin in range(s.size):\n",
    "        timebin_idx = timebin + start_bin\n",
    "        latent_energy_change = np.sum(get_change_in_latents(behave_latents, trial, timebin_idx))\n",
    "        bin_state = s[timebin]\n",
    "        if np.isnan(bin_state):\n",
    "            continue\n",
    "        if bin_state == 1: # Non-movement\n",
    "            nonmovement_state.append(latent_energy_change)\n",
    "        else:\n",
    "            movement_state.append(latent_energy_change)\n",
    "movement_state = np.array(movement_state)\n",
    "nonmovement_state = np.array(nonmovement_state)\n",
    "plt.figure()\n",
    "plt.hist(movement_state, color=\"r\", alpha=0.5, bins=200,label=\"Movement State\")\n",
    "plt.hist(nonmovement_state, color=\"b\", alpha=0.5, bins=200, label=\"Nonmovement State\")\n",
    "plt.xlim((-2,2))\n",
    "plt.legend()\n",
    "plt.title(\"Distribution of Latent Changes\\nDuring Delay period\")\n",
    "plt.xlabel(\"Sum of Latent Changes\")\n",
    "plt.ylabel(\"Number of Instances\")\n",
    "plt.show()"
   ]
  },
  {
   "cell_type": "code",
   "execution_count": null,
   "metadata": {},
   "outputs": [],
   "source": [
    "np.sum(np.abs(movement_state) < 0.07)/movement_state.size"
   ]
  },
  {
   "cell_type": "code",
   "execution_count": null,
   "metadata": {},
   "outputs": [],
   "source": [
    "np.sum(np.abs(nonmovement_state) < 0.07)/nonmovement_state.size"
   ]
  },
  {
   "cell_type": "markdown",
   "metadata": {},
   "source": [
    "## PCA of Trial-Averaged Responses"
   ]
  },
  {
   "cell_type": "code",
   "execution_count": null,
   "metadata": {},
   "outputs": [],
   "source": [
    "trial_avgd_neural = np.mean(neural, axis=0) # time x component"
   ]
  },
  {
   "cell_type": "code",
   "execution_count": null,
   "metadata": {},
   "outputs": [],
   "source": [
    "pca = PCA()\n",
    "pca.fit(trial_avgd_neural.T)\n",
    "print(\"Variance explained by first 4 principal components:\")\n",
    "print(pca.explained_variance_ratio_[:4])"
   ]
  },
  {
   "cell_type": "code",
   "execution_count": null,
   "metadata": {},
   "outputs": [],
   "source": [
    "colors = ['r', 'b', 'g', 'k']\n",
    "for i in range(len(colors)):\n",
    "    plt.plot(\n",
    "        np.squeeze(bin_times), pca.components_[i,:],\n",
    "        label=str(i+1), color=colors[i]\n",
    "        )\n",
    "plt.legend()"
   ]
  },
  {
   "cell_type": "markdown",
   "metadata": {},
   "source": [
    "## Fit a Linear Dynamical System"
   ]
  },
  {
   "cell_type": "markdown",
   "metadata": {},
   "source": [
    "### Q: How to do this across sessions/trials?"
   ]
  },
  {
   "cell_type": "code",
   "execution_count": null,
   "metadata": {},
   "outputs": [],
   "source": [
    "def fit_lds(y, observed_dim=num_components, latent_dim=10, var_post=\"mf\"):\n",
    "    \"\"\"\n",
    "    Fits a LDS per the SSM package. Returns:\n",
    "    q: estimate of the posterior\n",
    "    q_elbos: the successive elbo estimations\n",
    "    q_x: the posterior mean of the continuous states\n",
    "    q_y: Smoothed data under variational posterior\n",
    "    \"\"\"\n",
    "    \n",
    "    lds = LDS(observed_dim, latent_dim, emissions=\"gaussian\")\n",
    "    lds.initialize(y) # time x components, done for each trial\n",
    "    q_elbos, q = lds.fit(\n",
    "        y, method=\"bbvi\", variational_posterior=var_post,\n",
    "        num_iters=5000, stepsize=0.1, initialize=False\n",
    "        )\n",
    "    q_x = q.mean[0] # posterior mean of the continuous states\n",
    "    q_y = lds.smooth(q_x, y) #Smoothed data under variational posterior\n",
    "    return q, q_elbos, q_x, q_y"
   ]
  },
  {
   "cell_type": "code",
   "execution_count": null,
   "metadata": {},
   "outputs": [],
   "source": [
    "def plot_elbos(q_elbos):\n",
    "    plt.figure()\n",
    "    plt.plot(q_elbos)\n",
    "    plt.xlabel(\"Iteration\")\n",
    "    plt.ylabel(\"ELBO\")\n",
    "\n",
    "def plot_posterior_mean(q_x):\n",
    "    plt.figure()\n",
    "    plt.plot(q_x)\n",
    "    plt.ylabel(\"$x$\")\n",
    "\n",
    "def plot_smoothed_observations(q_y):\n",
    "    plt.figure()\n",
    "    plt.plot(q_y)\n",
    "    plt.xlabel(\"time\")"
   ]
  },
  {
   "cell_type": "code",
   "execution_count": null,
   "metadata": {},
   "outputs": [],
   "source": [
    "q, q_elbos, q_x, q_y = fit_lds(neural[0,:,:])"
   ]
  },
  {
   "cell_type": "code",
   "execution_count": null,
   "metadata": {},
   "outputs": [],
   "source": [
    "plot_elbos(q_elbos)"
   ]
  },
  {
   "cell_type": "code",
   "execution_count": null,
   "metadata": {},
   "outputs": [],
   "source": [
    "plot_smoothed_observations(q_y)"
   ]
  },
  {
   "cell_type": "code",
   "execution_count": null,
   "metadata": {},
   "outputs": [],
   "source": [
    "plt.figure()\n",
    "plt.plot(neural[0,:])\n",
    "plt.show()"
   ]
  },
  {
   "cell_type": "code",
   "execution_count": null,
   "metadata": {},
   "outputs": [],
   "source": [
    "plot_posterior_mean(q_x)"
   ]
  },
  {
   "cell_type": "markdown",
   "metadata": {},
   "source": [
    "## Fit a RSLDS"
   ]
  },
  {
   "cell_type": "code",
   "execution_count": null,
   "metadata": {},
   "outputs": [],
   "source": [
    "def fit_rslds(y, K=5, observed_dim=num_components, latent_dim=10, var_post=\"mf\"):\n",
    "    \"\"\"\n",
    "    Fits a RSLDS per the SSM package. Returns:\n",
    "    q: estimate of the posterior\n",
    "    q_elbos: the successive elbo estimations\n",
    "    q_x: the posterior mean of the continuous states\n",
    "    q_z: the most likely discrete states\n",
    "    \"\"\"\n",
    "    \n",
    "    rslds = ssm.SLDS(observed_dim, K, latent_dim,\n",
    "        transitions=\"recurrent_only\", dynamics=\"diagonal_gaussian\",\n",
    "        emissions=\"gaussian_orthog\", single_subspace=True\n",
    "        )\n",
    "    rslds.initialize(y)\n",
    "    q_elbos, q = rslds.fit(\n",
    "        y, method=\"bbvi\", variational_posterior=\"tridiag\",\n",
    "        initialize=False, num_iters=3000\n",
    "        )\n",
    "    q_x = q.mean[0]\n",
    "    q_z = rslds.most_likely_states(q_x, y)\n",
    "    return q, q_elbos, q_x, q_z"
   ]
  },
  {
   "cell_type": "code",
   "execution_count": null,
   "metadata": {},
   "outputs": [],
   "source": [
    "def plot_trajectory(z, x, ax=None, ls=\"-\"):\n",
    "    cmap = ['b', 'g', 'r', 'c', 'm', 'y', 'k', 'w']\n",
    "    labels = np.unique(q_z)\n",
    "    zcps = np.concatenate(([0], np.where(np.diff(z))[0] + 1, [z.size]))\n",
    "    if ax is None:\n",
    "        fig = plt.figure(figsize=(4, 4))\n",
    "        ax = fig.gca()\n",
    "    for start, stop in zip(zcps[:-1], zcps[1:]):\n",
    "        ax.plot(x[start:stop + 1, 0],\n",
    "                x[start:stop + 1, 1],\n",
    "                lw=1, ls=ls,\n",
    "                color=cmap[z[start] % len(cmap)],\n",
    "                alpha=1.0, label=str(z[start]))\n",
    "    handles, labels = plt.gca().get_legend_handles_labels()\n",
    "    by_label = OrderedDict(zip(labels, handles))\n",
    "    font_prop = FontProperties()\n",
    "    font_prop.set_size('small')\n",
    "    plt.legend(by_label.values(), by_label.keys(), prop=font_prop)\n",
    "    return ax"
   ]
  },
  {
   "cell_type": "code",
   "execution_count": null,
   "metadata": {},
   "outputs": [],
   "source": [
    "q, q_elbos, q_x, q_z = fit_rslds(neural[0,:,:])"
   ]
  },
  {
   "cell_type": "code",
   "execution_count": null,
   "metadata": {},
   "outputs": [],
   "source": [
    "plt.figure()\n",
    "plt.plot(q_elbos)\n",
    "plt.xlabel(\"Iteration\")\n",
    "plt.ylabel(\"ELBO\")"
   ]
  }
 ],
 "metadata": {
  "kernelspec": {
   "display_name": "Python 3",
   "language": "python",
   "name": "python3"
  },
  "language_info": {
   "codemirror_mode": {
    "name": "ipython",
    "version": 3
   },
   "file_extension": ".py",
   "mimetype": "text/x-python",
   "name": "python",
   "nbconvert_exporter": "python",
   "pygments_lexer": "ipython3",
   "version": "3.7.3"
  }
 },
 "nbformat": 4,
 "nbformat_minor": 2
}
