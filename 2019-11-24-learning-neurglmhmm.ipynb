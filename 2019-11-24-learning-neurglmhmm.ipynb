{
 "cells": [
  {
   "cell_type": "code",
   "execution_count": 1,
   "metadata": {
    "code_folding": []
   },
   "outputs": [],
   "source": [
    "# Import statements\n",
    "import os\n",
    "import traceback\n",
    "import pickle\n",
    "import pdb\n",
    "from datetime import datetime\n",
    "import numpy as np\n",
    "import pandas as pd\n",
    "import seaborn as sns\n",
    "import matplotlib.pyplot as plt\n",
    "from LearningSession import *\n",
    "from LearningChoicePredictor import *\n",
    "from LearningPsychometricPredictor import *\n",
    "from sklearn.linear_model import LogisticRegression\n",
    "import ssm"
   ]
  },
  {
   "cell_type": "markdown",
   "metadata": {},
   "source": [
    "## Load Results"
   ]
  },
  {
   "cell_type": "code",
   "execution_count": 2,
   "metadata": {
    "code_folding": [
     0
    ]
   },
   "outputs": [],
   "source": [
    "def greatest_state_occupancy(hmm, X, y):\n",
    "    states = hmm.most_likely_states(\n",
    "        y, input=X\n",
    "        )\n",
    "    unique_states = np.unique(states)\n",
    "    occupancies = []\n",
    "    for s in unique_states:\n",
    "        occupancies.append(np.sum(states == s))\n",
    "    return max(occupancies)/(1.*states.size)"
   ]
  },
  {
   "cell_type": "code",
   "execution_count": 27,
   "metadata": {
    "code_folding": []
   },
   "outputs": [],
   "source": [
    "def predict(hmm, X, y):\n",
    "    states = hmm.most_likely_states(\n",
    "        y, input=X\n",
    "        )\n",
    "    transition_matrix = hmm.transitions.transition_matrix\n",
    "    pred_y = []\n",
    "    for idx, x in enumerate(X):\n",
    "        if idx == 0:\n",
    "            continue\n",
    "\n",
    "        input_with_constant = np.hstack(\n",
    "            (x, 1)\n",
    "            )\n",
    "        prev_state = states[idx - 1]\n",
    "        transition_probs = transition_matrix[prev_state,:]\n",
    "        expected_ps = 0\n",
    "        \n",
    "        # Overestimate:\n",
    "#         curr_state = states[idx]\n",
    "#         logit_ps = input_with_constant @ hmm.observations.coef[curr_state]\n",
    "#         ps = 1/(1 + np.exp(-1*logit_ps))\n",
    "#         expected_ps = ps\n",
    "        \n",
    "        # Underestimate\n",
    "        for new_state, transition_prob in enumerate(transition_probs):\n",
    "            logit_ps = input_with_constant @ hmm.observations.coef[new_state]\n",
    "            ps = 1/(1 + np.exp(-1*logit_ps))\n",
    "            expected_ps += ps*transition_prob\n",
    "            \n",
    "        if expected_ps > 0.5:\n",
    "            pred_y.append(1)\n",
    "        else:\n",
    "            pred_y.append(0)\n",
    "    return np.array(pred_y)"
   ]
  },
  {
   "cell_type": "code",
   "execution_count": 4,
   "metadata": {
    "code_folding": [
     0
    ]
   },
   "outputs": [],
   "source": [
    "def plot_glm_weights(coefs, task):\n",
    "    if task == \"aud\":\n",
    "        coef_types = [\"Prev Choice\", \"Stim Delta\", \"Prev Rewarded\", \"Bias\"]\n",
    "    else:\n",
    "        coef_types = [\"Prev Choice\", \"Stim Delta\", \"Prev Rewarded\", \"Prev Aud/Tac\", \"Bias\"]\n",
    "    plt.figure()\n",
    "    for idx, coef in enumerate(coefs):\n",
    "        plt.plot(coef/max(coef), label=\"State %d\"%(idx - 1))\n",
    "    plt.xticks(np.arange(coef.size), coef_types)\n",
    "    plt.ylabel(\"GLM Weight\")\n",
    "    plt.axhline(0, color=\"black\")\n",
    "    plt.legend()\n",
    "    plt.show()"
   ]
  },
  {
   "cell_type": "code",
   "execution_count": 12,
   "metadata": {
    "code_folding": [
     0
    ]
   },
   "outputs": [],
   "source": [
    "def get_data_matrix(task_type):\n",
    "    animal = 'mSM63'\n",
    "    folder = '/home/chingf/engram/data/musall/learning/neural/mSM63'\n",
    "    dates = os.listdir(folder)\n",
    "    dates.sort()\n",
    "    dates = dates[1:]\n",
    "    dates.sort(key = lambda date: datetime.strptime(date, '%d-%b-%Y'))\n",
    "    \n",
    "    # Load choice decoding results\n",
    "    choicedecoders = pickle.load(\n",
    "        open(\"pickles/choicedecodingreduce1.0_learning_mSM63.p\", \"rb\")\n",
    "        )\n",
    "    \n",
    "    aud_dates = range(21, 31)\n",
    "    audtac_dates = range(31, 41)\n",
    "    tacaud_dates = range(41, 68)\n",
    "    if task_type == \"aud\":\n",
    "        task_dates = aud_dates\n",
    "        multimodal = False\n",
    "    elif task_type == \"audtac\":\n",
    "        task_dates = audtac_dates\n",
    "        multimodal = True\n",
    "    elif task_type == \"tacaud\":\n",
    "        task_dates = tacaud_dates\n",
    "        multimodal = True\n",
    "    all_X = []\n",
    "    all_y = []\n",
    "    all_indices = []\n",
    "    is_aud_trial = []\n",
    "    curr_index = 0\n",
    "\n",
    "    for date_idx, day_number in enumerate(task_dates):\n",
    "        date = dates[day_number]\n",
    "        session = LearningSession(\n",
    "            animal, date, access_engram=True, load_neural=False\n",
    "            )\n",
    "        predictor = LearningPsychometricPredictor(\n",
    "            session, multimodal=multimodal)\n",
    "        \n",
    "        # Collect behavioral covariates\n",
    "        y = predictor.trial_choices\n",
    "        X = predictor.data\n",
    "        \n",
    "        # Add in choice decoder predictive probability\n",
    "        # Frames 0-10 are pre-stim, 10-30 are during stim, 30-40 are post-stim\n",
    "        choicedecoder = choicedecoders[day_number]\n",
    "        predic_probs = []\n",
    "        for trial in range(1, session.num_trials + 1):\n",
    "            trial_predic_probs = []\n",
    "            for frame in range(len(choicedecoder[\"predic_prob\"])):\n",
    "                prob = choicedecoder[\"predic_prob\"][frame]\n",
    "                trial_labels = choicedecoder[\"trial_labels\"][frame]\n",
    "                idx = np.argwhere(trial_labels == trial)\n",
    "                if idx.size == 0:\n",
    "                    trial_predic_probs.append(np.nan)\n",
    "                else:\n",
    "                    trial_predic_probs.append(prob[idx, 1][0,0])\n",
    "            trial_predic_probs = np.array(trial_predic_probs)\n",
    "            predic_probs.append(trial_predic_probs)\n",
    "        predic_probs = np.array(predic_probs)\n",
    "        pre_stim_prob = np.mean(predic_probs[:,:10], axis=1)\n",
    "        X = np.hstack((X, pre_stim_prob.reshape((-1,1))))\n",
    "        \n",
    "        # Post-process predictors: throw out nan trials\n",
    "        nonnan_covariates = np.logical_not(\n",
    "            np.sum(np.isnan(X), axis=1)\n",
    "            )\n",
    "        nonnan_choices = np.logical_not(np.isnan(y))\n",
    "        nonnan_indices = np.logical_and(nonnan_covariates, nonnan_choices)\n",
    "        y = y[nonnan_indices].astype(int) - 1\n",
    "        y = y.reshape((-1,1))\n",
    "        X = X[nonnan_indices,:]\n",
    "        \n",
    "        # Boolean mask over auditory trials for nonnan trials\n",
    "        for idx, val in enumerate(nonnan_indices):\n",
    "            if not val:\n",
    "                continue\n",
    "            is_aud_trial.append(session.is_aud_trial[idx])\n",
    "            \n",
    "        # Collect into arrays over all relevant sessions\n",
    "        indices = np.vstack(\n",
    "            (np.arange(y.size) + curr_index, np.ones(y.size)*date_idx)\n",
    "            ).T\n",
    "        all_X.append(X)\n",
    "        all_y.append(y)\n",
    "        all_indices.append(indices)\n",
    "        curr_index += y.size\n",
    "    all_X = np.vstack(all_X)\n",
    "    all_y = np.vstack(all_y)\n",
    "    all_indices = np.vstack(all_indices)\n",
    "    \n",
    "    # For testing/debugging\n",
    "    all_X = all_X[:,-1].reshape((-1,1))\n",
    "    \n",
    "    return all_X, all_y"
   ]
  },
  {
   "cell_type": "code",
   "execution_count": 6,
   "metadata": {
    "code_folding": [
     0,
     87
    ]
   },
   "outputs": [],
   "source": [
    "def plot_psychometric_clf(clf, task):\n",
    "    if task == \"aud\":\n",
    "        condition_names = [\n",
    "            \"L; Rewarded\",\n",
    "            \"L; Unrewarded\",\n",
    "            \"R; Rewarded\",\n",
    "            \"R; Unrewarded\"\n",
    "            ]\n",
    "        condition_styles = [\"-b\", \"--b\", \"-r\", \"--r\"]\n",
    "        condition_inputs = [\n",
    "            [0, np.nan, 1], [0, np.nan, 0], [1, np.nan, 1], [1, np.nan, 0]\n",
    "            ]\n",
    "        plt.figure()\n",
    "        for idx, cond_name in enumerate(condition_names):\n",
    "            cond_in = condition_inputs[idx]\n",
    "            cond_style = condition_styles[idx]\n",
    "            delta_idx = cond_in.index(np.nan)\n",
    "            X = []\n",
    "            for delta in range(-35, 36):\n",
    "                cond_in[delta_idx] = delta\n",
    "                X.append([i for i in cond_in])\n",
    "            X = np.array(X)\n",
    "            \n",
    "            # Norm\n",
    "#             X = X.astype(float)\n",
    "#             X[:,1] = X[:,1]/30.\n",
    "            \n",
    "            psych_curve = clf.predict_proba(X)\n",
    "            plt.plot(\n",
    "                range(-35, 36), psych_curve[:,1],\n",
    "                cond_style, label=cond_name\n",
    "                )\n",
    "        plt.title(\"Probability of Choosing Right\")\n",
    "        plt.legend()\n",
    "        plt.xlabel(\"More Left Beeps >>> More Right Beeps\")\n",
    "        plt.ylim((0,1))\n",
    "        plt.axhline(0.5, color=\"gray\")\n",
    "        plt.axvline(0, color=\"gray\")\n",
    "        plt.show()\n",
    "    else:\n",
    "        condition_names = [\n",
    "            \"L; Rewarded; Aud\",\n",
    "            \"L; Unrewarded; Aud\",\n",
    "            \"R; Rewarded; Aud\",\n",
    "            \"R; Unrewarded; Aud\",\n",
    "            \"L; Rewarded; Tac\",\n",
    "            \"L; Unrewarded; Tac\",\n",
    "            \"R; Rewarded; Tac\",\n",
    "            \"R; Unrewarded; Tac\"\n",
    "            ]\n",
    "        condition_styles = [\n",
    "            \"-b\", \"--b\", \"-r\", \"--r\", \"-b\", \"--b\", \"-r\", \"--r\"\n",
    "            ]\n",
    "        condition_inputs = [\n",
    "            [0, np.nan, 1, 1], [0, np.nan, 0, 1], [1, np.nan, 1, 1], [1, np.nan, 0, 1],\n",
    "            [0, np.nan, 1, 0], [0, np.nan, 0, 0], [1, np.nan, 1, 0], [1, np.nan, 0, 0]\n",
    "            ]\n",
    "        \n",
    "        fig, axs = plt.subplots(1,2, figsize=(12,4))\n",
    "        for ax_idx, ax in enumerate(axs):\n",
    "            condition_idxs = np.arange(ax_idx*4, ax_idx*4 + 4)\n",
    "            for condition_idx in condition_idxs:\n",
    "                cond_name = condition_names[condition_idx]\n",
    "                cond_in = condition_inputs[condition_idx]\n",
    "                cond_style = condition_styles[condition_idx]\n",
    "                delta_idx = cond_in.index(np.nan)\n",
    "                X = []\n",
    "                for delta in range(-35, 36):\n",
    "                    cond_in[delta_idx] = delta\n",
    "                    X.append([i for i in cond_in])\n",
    "                X = np.array(X)\n",
    "                psych_curve = clf.predict_proba(X)\n",
    "                ax.plot(\n",
    "                    range(-35, 36), psych_curve[:,1],\n",
    "                    cond_style, label=cond_name\n",
    "                    )\n",
    "            modality = [\"Aud\", \"Tac\"]\n",
    "            ax.set_title(\n",
    "                \"Prob. of Choosing Right\\nPrevious \" + modality[ax_idx] + \" Trial\"\n",
    "                )\n",
    "            ax.set_xlabel(\"More Left Beeps >>> More Right Beeps\")\n",
    "            ax.set_ylim((0,1))\n",
    "            ax.axhline(0.5, color=\"gray\")\n",
    "            ax.axvline(0, color=\"gray\")\n",
    "        plt.legend()\n",
    "        plt.show()\n",
    "\n",
    "def plot_psychometric_coefs(coefs, task):\n",
    "    for coef in coefs:\n",
    "        clf = LogisticRegression()\n",
    "        clf.coef_ = np.array([coef[:-1]])\n",
    "        clf.intercept_ = np.array([coef[-1]])\n",
    "        plot_psychometric_clf(clf, task)"
   ]
  },
  {
   "cell_type": "code",
   "execution_count": 7,
   "metadata": {
    "code_folding": [
     0
    ]
   },
   "outputs": [],
   "source": [
    "def find_best_p_weight(results_init):\n",
    "    \"\"\"\n",
    "    Assuming results is a dictionary over prior weights. Each entry\n",
    "    of the dictionary is a list of 20 runs of the GLMHMM\n",
    "    \"\"\"\n",
    "    \n",
    "    best_init = None\n",
    "    best_p_weight = None\n",
    "    best_score = -np.inf\n",
    "    for init in results_init.keys():\n",
    "        results = results_init[init]\n",
    "        for p_weight in results.keys():\n",
    "            sample_glmhmms = results[p_weight]\n",
    "            sample_scores = [s['test_ll'] for s in sample_glmhmms]\n",
    "            score = max(sample_scores)\n",
    "            if score > best_score:\n",
    "                best_init = init\n",
    "                best_p_weight = p_weight\n",
    "                best_score = score\n",
    "    return best_init, best_p_weight"
   ]
  },
  {
   "cell_type": "code",
   "execution_count": 9,
   "metadata": {},
   "outputs": [],
   "source": [
    "task = \"aud\"\n",
    "filename = \"habanero_results/\" + task\n",
    "results_K = pickle.load(open(\n",
    "    filename + \"_neurglmhmm_testresults.p\", \"rb\"\n",
    "    ))\n",
    "filename = \"habanero_data/\" + task\n",
    "data = pickle.load(open(\n",
    "    filename + \"_neurglmhmm_testdata.p\", \"rb\"\n",
    "    ))"
   ]
  },
  {
   "cell_type": "markdown",
   "metadata": {},
   "source": [
    "## Test performance as a function of latent dimension"
   ]
  },
  {
   "cell_type": "code",
   "execution_count": 23,
   "metadata": {
    "code_folding": []
   },
   "outputs": [],
   "source": [
    "# Collect log likelihoods\n",
    "X, y = get_data_matrix(task)\n",
    "test_lls = []\n",
    "pred_scores = []\n",
    "occupancies = []\n",
    "Ks = []\n",
    "Ks_p_weights = []\n",
    "Ks_inits = []\n",
    "for K in results_K.keys():\n",
    "    init, p_weight = find_best_p_weight(results_K[K])\n",
    "    results = results_K[K][init][p_weight]\n",
    "    Ks_p_weights.append(p_weight)\n",
    "    Ks_inits.append(init)\n",
    "    for result in results:\n",
    "        train_indices = result['train_indices'].astype(int)\n",
    "        test_indices = result['test_indices'].astype(int)\n",
    "        hmm = result['hmm']\n",
    "        test_lls.append(result['test_ll']/test_indices.shape[0])\n",
    "        \n",
    "        X_test = X[test_indices[:,0]]\n",
    "        y_test = y[test_indices[:,0]]\n",
    "        pred_choices = predict(hmm, X_test, y_test)\n",
    "        true_choices = y_test.flatten()[1:]\n",
    "        pred_score = np.sum(pred_choices == true_choices)/true_choices.size\n",
    "        pred_scores.append(pred_score)\n",
    "        \n",
    "        occ = greatest_state_occupancy(hmm, X, y)\n",
    "        occupancies.append(occ)\n",
    "        \n",
    "        Ks.append(K)\n",
    "df = pd.DataFrame({\n",
    "    'Ks': Ks, 'test_lls': test_lls, 'pred_scores': pred_scores, 'occupancies': occupancies\n",
    "    })"
   ]
  },
  {
   "cell_type": "code",
   "execution_count": 24,
   "metadata": {
    "code_folding": [],
    "scrolled": false
   },
   "outputs": [
    {
     "data": {
      "image/png": "[encoded data removed]",
      "text/plain": [
       "<Figure size 432x288 with 1 Axes>"
      ]
     },
     "metadata": {
      "needs_background": "light"
     },
     "output_type": "display_data"
    }
   ],
   "source": [
    "# Plot Log-Likes as a function of dimensions\n",
    "sns.lineplot(\n",
    "    x=\"Ks\", y=\"test_lls\", data=df\n",
    "    )\n",
    "plt.ylabel(\"Test Set Log Likelihood\")\n",
    "plt.xlabel(\"Number of States\")\n",
    "plt.show()"
   ]
  },
  {
   "cell_type": "code",
   "execution_count": 25,
   "metadata": {
    "scrolled": true
   },
   "outputs": [
    {
     "data": {
      "image/png": "[encoded data removed]",
      "text/plain": [
       "<Figure size 432x288 with 1 Axes>"
      ]
     },
     "metadata": {
      "needs_background": "light"
     },
     "output_type": "display_data"
    }
   ],
   "source": [
    "# Plot Log-Likes as a function of dimensions\n",
    "sns.lineplot(\n",
    "    x=\"Ks\", y=\"pred_scores\", data=df\n",
    "    )\n",
    "plt.ylabel(\"Test Set Predictive Accuracy\")\n",
    "plt.xlabel(\"Number of States\")\n",
    "plt.ylim(0.5, 1)\n",
    "plt.show()"
   ]
  },
  {
   "cell_type": "code",
   "execution_count": 26,
   "metadata": {},
   "outputs": [
    {
     "data": {
      "image/png": "[encoded data removed]",
      "text/plain": [
       "<Figure size 432x288 with 1 Axes>"
      ]
     },
     "metadata": {
      "needs_background": "light"
     },
     "output_type": "display_data"
    }
   ],
   "source": [
    "# Plot state occupancy as a function of dimensions\n",
    "sns.lineplot(\n",
    "    x=\"Ks\", y=\"occupancies\", data=df\n",
    "    )\n",
    "plt.ylabel(\"Occupancy Percentage\")\n",
    "plt.xlabel(\"Number of States\")\n",
    "plt.ylim(0,1)\n",
    "plt.show()"
   ]
  },
  {
   "cell_type": "code",
   "execution_count": 17,
   "metadata": {},
   "outputs": [
    {
     "data": {
      "text/plain": [
       "[0.01, 0.001, 0.01]"
      ]
     },
     "execution_count": 17,
     "metadata": {},
     "output_type": "execute_result"
    }
   ],
   "source": [
    "Ks_p_weights"
   ]
  },
  {
   "cell_type": "code",
   "execution_count": 18,
   "metadata": {},
   "outputs": [],
   "source": [
    "K = 2\n",
    "p_weight = Ks_p_weights[K - 1]\n",
    "init = Ks_inits[K - 1]\n",
    "results = results_K[K][init][p_weight]\n",
    "results_test_lls = [r['test_ll'] + max(r['lls']) for r in results]\n",
    "best_result = results[np.argmax(results_test_lls)]\n",
    "hmm = best_result['hmm']"
   ]
  },
  {
   "cell_type": "markdown",
   "metadata": {},
   "source": [
    "## Comparing inferred GLM Weights"
   ]
  },
  {
   "cell_type": "code",
   "execution_count": 21,
   "metadata": {},
   "outputs": [
    {
     "data": {
      "image/png": "[encoded data removed]",
      "text/plain": [
       "<Figure size 432x288 with 1 Axes>"
      ]
     },
     "metadata": {
      "needs_background": "light"
     },
     "output_type": "display_data"
    }
   ],
   "source": [
    "plot_glm_weights(hmm.observations.coef, task)"
   ]
  },
  {
   "cell_type": "markdown",
   "metadata": {},
   "source": [
    "## Comparing inferred psychometric curves"
   ]
  },
  {
   "cell_type": "code",
   "execution_count": 78,
   "metadata": {
    "scrolled": false
   },
   "outputs": [
    {
     "data": {
      "image/png": "[encoded data removed]",
      "text/plain": [
       "<Figure size 432x288 with 1 Axes>"
      ]
     },
     "metadata": {
      "needs_background": "light"
     },
     "output_type": "display_data"
    },
    {
     "data": {
      "image/png": "[encoded data removed]",
      "text/plain": [
       "<Figure size 432x288 with 1 Axes>"
      ]
     },
     "metadata": {
      "needs_background": "light"
     },
     "output_type": "display_data"
    }
   ],
   "source": [
    "plot_psychometric_coefs(hmm.observations.coef, task)"
   ]
  },
  {
   "cell_type": "markdown",
   "metadata": {},
   "source": [
    "## Testing accuracy: predicted states and predicted choices"
   ]
  },
  {
   "cell_type": "code",
   "execution_count": 85,
   "metadata": {},
   "outputs": [],
   "source": [
    "train_indices = best_result['train_indices'].astype(int)\n",
    "test_indices = best_result['test_indices'].astype(int)\n",
    "X, y = get_data_matrix(task)\n",
    "X_train = X[train_indices[:,0]]\n",
    "y_train = y[train_indices[:,0]]\n",
    "X_test = X[test_indices[:,1]]\n",
    "y_test = y[test_indices[:,1]]"
   ]
  },
  {
   "cell_type": "code",
   "execution_count": 86,
   "metadata": {},
   "outputs": [],
   "source": [
    "predicted_test = hmm.most_likely_states(\n",
    "    y_test, input=X_test\n",
    "    ) + 1\n",
    "predicted_train = hmm.most_likely_states(\n",
    "    y_train, input=X_train\n",
    "    ) + 1"
   ]
  },
  {
   "cell_type": "code",
   "execution_count": 87,
   "metadata": {
    "scrolled": true
   },
   "outputs": [
    {
     "data": {
      "image/png": "[encoded data removed]",
      "text/plain": [
       "<Figure size 1080x144 with 2 Axes>"
      ]
     },
     "metadata": {
      "needs_background": "light"
     },
     "output_type": "display_data"
    }
   ],
   "source": [
    "plt.figure(figsize=(15,2))\n",
    "plt.imshow(\n",
    "    predicted_test.reshape((1,-1)),\n",
    "    aspect=\"auto\")\n",
    "plt.xlabel(\"Trial Number\")\n",
    "plt.colorbar(boundaries=np.arange(K+1)+0.5, ticks=np.arange(K)+1)\n",
    "plt.show()"
   ]
  },
  {
   "cell_type": "code",
   "execution_count": 88,
   "metadata": {},
   "outputs": [
    {
     "data": {
      "image/png": "[encoded data removed]",
      "text/plain": [
       "<Figure size 1080x144 with 2 Axes>"
      ]
     },
     "metadata": {
      "needs_background": "light"
     },
     "output_type": "display_data"
    }
   ],
   "source": [
    "plt.figure(figsize=(15,2))\n",
    "plt.imshow(\n",
    "    predicted_train.reshape((1,-1)),\n",
    "    aspect=\"auto\")\n",
    "plt.xlabel(\"Trial Number\")\n",
    "plt.colorbar(boundaries=np.arange(K+1)+0.5, ticks=np.arange(K)+1)\n",
    "plt.show()"
   ]
  },
  {
   "cell_type": "markdown",
   "metadata": {},
   "source": [
    "## Generating Data"
   ]
  },
  {
   "cell_type": "code",
   "execution_count": 44,
   "metadata": {},
   "outputs": [],
   "source": [
    "animal = 'mSM63'\n",
    "folder = '/home/chingf/engram/data/musall/learning/neural/mSM63'\n",
    "dates = os.listdir(folder)\n",
    "dates.sort()\n",
    "dates = dates[1:]\n",
    "dates.sort(key = lambda date: datetime.strptime(date, '%d-%b-%Y')) "
   ]
  },
  {
   "cell_type": "code",
   "execution_count": 51,
   "metadata": {
    "code_folding": [
     0
    ],
    "scrolled": true
   },
   "outputs": [],
   "source": [
    "# Create dataset\n",
    "def _form_data_matrix(task_type):\n",
    "    aud_dates = dates[21:31]\n",
    "    audtac_dates = dates[31:41]\n",
    "    tacaud_dates = dates[41:68]\n",
    "    if task_type == \"aud\":\n",
    "        task_dates = aud_dates\n",
    "        multimodal = False\n",
    "    elif task_type == \"audtac\":\n",
    "        task_dates = audtac_dates\n",
    "        multimodal = True\n",
    "    elif task_type == \"tacaud\":\n",
    "        task_dates = tacaud_dates\n",
    "        multimodal = True\n",
    "    all_X = []\n",
    "    all_y = []\n",
    "    all_indices = []\n",
    "    is_aud_trial = []\n",
    "    curr_index = 0\n",
    "\n",
    "    for date_idx, date in enumerate(task_dates):\n",
    "        session = LearningSession(\n",
    "            animal, date, access_engram=True, load_neural=False\n",
    "            )\n",
    "        predictor = LearningPsychometricPredictor(\n",
    "            session, multimodal=multimodal)\n",
    "        trial_choices = predictor.trial_choices\n",
    "        nonnan_choices = np.logical_not(np.isnan(trial_choices))\n",
    "        nonnan_data = np.ones((nonnan_choices.shape)).astype(bool)\n",
    "        for trial in range(predictor.data.shape[0]):\n",
    "            if np.sum(np.isnan(predictor.data[trial,:])) > 0:\n",
    "                nonnan_data[trial] = False\n",
    "        nonnan_indices = np.logical_and(nonnan_choices, nonnan_data)\n",
    "        y = trial_choices[nonnan_indices].astype(int) - 1\n",
    "        y = y.reshape((-1,1))\n",
    "        X = predictor.data[nonnan_indices,:]\n",
    "        for idx, val in enumerate(nonnan_indices):\n",
    "            if not val:\n",
    "                continue\n",
    "            is_aud_trial.append(session.is_aud_trial[idx])\n",
    "        indices = np.vstack(\n",
    "            (np.arange(y.size) + curr_index, np.ones(y.size)*date_idx)\n",
    "            ).T\n",
    "        all_X.append(X)\n",
    "        all_y.append(y)\n",
    "        all_indices.append(indices)\n",
    "        curr_index += y.size\n",
    "    all_X = np.vstack(all_X)\n",
    "    all_y = np.vstack(all_y)\n",
    "    all_indices = np.vstack(all_indices)\n",
    "    if task_type == \"aud\":\n",
    "        filename = task_type + \"_glmhmm_data.p\"\n",
    "        _split_data_and_save(all_X, all_y, all_indices, filename)\n",
    "    else:\n",
    "        is_tac_trial = np.logical_not(is_aud_trial)\n",
    "        aud_filename = task_type + \"_aud_glmhmm_data.p\"\n",
    "        aud_X = all_X[is_aud_trial]\n",
    "        aud_y = all_y[is_aud_trial]\n",
    "        aud_indices = all_indices[is_aud_trial]\n",
    "        _split_data_and_save(\n",
    "            aud_X, aud_y, aud_indices, aud_filename\n",
    "            )\n",
    "        tac_filename = task_type + \"_tac_glmhmm_data.p\"\n",
    "        tac_X = all_X[is_tac_trial]\n",
    "        tac_y = all_y[is_tac_trial]\n",
    "        tac_indices = all_indices[is_tac_trial]\n",
    "        _split_data_and_save(\n",
    "            tac_X, tac_y, tac_indices, tac_filename\n",
    "            )\n",
    "    \n",
    "def _split_data_and_save(all_X, all_y, all_indices, filename):\n",
    "    data = {\n",
    "        \"X\": all_X, \"y\": all_y, \"indices\": all_indices\n",
    "        }\n",
    "    pickle.dump(data, open(filename, \"wb\"))"
   ]
  },
  {
   "cell_type": "code",
   "execution_count": 52,
   "metadata": {},
   "outputs": [],
   "source": [
    "task_type = \"aud\"\n",
    "_form_data_matrix(task_type)\n",
    "task_type = \"audtac\"\n",
    "_form_data_matrix(task_type)\n",
    "task_type = \"tacaud\"\n",
    "_form_data_matrix(task_type)"
   ]
  }
 ],
 "metadata": {
  "kernelspec": {
   "display_name": "Python 3",
   "language": "python",
   "name": "python3"
  },
  "language_info": {
   "codemirror_mode": {
    "name": "ipython",
    "version": 3
   },
   "file_extension": ".py",
   "mimetype": "text/x-python",
   "name": "python",
   "nbconvert_exporter": "python",
   "pygments_lexer": "ipython3",
   "version": "3.7.3"
  }
 },
 "nbformat": 4,
 "nbformat_minor": 2
}
