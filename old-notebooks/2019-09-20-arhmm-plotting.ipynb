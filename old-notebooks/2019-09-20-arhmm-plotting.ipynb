{
 "cells": [
  {
   "cell_type": "markdown",
   "metadata": {},
   "source": [
    "## Churchland Widefield Data\n",
    "\n",
    "This notebook demonstrates:\n",
    "- Plot PCA latents and PCA latent trajectory for left vs right\n",
    "- Plot PCA latents and PCA latent trajectory for reward vs non-reward\n",
    "- Check out trajectories using SLDS\n",
    "This is done in the representative mSM30 mouse, for the 10-Oct-2017 session. This is a sanity check, performed on the period around the presentation of the spout"
   ]
  },
  {
   "cell_type": "code",
   "execution_count": 1,
   "metadata": {},
   "outputs": [],
   "source": [
    "import numpy as np\n",
    "import pandas as pd\n",
    "import ssm\n",
    "import seaborn as sns\n",
    "import numpy.random as npr\n",
    "import matplotlib.pyplot as plt\n",
    "import numpy.linalg as la\n",
    "from collections import OrderedDict\n",
    "from matplotlib.font_manager import FontProperties\n",
    "from matplotlib.gridspec import GridSpec\n",
    "from mpl_toolkits.mplot3d import Axes3D\n",
    "from scipy.io import loadmat\n",
    "from sklearn.decomposition import PCA\n",
    "from sklearn.model_selection import train_test_split\n",
    "from ssm import LDS\n",
    "from Session import *\n",
    "from LVM import *\n",
    "import autograd.numpy as np\n",
    "import autograd.numpy.random as npr\n",
    "npr.seed(0)\n",
    "\n",
    "import matplotlib\n",
    "import matplotlib.pyplot as plt\n",
    "\n",
    "import ssm\n",
    "from ssm.util import find_permutation\n",
    "\n",
    "sns.set_style(\"white\")\n",
    "sns.set_context(\"talk\")"
   ]
  },
  {
   "cell_type": "markdown",
   "metadata": {},
   "source": [
    "# Load Data and Set Parameters"
   ]
  },
  {
   "cell_type": "code",
   "execution_count": 2,
   "metadata": {},
   "outputs": [],
   "source": [
    "session = Session(\"vistrained\", \"mSM30\", \"10-Oct-2017\")\n",
    "all_neural_data = session.neural['neural']\n",
    "all_neural_data = all_neural_data[5:45,:,:]\n",
    "concat_data, concat_data_test = train_test_split(all_neural_data, test_size=0.5)\n",
    "concat_data = concat_data.reshape((-1,session.num_components))\n",
    "concat_data_test = concat_data_test.reshape((-1,session.num_components))"
   ]
  },
  {
   "cell_type": "code",
   "execution_count": 3,
   "metadata": {},
   "outputs": [],
   "source": [
    "# HMM parameters\n",
    "T = concat_data.shape[0] # Number of time bins\n",
    "K = 0 # Number of discrete states (to be cross-validated)\n",
    "D = concat_data.shape[1] # Number of observed dimensions"
   ]
  },
  {
   "cell_type": "markdown",
   "metadata": {},
   "source": [
    "# Fit ARHMM for different values of $k$"
   ]
  },
  {
   "cell_type": "code",
   "execution_count": 4,
   "metadata": {},
   "outputs": [],
   "source": [
    "# Fit with both SGD and EM\n",
    "methods = [\"em\"]\n",
    "N_em_iters = 100\n",
    "obs = \"ar\" #Autoregressive HMM\n",
    "\n",
    "def fit_hmm(K):\n",
    "    results = {}\n",
    "    for method in methods:\n",
    "        model = ssm.HMM(K, D, observations=obs)\n",
    "        train_lls = model.fit(concat_data, method=method)\n",
    "        test_ll = model.log_likelihood(concat_data_test)\n",
    "        smoothed_y = model.smooth(concat_data)\n",
    "\n",
    "        # Permute to match the true states\n",
    "        smoothed_z = model.most_likely_states(concat_data)\n",
    "        results[(obs, method)] = (model, train_lls, test_ll, smoothed_z, smoothed_y)\n",
    "    return results"
   ]
  },
  {
   "cell_type": "code",
   "execution_count": 5,
   "metadata": {},
   "outputs": [
    {
     "data": {
      "application/vnd.jupyter.widget-view+json": {
       "model_id": "c7561219586e409e84b9aa40b76d7951",
       "version_major": 2,
       "version_minor": 0
      },
      "text/plain": [
       "HBox(children=(IntProgress(value=0), HTML(value='')))"
      ]
     },
     "metadata": {},
     "output_type": "display_data"
    },
    {
     "name": "stdout",
     "output_type": "stream",
     "text": [
      "\n"
     ]
    },
    {
     "data": {
      "application/vnd.jupyter.widget-view+json": {
       "model_id": "0b1202894ca94590b4d4b01f52bfbdf8",
       "version_major": 2,
       "version_minor": 0
      },
      "text/plain": [
       "HBox(children=(IntProgress(value=0), HTML(value='')))"
      ]
     },
     "metadata": {},
     "output_type": "display_data"
    },
    {
     "name": "stdout",
     "output_type": "stream",
     "text": [
      "\n"
     ]
    },
    {
     "data": {
      "application/vnd.jupyter.widget-view+json": {
       "model_id": "994375405e834749a99f7cdd98aed5a3",
       "version_major": 2,
       "version_minor": 0
      },
      "text/plain": [
       "HBox(children=(IntProgress(value=0), HTML(value='')))"
      ]
     },
     "metadata": {},
     "output_type": "display_data"
    },
    {
     "name": "stdout",
     "output_type": "stream",
     "text": [
      "\n"
     ]
    }
   ],
   "source": [
    "K_results = []\n",
    "for K in range(4,10,2):\n",
    "    results = fit_hmm(K)\n",
    "    K_results.append(results)"
   ]
  },
  {
   "cell_type": "markdown",
   "metadata": {},
   "source": [
    "# Check the log likelihood evolution over time"
   ]
  },
  {
   "cell_type": "code",
   "execution_count": 9,
   "metadata": {},
   "outputs": [
    {
     "data": {
      "image/png": "[encoded data removed]",
      "text/plain": [
       "<Figure size 864x576 with 1 Axes>"
      ]
     },
     "metadata": {
      "needs_background": "light"
     },
     "output_type": "display_data"
    }
   ],
   "source": [
    "# Plot log likelihoods\n",
    "plt.figure(figsize=(12, 8))\n",
    "method = methods[0]\n",
    "idx = 0\n",
    "for K in range(4, 10, 2):\n",
    "    results = K_results[idx]\n",
    "    line = None\n",
    "    _, lls, _, _, _ = results[(obs, method)]\n",
    "    color = line.get_color() if line is not None else None\n",
    "    line = plt.plot(lls, lw=1, color=color, label=\"K=%d\"%K)[0]\n",
    "    idx += 1\n",
    "\n",
    "xlim = plt.xlim()\n",
    "plt.xlim(xlim)\n",
    "plt.legend(loc=\"lower right\")\n",
    "plt.tight_layout()"
   ]
  },
  {
   "cell_type": "markdown",
   "metadata": {},
   "source": [
    "# Choose best $K$"
   ]
  },
  {
   "cell_type": "code",
   "execution_count": 15,
   "metadata": {},
   "outputs": [
    {
     "name": "stdout",
     "output_type": "stream",
     "text": [
      "K = 4\n",
      "Test log likelihood\n",
      "ar (em): 4084188.3026876114\n",
      "\n",
      "K = 6\n",
      "Test log likelihood\n",
      "ar (em): 4047003.4508278407\n",
      "\n",
      "K = 8\n",
      "Test log likelihood\n",
      "ar (em): 4027983.67555143\n",
      "\n"
     ]
    }
   ],
   "source": [
    "# Choosing the correct K\n",
    "# Print the test log likelihoods\n",
    "i = 0\n",
    "for K in range(4, 10, 2):\n",
    "    print(\"K = \" + str(K))\n",
    "    print(\"Test log likelihood\")\n",
    "    results = K_results[i]\n",
    "    _, _, test_ll, _, _ = results[(obs, method)]\n",
    "    print(\"{} ({}): {}\".format(obs, method, test_ll))\n",
    "    print()\n",
    "    i += 1"
   ]
  },
  {
   "cell_type": "markdown",
   "metadata": {},
   "source": [
    "# Check out inferred states"
   ]
  },
  {
   "cell_type": "code",
   "execution_count": 16,
   "metadata": {},
   "outputs": [],
   "source": [
    "session = Session(\"vistrained\", \"mSM30\", \"10-Oct-2017\")\n",
    "delay_period_indices = session.get_delay_period()\n",
    "min_delay_size = np.min([x[1]-x[0] for x in delay_period_indices])"
   ]
  },
  {
   "cell_type": "code",
   "execution_count": 21,
   "metadata": {},
   "outputs": [
    {
     "data": {
      "text/plain": [
       "Text(0.5, 0.98, 'Inferred Discrete States')"
      ]
     },
     "execution_count": 21,
     "metadata": {},
     "output_type": "execute_result"
    },
    {
     "data": {
      "image/png": "[encoded data removed]",
      "text/plain": [
       "<Figure size 864x576 with 5 Axes>"
      ]
     },
     "metadata": {
      "needs_background": "light"
     },
     "output_type": "display_data"
    }
   ],
   "source": [
    "best_K_idx = 0\n",
    "results = K_results[best_K_idx]\n",
    "method = methods[0]\n",
    "\n",
    "# Plotting inferred states\n",
    "fig, axs = plt.subplots(\n",
    "    nrows=5, ncols=1, figsize=(12, 8)\n",
    "    )\n",
    "\n",
    "# Plot the inferred states\n",
    "_, _, _, smoothed_z, _ = results[(obs, method)]\n",
    "for i in range(axs.size): # Extract trial by trial\n",
    "    ax = axs[i]\n",
    "    delay_start = delay_period_indices[i,:][0]\n",
    "    trial_z = smoothed_z[i*189:(i+1)*189]\n",
    "    trial_z_delay = trial_z[delay_start:delay_start+min_delay_size]\n",
    "    trial_z_delay = np.expand_dims(trial_z_delay, axis=0)\n",
    "    plt.sca(ax)\n",
    "    plt.imshow(trial_z_delay, aspect=\"auto\", cmap=\"jet\")\n",
    "    plt.xlabel(\"time\")\n",
    "plt.suptitle(\"Inferred Discrete States\")"
   ]
  }
 ],
 "metadata": {
  "kernelspec": {
   "display_name": "Python 3",
   "language": "python",
   "name": "python3"
  },
  "language_info": {
   "codemirror_mode": {
    "name": "ipython",
    "version": 3
   },
   "file_extension": ".py",
   "mimetype": "text/x-python",
   "name": "python",
   "nbconvert_exporter": "python",
   "pygments_lexer": "ipython3",
   "version": "3.7.3"
  }
 },
 "nbformat": 4,
 "nbformat_minor": 2
}
