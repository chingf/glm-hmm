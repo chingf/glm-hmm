{
 "cells": [
  {
   "cell_type": "markdown",
   "metadata": {},
   "source": [
    "# GLM HMM with EM on Simulated Data"
   ]
  },
  {
   "cell_type": "code",
   "execution_count": 1,
   "metadata": {
    "code_folding": [
     0
    ]
   },
   "outputs": [],
   "source": [
    "# Import statements\n",
    "import os\n",
    "import traceback\n",
    "import pickle\n",
    "from datetime import datetime\n",
    "import numpy as np\n",
    "import matplotlib.pyplot as plt\n",
    "from sklearn.linear_model import LogisticRegression\n",
    "from LearningSession import *\n",
    "from LearningChoicePredictor import *\n",
    "from LearningPsychometricPredictor import *\n",
    "from SyntheticHMM import *\n",
    "import ssm"
   ]
  },
  {
   "cell_type": "markdown",
   "metadata": {},
   "source": [
    "## Set up Data"
   ]
  },
  {
   "cell_type": "code",
   "execution_count": 2,
   "metadata": {
    "code_folding": [
     0,
     28
    ]
   },
   "outputs": [],
   "source": [
    "def plot_psychometric_clf(clf):\n",
    "    data_prevl = []\n",
    "    data_prevr = []\n",
    "    for delta in range(-35,36):\n",
    "        data_prevl.append([0,delta])\n",
    "        data_prevr.append([1,delta])\n",
    "    data_prevl = np.array(data_prevl)\n",
    "    data_prevr = np.array(data_prevr)\n",
    "    psychometric_curve_prevl = clf.predict_proba(data_prevl)\n",
    "    psychometric_curve_prevr = clf.predict_proba(data_prevr)\n",
    "    plt.plot(\n",
    "        range(-35, 36),\n",
    "        psychometric_curve_prevl[:,1], color=\"blue\",\n",
    "        label=\"Previous Choice Left\"\n",
    "        )\n",
    "    plt.plot(\n",
    "        range(-35, 36),\n",
    "        psychometric_curve_prevr[:,1], color=\"red\",\n",
    "        label=\"Previous Choice Right\"\n",
    "        )\n",
    "    plt.title(\"Probability of Choosing Right\")\n",
    "    plt.legend()\n",
    "    plt.xlabel(\"More Left Beeps >>> More Right Beeps\")\n",
    "    plt.ylim((0,1))\n",
    "    plt.axhline(0.5, color=\"gray\")\n",
    "    plt.axvline(0, color=\"gray\")\n",
    "    plt.show()\n",
    "\n",
    "def plot_psychometric_coefs(coefs):\n",
    "    clf = LogisticRegression()\n",
    "    clf.coef_ = np.array([coefs[:-1]])\n",
    "    clf.intercept_ = np.array([coefs[-1]])\n",
    "    plot_psychometric_clf(clf)"
   ]
  },
  {
   "cell_type": "code",
   "execution_count": 3,
   "metadata": {},
   "outputs": [],
   "source": [
    "train_size = 900\n",
    "test_size = 120"
   ]
  },
  {
   "cell_type": "code",
   "execution_count": 4,
   "metadata": {
    "code_folding": []
   },
   "outputs": [],
   "source": [
    "# Synthetic: X_train, X_test\n",
    "X_train = np.random.choice(np.arange(-30,31,1), size=train_size).reshape((-1,1))\n",
    "X_test = np.random.choice(np.arange(-30,31,1), size=test_size).reshape((-1,1))"
   ]
  },
  {
   "cell_type": "code",
   "execution_count": 5,
   "metadata": {},
   "outputs": [],
   "source": [
    "K = 2 # Number of states\n",
    "D = 1 # Dimension of observations"
   ]
  },
  {
   "cell_type": "code",
   "execution_count": 6,
   "metadata": {
    "code_folding": []
   },
   "outputs": [],
   "source": [
    "# Synthetic GLM states\n",
    "K = 2\n",
    "true_K = 2\n",
    "set_coef = np.array(\n",
    "    [[0.01, 0.08, 0.02],\n",
    "     [0.5, 0.12, 2]]#,\n",
    "     #[-1., 0.04, -0.50]]\n",
    "    )\n",
    "# set_coef = np.array(\n",
    "#     [[0.0, 1.5, 0.0],\n",
    "#      [-0.0, -1.5, -0.0]]#,\n",
    "#      #[-1., 0.04, -0.50]]\n",
    "#     )"
   ]
  },
  {
   "cell_type": "code",
   "execution_count": 8,
   "metadata": {},
   "outputs": [
    {
     "data": {
      "image/png": "[encoded data removed]",
      "text/plain": [
       "<Figure size 432x288 with 1 Axes>"
      ]
     },
     "metadata": {
      "needs_background": "light"
     },
     "output_type": "display_data"
    }
   ],
   "source": [
    "plot_psychometric_coefs(set_coef[1])"
   ]
  },
  {
   "cell_type": "markdown",
   "metadata": {},
   "source": [
    "## Generate Synthetic Data"
   ]
  },
  {
   "cell_type": "code",
   "execution_count": 26,
   "metadata": {},
   "outputs": [],
   "source": [
    "np.random.seed(0)\n",
    "transition_coefs = np.random.rand(K, set_coef.shape[1])*2\n",
    "true_hmm = SyntheticInputDrivenGLMHMM(\n",
    "    K, set_coef, transition_coefs\n",
    "    )"
   ]
  },
  {
   "cell_type": "code",
   "execution_count": 27,
   "metadata": {
    "code_folding": []
   },
   "outputs": [],
   "source": [
    "# Generate simulated data\n",
    "sim_states_train, sim_y_train = true_hmm.sample(X_train)\n",
    "sim_states_test, sim_y_test = true_hmm.sample(X_test)\n",
    "sim_y_train = sim_y_train.astype(int)\n",
    "sim_y_test = sim_y_test.astype(int)\n",
    "sim_X_test = np.hstack((sim_y_test[:-1], X_test[1:].copy()))\n",
    "sim_X_train = np.hstack((sim_y_train[:-1], X_train[1:].copy()))\n",
    "sim_y_test = sim_y_test[1:]\n",
    "sim_y_train = sim_y_train[1:]"
   ]
  },
  {
   "cell_type": "code",
   "execution_count": 28,
   "metadata": {},
   "outputs": [
    {
     "data": {
      "image/png": "[encoded data removed]",
      "text/plain": [
       "<Figure size 1080x36 with 1 Axes>"
      ]
     },
     "metadata": {
      "needs_background": "light"
     },
     "output_type": "display_data"
    }
   ],
   "source": [
    "plt.figure(figsize=(15,0.5))\n",
    "plt.imshow(\n",
    "    sim_states_test.reshape((1,-1)),\n",
    "    aspect=\"auto\")\n",
    "plt.show()"
   ]
  },
  {
   "cell_type": "markdown",
   "metadata": {},
   "source": [
    "## Fitting HMM and checking inferred transition matrix"
   ]
  },
  {
   "cell_type": "code",
   "execution_count": 138,
   "metadata": {
    "code_folding": []
   },
   "outputs": [],
   "source": [
    "def fit_hmm(\n",
    "    K, X_train, y_train,\n",
    "    sim_X_test, sim_y_test, transitions=\"standard\"\n",
    "    ):\n",
    "    fitted_lls = []\n",
    "    best_test_ll = -np.inf\n",
    "    best_ll_array = None\n",
    "    best_hmm = None\n",
    "    input_size = X_train.shape[1]\n",
    "    for _ in range(15):\n",
    "        tmp_hmm = ssm.HMM(\n",
    "            K, D, M=input_size, observations=\"logistic\",\n",
    "            transitions=transitions,\n",
    "            observation_kwargs={\"input_size\":input_size}\n",
    "            )\n",
    "        lls = tmp_hmm.fit(\n",
    "            y_train,\n",
    "            inputs=X_train,\n",
    "            method=\"sgd\"\n",
    "            )\n",
    "        test_ll = tmp_hmm.log_likelihood(sim_y_test, inputs=sim_X_test)\n",
    "        if test_ll > best_test_ll:\n",
    "            best_test_ll = test_ll\n",
    "            best_ll_array = lls\n",
    "            best_hmm = tmp_hmm\n",
    "    hmm = best_hmm\n",
    "    lls = best_ll_array\n",
    "    return hmm, lls, best_test_ll"
   ]
  },
  {
   "cell_type": "code",
   "execution_count": 139,
   "metadata": {
    "code_folding": []
   },
   "outputs": [
    {
     "data": {
      "application/vnd.jupyter.widget-view+json": {
       "model_id": "5bc143155bbe41cdb44b6dbc902a9b2e",
       "version_major": 2,
       "version_minor": 0
      },
      "text/plain": [
       "HBox(children=(IntProgress(value=0, max=1000), HTML(value='')))"
      ]
     },
     "metadata": {},
     "output_type": "display_data"
    },
    {
     "name": "stdout",
     "output_type": "stream",
     "text": [
      "\n"
     ]
    },
    {
     "data": {
      "application/vnd.jupyter.widget-view+json": {
       "model_id": "ede47b56ac9f420e90d358620f4e035d",
       "version_major": 2,
       "version_minor": 0
      },
      "text/plain": [
       "HBox(children=(IntProgress(value=0, max=1000), HTML(value='')))"
      ]
     },
     "metadata": {},
     "output_type": "display_data"
    },
    {
     "name": "stdout",
     "output_type": "stream",
     "text": [
      "\n"
     ]
    },
    {
     "data": {
      "application/vnd.jupyter.widget-view+json": {
       "model_id": "71f19f55208a4c45bfd76949afd17758",
       "version_major": 2,
       "version_minor": 0
      },
      "text/plain": [
       "HBox(children=(IntProgress(value=0, max=1000), HTML(value='')))"
      ]
     },
     "metadata": {},
     "output_type": "display_data"
    },
    {
     "name": "stdout",
     "output_type": "stream",
     "text": [
      "\n"
     ]
    },
    {
     "data": {
      "application/vnd.jupyter.widget-view+json": {
       "model_id": "5f0c2b23fa3a4703a6b9efb016544ec9",
       "version_major": 2,
       "version_minor": 0
      },
      "text/plain": [
       "HBox(children=(IntProgress(value=0, max=1000), HTML(value='')))"
      ]
     },
     "metadata": {},
     "output_type": "display_data"
    },
    {
     "name": "stdout",
     "output_type": "stream",
     "text": [
      "\n"
     ]
    },
    {
     "data": {
      "application/vnd.jupyter.widget-view+json": {
       "model_id": "f2e398005fef42c88e22c609adde3ce2",
       "version_major": 2,
       "version_minor": 0
      },
      "text/plain": [
       "HBox(children=(IntProgress(value=0, max=1000), HTML(value='')))"
      ]
     },
     "metadata": {},
     "output_type": "display_data"
    },
    {
     "name": "stdout",
     "output_type": "stream",
     "text": [
      "\n"
     ]
    },
    {
     "data": {
      "application/vnd.jupyter.widget-view+json": {
       "model_id": "d542c26108794e389399caa803608eae",
       "version_major": 2,
       "version_minor": 0
      },
      "text/plain": [
       "HBox(children=(IntProgress(value=0, max=1000), HTML(value='')))"
      ]
     },
     "metadata": {},
     "output_type": "display_data"
    },
    {
     "name": "stdout",
     "output_type": "stream",
     "text": [
      "\n"
     ]
    },
    {
     "data": {
      "application/vnd.jupyter.widget-view+json": {
       "model_id": "4aaff913fafe4296a2a3b7598c6e668c",
       "version_major": 2,
       "version_minor": 0
      },
      "text/plain": [
       "HBox(children=(IntProgress(value=0, max=1000), HTML(value='')))"
      ]
     },
     "metadata": {},
     "output_type": "display_data"
    },
    {
     "name": "stdout",
     "output_type": "stream",
     "text": [
      "\n"
     ]
    },
    {
     "data": {
      "application/vnd.jupyter.widget-view+json": {
       "model_id": "827344b7f2164a4ea2e0fc11ff310646",
       "version_major": 2,
       "version_minor": 0
      },
      "text/plain": [
       "HBox(children=(IntProgress(value=0, max=1000), HTML(value='')))"
      ]
     },
     "metadata": {},
     "output_type": "display_data"
    },
    {
     "name": "stdout",
     "output_type": "stream",
     "text": [
      "\n"
     ]
    },
    {
     "data": {
      "application/vnd.jupyter.widget-view+json": {
       "model_id": "1acc8f091dd94ff2909fc7d26bbe71f9",
       "version_major": 2,
       "version_minor": 0
      },
      "text/plain": [
       "HBox(children=(IntProgress(value=0, max=1000), HTML(value='')))"
      ]
     },
     "metadata": {},
     "output_type": "display_data"
    },
    {
     "name": "stdout",
     "output_type": "stream",
     "text": [
      "\n"
     ]
    },
    {
     "data": {
      "application/vnd.jupyter.widget-view+json": {
       "model_id": "d195ccac4c9946b9b3095ebe939128c7",
       "version_major": 2,
       "version_minor": 0
      },
      "text/plain": [
       "HBox(children=(IntProgress(value=0, max=1000), HTML(value='')))"
      ]
     },
     "metadata": {},
     "output_type": "display_data"
    },
    {
     "name": "stdout",
     "output_type": "stream",
     "text": [
      "\n"
     ]
    },
    {
     "data": {
      "application/vnd.jupyter.widget-view+json": {
       "model_id": "a9cccc3cba214aada07ca84df73a4eba",
       "version_major": 2,
       "version_minor": 0
      },
      "text/plain": [
       "HBox(children=(IntProgress(value=0, max=1000), HTML(value='')))"
      ]
     },
     "metadata": {},
     "output_type": "display_data"
    },
    {
     "name": "stdout",
     "output_type": "stream",
     "text": [
      "\n"
     ]
    },
    {
     "data": {
      "application/vnd.jupyter.widget-view+json": {
       "model_id": "4193d9a3cba24fd696f6b41e231f5500",
       "version_major": 2,
       "version_minor": 0
      },
      "text/plain": [
       "HBox(children=(IntProgress(value=0, max=1000), HTML(value='')))"
      ]
     },
     "metadata": {},
     "output_type": "display_data"
    },
    {
     "name": "stdout",
     "output_type": "stream",
     "text": [
      "\n"
     ]
    },
    {
     "data": {
      "application/vnd.jupyter.widget-view+json": {
       "model_id": "304e470accd24dceafe9f732f8366ca8",
       "version_major": 2,
       "version_minor": 0
      },
      "text/plain": [
       "HBox(children=(IntProgress(value=0, max=1000), HTML(value='')))"
      ]
     },
     "metadata": {},
     "output_type": "display_data"
    },
    {
     "name": "stdout",
     "output_type": "stream",
     "text": [
      "\n"
     ]
    },
    {
     "data": {
      "application/vnd.jupyter.widget-view+json": {
       "model_id": "947e01de9ec4443c888c9981c93551fe",
       "version_major": 2,
       "version_minor": 0
      },
      "text/plain": [
       "HBox(children=(IntProgress(value=0, max=1000), HTML(value='')))"
      ]
     },
     "metadata": {},
     "output_type": "display_data"
    },
    {
     "name": "stdout",
     "output_type": "stream",
     "text": [
      "\n"
     ]
    },
    {
     "data": {
      "application/vnd.jupyter.widget-view+json": {
       "model_id": "ab30feafc09344cab341cdd908813417",
       "version_major": 2,
       "version_minor": 0
      },
      "text/plain": [
       "HBox(children=(IntProgress(value=0, max=1000), HTML(value='')))"
      ]
     },
     "metadata": {},
     "output_type": "display_data"
    },
    {
     "name": "stdout",
     "output_type": "stream",
     "text": [
      "\n"
     ]
    }
   ],
   "source": [
    "Ks = [2]\n",
    "K_hmms = []\n",
    "K_lls = []\n",
    "K_test_lls = []\n",
    "for K in Ks:\n",
    "    _hmm, _lls, _test_ll = fit_hmm(\n",
    "        K, sim_X_train, sim_y_train,\n",
    "        sim_X_test, sim_y_test,\n",
    "        transitions=\"inputdriven\"\n",
    "        )\n",
    "    K_hmms.append(_hmm)\n",
    "    K_lls.append(_lls)\n",
    "    K_test_lls.append(_test_ll)"
   ]
  },
  {
   "cell_type": "code",
   "execution_count": 76,
   "metadata": {
    "code_folding": [],
    "scrolled": false
   },
   "outputs": [
    {
     "data": {
      "image/png": "[encoded data removed]",
      "text/plain": [
       "<Figure size 504x360 with 1 Axes>"
      ]
     },
     "metadata": {
      "needs_background": "light"
     },
     "output_type": "display_data"
    }
   ],
   "source": [
    "# Plot Log-Likes as a function of dimensions\n",
    "plt.figure(figsize=(7,5))\n",
    "plt.plot(Ks, K_test_lls, linewidth=2)\n",
    "plt.xlabel(\"Number of States\")\n",
    "plt.ylabel(\"Test Set Log Likelihood\")\n",
    "plt.xticks(Ks)\n",
    "plt.show()"
   ]
  },
  {
   "cell_type": "code",
   "execution_count": 58,
   "metadata": {
    "code_folding": [
     0
    ]
   },
   "outputs": [
    {
     "data": {
      "text/plain": [
       "Text(0, 0.5, 'Current Class')"
      ]
     },
     "execution_count": 58,
     "metadata": {},
     "output_type": "execute_result"
    },
    {
     "data": {
      "image/png": "[encoded data removed]",
      "text/plain": [
       "<Figure size 432x288 with 2 Axes>"
      ]
     },
     "metadata": {
      "needs_background": "light"
     },
     "output_type": "display_data"
    }
   ],
   "source": [
    "# Plot inferred transition matrix\n",
    "plt.imshow(hmm.transitions.transition_matrix)\n",
    "plt.colorbar()\n",
    "plt.title(\"Transition Matrix\")\n",
    "plt.xticks(np.arange(K), np.arange(K))\n",
    "plt.yticks(np.arange(K), np.arange(K))\n",
    "plt.xlabel(\"Next Class\")\n",
    "plt.ylabel(\"Current Class\")"
   ]
  },
  {
   "cell_type": "markdown",
   "metadata": {},
   "source": [
    "## Comparing inferred psychometric curves"
   ]
  },
  {
   "cell_type": "code",
   "execution_count": 140,
   "metadata": {},
   "outputs": [],
   "source": [
    "hmm = K_hmms[Ks.index(true_K)]"
   ]
  },
  {
   "cell_type": "code",
   "execution_count": 141,
   "metadata": {},
   "outputs": [],
   "source": [
    "inferred_states_train = hmm.most_likely_states(\n",
    "    sim_y_train, input=sim_X_train\n",
    "    )"
   ]
  },
  {
   "cell_type": "code",
   "execution_count": 144,
   "metadata": {
    "code_folding": []
   },
   "outputs": [],
   "source": [
    "%%capture\n",
    "clf = LogisticRegression().fit(\n",
    "    sim_X_train[inferred_states_train==1],\n",
    "    sim_y_train[inferred_states_train==1]\n",
    "    )"
   ]
  },
  {
   "cell_type": "code",
   "execution_count": 145,
   "metadata": {},
   "outputs": [
    {
     "data": {
      "image/png": "[encoded data removed]",
      "text/plain": [
       "<Figure size 432x288 with 1 Axes>"
      ]
     },
     "metadata": {
      "needs_background": "light"
     },
     "output_type": "display_data"
    }
   ],
   "source": [
    "plot_psychometric_clf(clf)"
   ]
  },
  {
   "cell_type": "code",
   "execution_count": 146,
   "metadata": {},
   "outputs": [
    {
     "data": {
      "image/png": "[encoded data removed]",
      "text/plain": [
       "<Figure size 432x288 with 1 Axes>"
      ]
     },
     "metadata": {
      "needs_background": "light"
     },
     "output_type": "display_data"
    }
   ],
   "source": [
    "plot_psychometric_coefs(true_hmm.coefs[1])"
   ]
  },
  {
   "cell_type": "code",
   "execution_count": 147,
   "metadata": {},
   "outputs": [
    {
     "data": {
      "text/plain": [
       "array([[0.01, 0.08, 0.02],\n",
       "       [0.5 , 0.12, 2.  ]])"
      ]
     },
     "execution_count": 147,
     "metadata": {},
     "output_type": "execute_result"
    }
   ],
   "source": [
    "true_hmm.coefs"
   ]
  },
  {
   "cell_type": "code",
   "execution_count": 148,
   "metadata": {},
   "outputs": [
    {
     "data": {
      "text/plain": [
       "array([[-0.46462038,  0.07255887]])"
      ]
     },
     "execution_count": 148,
     "metadata": {},
     "output_type": "execute_result"
    }
   ],
   "source": [
    "clf.coef_"
   ]
  },
  {
   "cell_type": "code",
   "execution_count": 149,
   "metadata": {},
   "outputs": [
    {
     "data": {
      "text/plain": [
       "array([[ 1.68407065,  0.07971389,  1.47506282],\n",
       "       [-0.07474584,  0.07853271, -0.06925161]])"
      ]
     },
     "execution_count": 149,
     "metadata": {},
     "output_type": "execute_result"
    }
   ],
   "source": [
    "hmm.observations.coef"
   ]
  },
  {
   "cell_type": "code",
   "execution_count": 151,
   "metadata": {
    "code_folding": []
   },
   "outputs": [
    {
     "data": {
      "image/png": "[encoded data removed]",
      "text/plain": [
       "<Figure size 432x288 with 1 Axes>"
      ]
     },
     "metadata": {
      "needs_background": "light"
     },
     "output_type": "display_data"
    }
   ],
   "source": [
    "plot_psychometric_coefs(hmm.observations.coef[1])"
   ]
  },
  {
   "cell_type": "code",
   "execution_count": null,
   "metadata": {},
   "outputs": [],
   "source": [
    " hmm.observations.coef"
   ]
  },
  {
   "cell_type": "code",
   "execution_count": null,
   "metadata": {},
   "outputs": [],
   "source": [
    "set_coef"
   ]
  },
  {
   "cell_type": "markdown",
   "metadata": {},
   "source": [
    "## Testing accuracy: predicted states and predicted choices"
   ]
  },
  {
   "cell_type": "code",
   "execution_count": 65,
   "metadata": {},
   "outputs": [
    {
     "data": {
      "text/plain": [
       "0.0"
      ]
     },
     "execution_count": 65,
     "metadata": {},
     "output_type": "execute_result"
    }
   ],
   "source": [
    "np.sum(\n",
    "    np.equal(\n",
    "        hmm.most_likely_states(sim_y_test, input=sim_X_test),\n",
    "        sim_states_test[1:]\n",
    "        )\n",
    "    )/sim_states_test[1:].size"
   ]
  },
  {
   "cell_type": "code",
   "execution_count": 152,
   "metadata": {},
   "outputs": [
    {
     "data": {
      "image/png": "[encoded data removed]",
      "text/plain": [
       "<Figure size 1080x36 with 1 Axes>"
      ]
     },
     "metadata": {
      "needs_background": "light"
     },
     "output_type": "display_data"
    }
   ],
   "source": [
    "plt.figure(figsize=(15,0.5))\n",
    "plt.imshow(\n",
    "    hmm.most_likely_states(sim_y_test, input=sim_X_test).reshape((1,-1)),\n",
    "    aspect=\"auto\")\n",
    "plt.xlabel(\"Trial Number\")\n",
    "plt.show()"
   ]
  },
  {
   "cell_type": "code",
   "execution_count": 153,
   "metadata": {},
   "outputs": [
    {
     "data": {
      "image/png": "[encoded data removed]",
      "text/plain": [
       "<Figure size 1080x36 with 1 Axes>"
      ]
     },
     "metadata": {
      "needs_background": "light"
     },
     "output_type": "display_data"
    }
   ],
   "source": [
    "plt.figure(figsize=(15,0.5))\n",
    "plt.imshow(\n",
    "    sim_states_test.reshape((1,-1)),\n",
    "    aspect=\"auto\")\n",
    "plt.show()"
   ]
  },
  {
   "cell_type": "code",
   "execution_count": 114,
   "metadata": {},
   "outputs": [
    {
     "data": {
      "image/png": "[encoded data removed]",
      "text/plain": [
       "<Figure size 1080x36 with 1 Axes>"
      ]
     },
     "metadata": {
      "needs_background": "light"
     },
     "output_type": "display_data"
    }
   ],
   "source": [
    "plt.figure(figsize=(15,0.5))\n",
    "plt.imshow(\n",
    "    hmm.most_likely_states(sim_y_train, input=sim_X_train).reshape((1,-1)),\n",
    "    aspect=\"auto\")\n",
    "plt.xlabel(\"Trial Number\")\n",
    "plt.show()"
   ]
  },
  {
   "cell_type": "code",
   "execution_count": 115,
   "metadata": {},
   "outputs": [
    {
     "data": {
      "image/png": "[encoded data removed]",
      "text/plain": [
       "<Figure size 1080x36 with 1 Axes>"
      ]
     },
     "metadata": {
      "needs_background": "light"
     },
     "output_type": "display_data"
    }
   ],
   "source": [
    "plt.figure(figsize=(15,0.5))\n",
    "plt.imshow(\n",
    "    sim_states_train.reshape((1,-1)),\n",
    "    aspect=\"auto\")\n",
    "plt.show()"
   ]
  },
  {
   "cell_type": "code",
   "execution_count": 33,
   "metadata": {},
   "outputs": [
    {
     "name": "stdout",
     "output_type": "stream",
     "text": [
      "Proportion Identical\n"
     ]
    },
    {
     "ename": "NameError",
     "evalue": "name 'predicted' is not defined",
     "output_type": "error",
     "traceback": [
      "\u001b[0;31m---------------------------------------------------------------------------\u001b[0m",
      "\u001b[0;31mNameError\u001b[0m                                 Traceback (most recent call last)",
      "\u001b[0;32m<ipython-input-33-1c6ca4f8f530>\u001b[0m in \u001b[0;36m<module>\u001b[0;34m\u001b[0m\n\u001b[1;32m      1\u001b[0m \u001b[0mprint\u001b[0m\u001b[0;34m(\u001b[0m\u001b[0;34m\"Proportion Identical\"\u001b[0m\u001b[0;34m)\u001b[0m\u001b[0;34m\u001b[0m\u001b[0;34m\u001b[0m\u001b[0m\n\u001b[0;32m----> 2\u001b[0;31m \u001b[0mprint\u001b[0m\u001b[0;34m(\u001b[0m\u001b[0mnp\u001b[0m\u001b[0;34m.\u001b[0m\u001b[0msum\u001b[0m\u001b[0;34m(\u001b[0m\u001b[0mpredicted\u001b[0m\u001b[0;34m.\u001b[0m\u001b[0mastype\u001b[0m\u001b[0;34m(\u001b[0m\u001b[0mbool\u001b[0m\u001b[0;34m)\u001b[0m \u001b[0;34m==\u001b[0m \u001b[0msim_z_test\u001b[0m\u001b[0;34m.\u001b[0m\u001b[0mastype\u001b[0m\u001b[0;34m(\u001b[0m\u001b[0mbool\u001b[0m\u001b[0;34m)\u001b[0m\u001b[0;34m)\u001b[0m\u001b[0;34m/\u001b[0m\u001b[0mpredicted\u001b[0m\u001b[0;34m.\u001b[0m\u001b[0msize\u001b[0m\u001b[0;34m)\u001b[0m\u001b[0;34m\u001b[0m\u001b[0;34m\u001b[0m\u001b[0m\n\u001b[0m\u001b[1;32m      3\u001b[0m \u001b[0mprint\u001b[0m\u001b[0;34m(\u001b[0m\u001b[0mnp\u001b[0m\u001b[0;34m.\u001b[0m\u001b[0msum\u001b[0m\u001b[0;34m(\u001b[0m\u001b[0mnp\u001b[0m\u001b[0;34m.\u001b[0m\u001b[0mlogical_not\u001b[0m\u001b[0;34m(\u001b[0m\u001b[0mpredicted\u001b[0m\u001b[0;34m.\u001b[0m\u001b[0mastype\u001b[0m\u001b[0;34m(\u001b[0m\u001b[0mbool\u001b[0m\u001b[0;34m)\u001b[0m\u001b[0;34m)\u001b[0m \u001b[0;34m==\u001b[0m \u001b[0msim_z_test\u001b[0m\u001b[0;34m.\u001b[0m\u001b[0mastype\u001b[0m\u001b[0;34m(\u001b[0m\u001b[0mbool\u001b[0m\u001b[0;34m)\u001b[0m\u001b[0;34m)\u001b[0m\u001b[0;34m/\u001b[0m\u001b[0mpredicted\u001b[0m\u001b[0;34m.\u001b[0m\u001b[0msize\u001b[0m\u001b[0;34m)\u001b[0m\u001b[0;34m\u001b[0m\u001b[0;34m\u001b[0m\u001b[0m\n",
      "\u001b[0;31mNameError\u001b[0m: name 'predicted' is not defined"
     ]
    }
   ],
   "source": [
    "print(\"Proportion Identical\")\n",
    "print(np.sum(predicted.astype(bool) == sim_z_test.astype(bool))/predicted.size)\n",
    "print(np.sum(np.logical_not(predicted.astype(bool)) == sim_z_test.astype(bool))/predicted.size)"
   ]
  },
  {
   "cell_type": "markdown",
   "metadata": {},
   "source": [
    "## Data size sensitivitiy: likelihood/data point"
   ]
  },
  {
   "cell_type": "code",
   "execution_count": null,
   "metadata": {},
   "outputs": [],
   "source": [
    "def fit_hmm_datasize(train_size):\n",
    "    test_size = 100\n",
    "    X_train = np.random.choice(np.arange(-30,31,1), size=train_size).reshape((-1,1))\n",
    "    X_test = np.random.choice(np.arange(-30,31,1), size=test_size).reshape((-1,1))\n",
    "    transition_coefs = np.random.rand(true_K, set_coef.shape[1])*2\n",
    "    true_hmm = SyntheticInputDrivenGLMHMM(\n",
    "        true_K, set_coef, transition_coefs\n",
    "        )\n",
    "    # Generate simulated data\n",
    "    sim_states_train, sim_y_train = true_hmm.sample(X_train)\n",
    "    sim_states_test, sim_y_test = true_hmm.sample(X_test)\n",
    "    sim_y_train = sim_y_train.astype(int)\n",
    "    sim_y_test = sim_y_test.astype(int)\n",
    "    sim_X_test = np.hstack((sim_y_test[:-1], X_test[1:].copy()))\n",
    "    sim_X_train = np.hstack((sim_y_train[:-1], X_train[1:].copy()))\n",
    "    sim_y_test = sim_y_test[1:]\n",
    "    sim_y_train = sim_y_train[1:]\n",
    "    hmm, lls, test_ll = fit_hmm(\n",
    "        true_K, sim_X_train, sim_y_train,\n",
    "        sim_X_test, sim_y_test, transitions=\"inputdriven\")\n",
    "    result = {}\n",
    "    result['hmm'] = hmm\n",
    "    result['lls'] = lls\n",
    "    result['test_ll'] = test_ll\n",
    "    result['sim_X_train'] = sim_X_train\n",
    "    result['sim_y_train'] = sim_y_train\n",
    "    result['sim_X_test'] = sim_X_test\n",
    "    result['sim_y_test'] = sim_y_test\n",
    "    return result"
   ]
  },
  {
   "cell_type": "code",
   "execution_count": null,
   "metadata": {
    "scrolled": true
   },
   "outputs": [],
   "source": [
    "%%capture\n",
    "train_sizes = np.arange(300,800,50)\n",
    "results = []\n",
    "for train_size in train_sizes:\n",
    "    result = fit_hmm_datasize(train_size)\n",
    "    results.append(result)"
   ]
  },
  {
   "cell_type": "code",
   "execution_count": null,
   "metadata": {},
   "outputs": [],
   "source": [
    "results[0]['test_ll']"
   ]
  },
  {
   "cell_type": "code",
   "execution_count": null,
   "metadata": {},
   "outputs": [],
   "source": [
    "K_datasize_lls"
   ]
  },
  {
   "cell_type": "code",
   "execution_count": null,
   "metadata": {},
   "outputs": [],
   "source": [
    "K_datasize_lls = []\n",
    "for result in results:\n",
    "    K_datasize_lls.append(result['test_ll'])\n",
    "plt.figure(figsize=(7,5))\n",
    "plt.plot(train_sizes, K_datasize_lls, linewidth=2)\n",
    "plt.xlabel(\"Size of Traning Set\")\n",
    "plt.ylabel(\"Test Set Log Likelihood\")\n",
    "plt.xticks(train_sizes)\n",
    "plt.show()"
   ]
  },
  {
   "cell_type": "code",
   "execution_count": null,
   "metadata": {},
   "outputs": [],
   "source": [
    "datasize_max_lls = [max(ll) for ll in datasize_lls]\n",
    "plt.xlabel(\"Log Likelihood/Data point\")\n",
    "plt.ylabel(\"Size of Training Data\")\n",
    "plt.plot(train_sizes, datasize_max_lls/train_sizes)"
   ]
  },
  {
   "cell_type": "code",
   "execution_count": null,
   "metadata": {},
   "outputs": [],
   "source": [
    "hmm = results[np.argwhere(train_sizes == 500)[0,0]]['hmm']"
   ]
  },
  {
   "cell_type": "code",
   "execution_count": null,
   "metadata": {},
   "outputs": [],
   "source": [
    "np.argwhere(train_sizes == 600)[0,0]"
   ]
  },
  {
   "cell_type": "code",
   "execution_count": null,
   "metadata": {},
   "outputs": [],
   "source": []
  }
 ],
 "metadata": {
  "kernelspec": {
   "display_name": "Python 3",
   "language": "python",
   "name": "python3"
  },
  "language_info": {
   "codemirror_mode": {
    "name": "ipython",
    "version": 3
   },
   "file_extension": ".py",
   "mimetype": "text/x-python",
   "name": "python",
   "nbconvert_exporter": "python",
   "pygments_lexer": "ipython3",
   "version": "3.7.3"
  }
 },
 "nbformat": 4,
 "nbformat_minor": 2
}
