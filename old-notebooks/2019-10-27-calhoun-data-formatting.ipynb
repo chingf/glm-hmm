{
 "cells": [
  {
   "cell_type": "code",
   "execution_count": 6,
   "metadata": {},
   "outputs": [],
   "source": [
    "import numpy\n",
    "from Session import *\n",
    "from ChoicePredictor import *"
   ]
  },
  {
   "cell_type": "code",
   "execution_count": 10,
   "metadata": {},
   "outputs": [],
   "source": [
    "mouse = \"mSM34\"\n",
    "day = \"02-Dec-2017\"\n",
    "session = Session(\"vistrained\", mouse, day)\n",
    "lrchoice = LRChoice(session, \"full\")\n",
    "results = lrchoice.fit_all()"
   ]
  },
  {
   "cell_type": "code",
   "execution_count": 13,
   "metadata": {},
   "outputs": [
    {
     "data": {
      "image/png": "[encoded data removed]",
      "text/plain": [
       "<Figure size 432x288 with 1 Axes>"
      ]
     },
     "metadata": {
      "needs_background": "light"
     },
     "output_type": "display_data"
    }
   ],
   "source": [
    "import matplotlib.pyplot as plt\n",
    "plt.plot(results['scores'])\n",
    "plt.show()"
   ]
  },
  {
   "cell_type": "code",
   "execution_count": 51,
   "metadata": {},
   "outputs": [
    {
     "name": "stdout",
     "output_type": "stream",
     "text": [
      "Nan choice\n",
      "Nan choice\n",
      "Nan choice\n",
      "Nan choice\n",
      "Nan choice\n",
      "Nan choice\n",
      "Nan choice\n",
      "Nan choice\n",
      "Nan choice\n",
      "Nan choice\n",
      "Nan choice\n",
      "Nan choice\n",
      "Nan choice\n",
      "Nan choice\n",
      "Nan choice\n",
      "Nan choice\n",
      "Nan choice\n",
      "Nan choice\n",
      "Nan choice\n",
      "Nan choice\n",
      "Nan choice\n",
      "Nan choice\n",
      "Nan choice\n",
      "Nan choice\n",
      "Nan choice\n",
      "Nan choice\n",
      "Nan choice\n",
      "Nan choice\n",
      "Nan choice\n",
      "Nan choice\n",
      "Nan choice\n",
      "Nan choice\n",
      "Nan choice\n",
      "Nan choice\n",
      "Nan choice\n"
     ]
    }
   ],
   "source": [
    "num_states = 3\n",
    "symb = []\n",
    "emit_w = []\n",
    "trans_w = []\n",
    "stim = []\n",
    "\n",
    "data = lrchoice.data\n",
    "choices = lrchoice.trial_choices\n",
    "num_bins = data.shape[1]\n",
    "num_regressors = data.shape[2]*2\n",
    "\n",
    "for trial in range(session.num_trials):\n",
    "    symb_t = []\n",
    "    stim_t = []\n",
    "    if np.isnan(choices[trial]):\n",
    "        print(\"Nan choice\")\n",
    "        continue\n",
    "    for index in range(num_bins - 1):\n",
    "        symb_t.append(choices[trial])\n",
    "        regressors = data[trial, index:index+2, :].flatten()\n",
    "        if regressors.size != 484:\n",
    "            import pdb; pdb.set_trace()\n",
    "        stim_t.append(regressors)\n",
    "    symb_t = np.array(symb_t)\n",
    "    stim_t = np.array(stim_t)\n",
    "    symb.append(symb_t)\n",
    "    stim.append(stim_t)\n",
    "symb = np.array(symb)\n",
    "stim = np.array(stim)\n",
    "trans_w = np.ones((num_states, num_states, num_regressors))/(1.0*num_states*num_regressors)\n",
    "emit_w = np.zeros((num_states, 2, num_regressors))\n",
    "bin_indices = np.linspace(0, num_bins, num_states+1)\n",
    "for state_idx in range(bin_indices.size - 1):\n",
    "    start_bin = int(bin_indices[state_idx]//2)\n",
    "    end_bin = int(bin_indices[state_idx+1]//2)\n",
    "    emit_weights = []\n",
    "    for lr in results['models'][start_bin:end_bin]:\n",
    "        emit_weights.append(lr.coef_.squeeze())\n",
    "    emit_weights = np.array(emit_weights)\n",
    "    avg_emit_weights = np.mean(emit_weights, axis=0)\n",
    "    emit_w[state_idx,0,:] = -1*avg_emit_weights\n",
    "    emit_w[state_idx,1,:] = avg_emit_weights"
   ]
  },
  {
   "cell_type": "code",
   "execution_count": 52,
   "metadata": {},
   "outputs": [],
   "source": [
    "from scipy.io import savemat\n",
    "savemat(\n",
    "    \"../matlab_code/calhoun_\" + mouse + \"_\" + day + \"_\" + str(num_states) + \".mat\",\n",
    "    {'num_states': num_states,\n",
    "     'symb': symb,\n",
    "     'emit_w': emit_w,\n",
    "     'trans_w': trans_w,\n",
    "     'stim': stim\n",
    "    }\n",
    "    )"
   ]
  },
  {
   "cell_type": "code",
   "execution_count": null,
   "metadata": {},
   "outputs": [],
   "source": []
  }
 ],
 "metadata": {
  "kernelspec": {
   "display_name": "Python 3",
   "language": "python",
   "name": "python3"
  },
  "language_info": {
   "codemirror_mode": {
    "name": "ipython",
    "version": 3
   },
   "file_extension": ".py",
   "mimetype": "text/x-python",
   "name": "python",
   "nbconvert_exporter": "python",
   "pygments_lexer": "ipython3",
   "version": "3.7.3"
  }
 },
 "nbformat": 4,
 "nbformat_minor": 2
}
