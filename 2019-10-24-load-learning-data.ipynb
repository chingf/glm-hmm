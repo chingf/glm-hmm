{
 "cells": [
  {
   "cell_type": "code",
   "execution_count": 45,
   "metadata": {},
   "outputs": [],
   "source": [
    "import numpy as np\n",
    "import h5py\n",
    "from scipy.io import loadmat"
   ]
  },
  {
   "cell_type": "markdown",
   "metadata": {},
   "source": [
    "## Loading Vc.mat"
   ]
  },
  {
   "cell_type": "code",
   "execution_count": 103,
   "metadata": {},
   "outputs": [],
   "source": [
    "animal = 'mSM63'\n",
    "day = '01-Aug-2018'\n",
    "path = '/home/chingf/engram/data/musall/learning/neural/' +\\\n",
    "    animal + '/' + day + '/' + 'Vc.mat'"
   ]
  },
  {
   "cell_type": "code",
   "execution_count": 104,
   "metadata": {},
   "outputs": [],
   "source": [
    "contents = h5py.File(path, 'r')"
   ]
  },
  {
   "cell_type": "code",
   "execution_count": 35,
   "metadata": {},
   "outputs": [],
   "source": [
    "trials = np.array(contents['trials'])\n",
    "Sv = np.array(contents['Sv'])\n",
    "U = np.array(contents['U'])\n",
    "Vc = np.array(contents['Vc'])\n",
    "bTrials = np.array(contents['bTrials'])\n",
    "blueFrametimes = np.array(contents['blueFrametimes'])\n",
    "totalVar = np.array(contents['totalVar'])"
   ]
  },
  {
   "cell_type": "code",
   "execution_count": 39,
   "metadata": {},
   "outputs": [],
   "source": [
    "num_trials, num_bins, num_components = Vc.shape"
   ]
  },
  {
   "cell_type": "markdown",
   "metadata": {},
   "source": [
    "## Loading trialmarkers.mat\n",
    "Left is 1, Right is 2"
   ]
  },
  {
   "cell_type": "code",
   "execution_count": 106,
   "metadata": {},
   "outputs": [],
   "source": [
    "path = '/home/chingf/engram/data/musall/learning/neural/' +\\\n",
    "    animal + '/' + day + '/' + 'trialmarkers.mat'"
   ]
  },
  {
   "cell_type": "code",
   "execution_count": 107,
   "metadata": {},
   "outputs": [],
   "source": [
    "trialmarkers = loadmat(path)\n",
    "#contents = h5py.File(path, 'r')"
   ]
  },
  {
   "cell_type": "code",
   "execution_count": 49,
   "metadata": {},
   "outputs": [],
   "source": [
    "lickL = np.array(trialmarkers['lickL'])\n",
    "lickR = np.array(trialmarkers['lickR'])\n",
    "leverIn = np.array(trialmarkers['leverIn'])\n",
    "levGrabL = np.array(trialmarkers['levGrabL'])\n",
    "levGrabR = np.array(trialmarkers['levGrabR'])\n",
    "levReleaseL = np.array(trialmarkers['levReleaseL'])\n",
    "levReleaseR = np.array(trialmarkers['levReleaseR'])\n",
    "water = np.array(trialmarkers['water'])\n",
    "handleSounds = np.array(trialmarkers['handleSounds'])\n",
    "tacStimL = np.array(trialmarkers['tacStimL'])\n",
    "tacStimR = np.array(trialmarkers['tacStimR'])\n",
    "audStimL = np.array(trialmarkers['audStimL'])\n",
    "audStimR = np.array(trialmarkers['audStimR'])\n",
    "spoutTime = np.array(trialmarkers['spoutTime'])\n",
    "spoutOutTime = np.array(trialmarkers['spoutOutTime'])\n",
    "rewarded = np.array(trialmarkers['Rewarded'])\n",
    "correctside = np.array(trialmarkers['CorrectSide'])\n",
    "responseside = np.array(trialmarkers['ResponseSide'])"
   ]
  },
  {
   "cell_type": "markdown",
   "metadata": {},
   "source": [
    "## Loading SpatialDisc.mat"
   ]
  },
  {
   "cell_type": "code",
   "execution_count": 78,
   "metadata": {},
   "outputs": [],
   "source": [
    "path = '/home/chingf/engram/data/musall/learning/neural/' +\\\n",
    "    animal + '/' + day + '/' +\\\n",
    "    'mSM63_SpatialDisc_Aug01_2018_Session2.mat'"
   ]
  },
  {
   "cell_type": "code",
   "execution_count": 80,
   "metadata": {},
   "outputs": [],
   "source": [
    "spatialdisc = loadmat(path)\n",
    "#contents = h5py.File(path, 'r')"
   ]
  },
  {
   "cell_type": "code",
   "execution_count": 92,
   "metadata": {},
   "outputs": [],
   "source": [
    "sessiondata = np.array(spatialdisc['SessionData'])\n",
    "unassisted = sessiondata[0,0]['Assisted']"
   ]
  },
  {
   "cell_type": "code",
   "execution_count": 110,
   "metadata": {
    "code_folding": []
   },
   "outputs": [
    {
     "name": "stdout",
     "output_type": "stream",
     "text": [
      "> <ipython-input-110-65685083da45>(10)<module>()\n",
      "-> continue\n",
      "(Pdb) i\n",
      "1\n",
      "(Pdb) tacStimL.shape\n",
      "(1, 411)\n",
      "(Pdb) tacStimL[0,i]\n",
      "array([[ 91,  93,  94,  95,  96,  97,  99, 101, 103, 104, 106, 107, 108,\n",
      "        109, 110, 111, 113, 114, 116, 118, 119, 120, 122, 123, 125]],\n",
      "      dtype=uint8)\n",
      "(Pdb) tacStimR[0,i]\n",
      "array([], shape=(0, 0), dtype=uint8)\n",
      "(Pdb) tacStimR[0,i] + tacStimL[0,i]\n",
      "*** ValueError: operands could not be broadcast together with shapes (0,0) (1,25)\n",
      "(Pdb) tacStimR[0,i].append(tacStimL[0,i])\n",
      "*** AttributeError: 'numpy.ndarray' object has no attribute 'append'\n",
      "(Pdb) [tacStimR[0,i], tacStimL[0,i]]\n",
      "[array([], shape=(0, 0), dtype=uint8), array([[ 91,  93,  94,  95,  96,  97,  99, 101, 103, 104, 106, 107, 108,\n",
      "        109, 110, 111, 113, 114, 116, 118, 119, 120, 122, 123, 125]],\n",
      "      dtype=uint8)]\n",
      "(Pdb) np.concatenate((tacStimR[0,i], tacStimL[0,i]))\n",
      "*** ValueError: all the input array dimensions except for the concatenation axis must match exactly\n",
      "(Pdb) np.concatenate((tacStimR[0,i], tacStimL[0,i]), dim=1)\n",
      "*** TypeError: 'dim' is an invalid keyword argument for concatenate()\n",
      "(Pdb) np.concatenate((tacStimR[0,i], tacStimL[0,i]), axis=1)\n",
      "*** ValueError: all the input array dimensions except for the concatenation axis must match exactly\n",
      "(Pdb) np.concatenate((tacStimR[0,i], tacStimL[0,i]), axis=0)\n",
      "*** ValueError: all the input array dimensions except for the concatenation axis must match exactly\n",
      "(Pdb) np.hstack((tacStimR[0,i], tacStimL[0,i]))\n",
      "*** ValueError: all the input array dimensions except for the concatenation axis must match exactly\n",
      "(Pdb) np.vstack((tacStimR[0,i], tacStimL[0,i]))\n",
      "*** ValueError: all the input array dimensions except for the concatenation axis must match exactly\n",
      "(Pdb) tacStimR[0,i].extend(tacStimL[0,i])\n",
      "*** AttributeError: 'numpy.ndarray' object has no attribute 'extend'\n",
      "(Pdb) exit()\n"
     ]
    },
    {
     "ename": "BdbQuit",
     "evalue": "",
     "output_type": "error",
     "traceback": [
      "\u001b[0;31m---------------------------------------------------------------------------\u001b[0m",
      "\u001b[0;31mBdbQuit\u001b[0m                                   Traceback (most recent call last)",
      "\u001b[0;32m<ipython-input-110-65685083da45>\u001b[0m in \u001b[0;36m<module>\u001b[0;34m\u001b[0m\n\u001b[1;32m      8\u001b[0m         \u001b[0mskipped\u001b[0m \u001b[0;34m+=\u001b[0m \u001b[0;36m1\u001b[0m\u001b[0;34m\u001b[0m\u001b[0;34m\u001b[0m\u001b[0m\n\u001b[1;32m      9\u001b[0m         \u001b[0;32mimport\u001b[0m \u001b[0mpdb\u001b[0m\u001b[0;34m;\u001b[0m \u001b[0mpdb\u001b[0m\u001b[0;34m.\u001b[0m\u001b[0mset_trace\u001b[0m\u001b[0;34m(\u001b[0m\u001b[0;34m)\u001b[0m\u001b[0;34m\u001b[0m\u001b[0;34m\u001b[0m\u001b[0m\n\u001b[0;32m---> 10\u001b[0;31m         \u001b[0;32mcontinue\u001b[0m\u001b[0;34m\u001b[0m\u001b[0;34m\u001b[0m\u001b[0m\n\u001b[0m\u001b[1;32m     11\u001b[0m     \u001b[0mstims\u001b[0m \u001b[0;34m=\u001b[0m \u001b[0mr\u001b[0m \u001b[0;32mif\u001b[0m \u001b[0mcorrectside\u001b[0m\u001b[0;34m[\u001b[0m\u001b[0;36m0\u001b[0m\u001b[0;34m,\u001b[0m\u001b[0mi\u001b[0m\u001b[0;34m]\u001b[0m \u001b[0;34m==\u001b[0m \u001b[0;36m2\u001b[0m \u001b[0;32melse\u001b[0m \u001b[0ml\u001b[0m\u001b[0;34m\u001b[0m\u001b[0;34m\u001b[0m\u001b[0m\n\u001b[1;32m     12\u001b[0m     \u001b[0;32mtry\u001b[0m\u001b[0;34m:\u001b[0m\u001b[0;34m\u001b[0m\u001b[0;34m\u001b[0m\u001b[0m\n",
      "\u001b[0;32m<ipython-input-110-65685083da45>\u001b[0m in \u001b[0;36m<module>\u001b[0;34m\u001b[0m\n\u001b[1;32m      8\u001b[0m         \u001b[0mskipped\u001b[0m \u001b[0;34m+=\u001b[0m \u001b[0;36m1\u001b[0m\u001b[0;34m\u001b[0m\u001b[0;34m\u001b[0m\u001b[0m\n\u001b[1;32m      9\u001b[0m         \u001b[0;32mimport\u001b[0m \u001b[0mpdb\u001b[0m\u001b[0;34m;\u001b[0m \u001b[0mpdb\u001b[0m\u001b[0;34m.\u001b[0m\u001b[0mset_trace\u001b[0m\u001b[0;34m(\u001b[0m\u001b[0;34m)\u001b[0m\u001b[0;34m\u001b[0m\u001b[0;34m\u001b[0m\u001b[0m\n\u001b[0;32m---> 10\u001b[0;31m         \u001b[0;32mcontinue\u001b[0m\u001b[0;34m\u001b[0m\u001b[0;34m\u001b[0m\u001b[0m\n\u001b[0m\u001b[1;32m     11\u001b[0m     \u001b[0mstims\u001b[0m \u001b[0;34m=\u001b[0m \u001b[0mr\u001b[0m \u001b[0;32mif\u001b[0m \u001b[0mcorrectside\u001b[0m\u001b[0;34m[\u001b[0m\u001b[0;36m0\u001b[0m\u001b[0;34m,\u001b[0m\u001b[0mi\u001b[0m\u001b[0;34m]\u001b[0m \u001b[0;34m==\u001b[0m \u001b[0;36m2\u001b[0m \u001b[0;32melse\u001b[0m \u001b[0ml\u001b[0m\u001b[0;34m\u001b[0m\u001b[0;34m\u001b[0m\u001b[0m\n\u001b[1;32m     12\u001b[0m     \u001b[0;32mtry\u001b[0m\u001b[0;34m:\u001b[0m\u001b[0;34m\u001b[0m\u001b[0;34m\u001b[0m\u001b[0m\n",
      "\u001b[0;32m~/anaconda3/lib/python3.7/bdb.py\u001b[0m in \u001b[0;36mtrace_dispatch\u001b[0;34m(self, frame, event, arg)\u001b[0m\n\u001b[1;32m     86\u001b[0m             \u001b[0;32mreturn\u001b[0m \u001b[0;31m# None\u001b[0m\u001b[0;34m\u001b[0m\u001b[0;34m\u001b[0m\u001b[0m\n\u001b[1;32m     87\u001b[0m         \u001b[0;32mif\u001b[0m \u001b[0mevent\u001b[0m \u001b[0;34m==\u001b[0m \u001b[0;34m'line'\u001b[0m\u001b[0;34m:\u001b[0m\u001b[0;34m\u001b[0m\u001b[0;34m\u001b[0m\u001b[0m\n\u001b[0;32m---> 88\u001b[0;31m             \u001b[0;32mreturn\u001b[0m \u001b[0mself\u001b[0m\u001b[0;34m.\u001b[0m\u001b[0mdispatch_line\u001b[0m\u001b[0;34m(\u001b[0m\u001b[0mframe\u001b[0m\u001b[0;34m)\u001b[0m\u001b[0;34m\u001b[0m\u001b[0;34m\u001b[0m\u001b[0m\n\u001b[0m\u001b[1;32m     89\u001b[0m         \u001b[0;32mif\u001b[0m \u001b[0mevent\u001b[0m \u001b[0;34m==\u001b[0m \u001b[0;34m'call'\u001b[0m\u001b[0;34m:\u001b[0m\u001b[0;34m\u001b[0m\u001b[0;34m\u001b[0m\u001b[0m\n\u001b[1;32m     90\u001b[0m             \u001b[0;32mreturn\u001b[0m \u001b[0mself\u001b[0m\u001b[0;34m.\u001b[0m\u001b[0mdispatch_call\u001b[0m\u001b[0;34m(\u001b[0m\u001b[0mframe\u001b[0m\u001b[0;34m,\u001b[0m \u001b[0marg\u001b[0m\u001b[0;34m)\u001b[0m\u001b[0;34m\u001b[0m\u001b[0;34m\u001b[0m\u001b[0m\n",
      "\u001b[0;32m~/anaconda3/lib/python3.7/bdb.py\u001b[0m in \u001b[0;36mdispatch_line\u001b[0;34m(self, frame)\u001b[0m\n\u001b[1;32m    111\u001b[0m         \u001b[0;32mif\u001b[0m \u001b[0mself\u001b[0m\u001b[0;34m.\u001b[0m\u001b[0mstop_here\u001b[0m\u001b[0;34m(\u001b[0m\u001b[0mframe\u001b[0m\u001b[0;34m)\u001b[0m \u001b[0;32mor\u001b[0m \u001b[0mself\u001b[0m\u001b[0;34m.\u001b[0m\u001b[0mbreak_here\u001b[0m\u001b[0;34m(\u001b[0m\u001b[0mframe\u001b[0m\u001b[0;34m)\u001b[0m\u001b[0;34m:\u001b[0m\u001b[0;34m\u001b[0m\u001b[0;34m\u001b[0m\u001b[0m\n\u001b[1;32m    112\u001b[0m             \u001b[0mself\u001b[0m\u001b[0;34m.\u001b[0m\u001b[0muser_line\u001b[0m\u001b[0;34m(\u001b[0m\u001b[0mframe\u001b[0m\u001b[0;34m)\u001b[0m\u001b[0;34m\u001b[0m\u001b[0;34m\u001b[0m\u001b[0m\n\u001b[0;32m--> 113\u001b[0;31m             \u001b[0;32mif\u001b[0m \u001b[0mself\u001b[0m\u001b[0;34m.\u001b[0m\u001b[0mquitting\u001b[0m\u001b[0;34m:\u001b[0m \u001b[0;32mraise\u001b[0m \u001b[0mBdbQuit\u001b[0m\u001b[0;34m\u001b[0m\u001b[0;34m\u001b[0m\u001b[0m\n\u001b[0m\u001b[1;32m    114\u001b[0m         \u001b[0;32mreturn\u001b[0m \u001b[0mself\u001b[0m\u001b[0;34m.\u001b[0m\u001b[0mtrace_dispatch\u001b[0m\u001b[0;34m\u001b[0m\u001b[0;34m\u001b[0m\u001b[0m\n\u001b[1;32m    115\u001b[0m \u001b[0;34m\u001b[0m\u001b[0m\n",
      "\u001b[0;31mBdbQuit\u001b[0m: "
     ]
    }
   ],
   "source": [
    "diffs = []\n",
    "skipped = 0\n",
    "for i in range(411):\n",
    "    end = spoutTime[0,i]\n",
    "    r = audStimR[0,i]\n",
    "    l = audStimL[0,i]\n",
    "    if r.size == 0 and l.size == 0:\n",
    "        skipped += 1\n",
    "        import pdb; pdb.set_trace()\n",
    "        continue\n",
    "    stims = r if correctside[0,i] == 2 else l\n",
    "    try:\n",
    "        start = np.max(stims)\n",
    "    except:\n",
    "        import pdb; pdb.set_trace()\n",
    "    diffs.append(end-start)"
   ]
  }
 ],
 "metadata": {
  "kernelspec": {
   "display_name": "Python 3",
   "language": "python",
   "name": "python3"
  },
  "language_info": {
   "codemirror_mode": {
    "name": "ipython",
    "version": 3
   },
   "file_extension": ".py",
   "mimetype": "text/x-python",
   "name": "python",
   "nbconvert_exporter": "python",
   "pygments_lexer": "ipython3",
   "version": "3.7.3"
  }
 },
 "nbformat": 4,
 "nbformat_minor": 2
}
