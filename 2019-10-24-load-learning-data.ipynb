{
 "cells": [
  {
   "cell_type": "code",
   "execution_count": 1,
   "metadata": {},
   "outputs": [],
   "source": [
    "import os\n",
    "import traceback\n",
    "import numpy as np\n",
    "import matplotlib.pyplot as plt\n",
    "from LearningSession import *\n",
    "from LearningChoicePredictor import *"
   ]
  },
  {
   "cell_type": "code",
   "execution_count": null,
   "metadata": {},
   "outputs": [],
   "source": [
    "animal = 'mSM63'\n",
    "folder = '/home/chingf/engram/data/musall/learning/neural/mSM63'\n",
    "dates = os.listdir(folder)\n",
    "dates.sort()\n",
    "dates = dates[1:]\n",
    "\n",
    "all_results = []\n",
    "chosen_dates = []\n",
    "for date_index in np.arange(0, len(dates), 2):\n",
    "    date = dates[date_index]\n",
    "    try:\n",
    "        session = LearningSession(animal, date, access_engram=True)\n",
    "        predictor = SVCChoice(session)\n",
    "        results = predictor.fit_all()\n",
    "        all_results.append(results)\n",
    "        chosen_dates.append(date)\n",
    "    except Exception:\n",
    "        print(\"Error in \" + date)\n",
    "        traceback.print_exc()\n",
    "        print()"
   ]
  },
  {
   "cell_type": "code",
   "execution_count": 2,
   "metadata": {},
   "outputs": [],
   "source": [
    "# 13-Jul-2018, 22-Jun-2018, 24-Jul-2018, 25-Oct-2018, 26-Jul-2018\n",
    "# 27-Sep-2018"
   ]
  },
  {
   "cell_type": "code",
   "execution_count": 3,
   "metadata": {},
   "outputs": [],
   "source": [
    "animal = 'mSM63'\n",
    "date = '25-Oct-2018'\n",
    "session = LearningSession(animal, date, access_engram=True)\n",
    "predictor = SVCChoice(session)\n",
    "results = predictor.fit_all()"
   ]
  },
  {
   "cell_type": "code",
   "execution_count": null,
   "metadata": {},
   "outputs": [],
   "source": [
    "import pickle\n",
    "r = {}\n",
    "r['all_results'] = all_results\n",
    "r['dates'] = chosen_dates\n",
    "with open('pickles/choicedecoding_learning.p', 'wb') as p:\n",
    "    pickle.dump(r, p)"
   ]
  },
  {
   "cell_type": "code",
   "execution_count": null,
   "metadata": {},
   "outputs": [],
   "source": [
    "import matplotlib.pylab as pl\n",
    "ar = all_results\n",
    "plt.figure()\n",
    "colors = pl.cm.Greys(np.linspace(-0.1,1.1,len(ar)))\n",
    "for idx, r in enumerate(ar):\n",
    "    plt.plot(r['scores'], color=colors[idx])\n",
    "plt.ylim((0.5,1.0))"
   ]
  },
  {
   "cell_type": "code",
   "execution_count": null,
   "metadata": {},
   "outputs": [],
   "source": []
  }
 ],
 "metadata": {
  "kernelspec": {
   "display_name": "Python 3",
   "language": "python",
   "name": "python3"
  },
  "language_info": {
   "codemirror_mode": {
    "name": "ipython",
    "version": 3
   },
   "file_extension": ".py",
   "mimetype": "text/x-python",
   "name": "python",
   "nbconvert_exporter": "python",
   "pygments_lexer": "ipython3",
   "version": "3.7.3"
  }
 },
 "nbformat": 4,
 "nbformat_minor": 2
}
