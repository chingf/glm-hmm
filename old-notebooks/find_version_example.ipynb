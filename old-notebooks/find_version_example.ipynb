{
 "cells": [
  {
   "cell_type": "code",
   "execution_count": 7,
   "metadata": {},
   "outputs": [
    {
     "name": "stdout",
     "output_type": "stream",
     "text": [
      "version_40\n"
     ]
    },
    {
     "ename": "ValueError",
     "evalue": "/home/chingf/engram/analysis/behavenet/musall/vistrained/mSM36/multisession-00/ae/conv/09_latents/grid_search is not a path",
     "output_type": "error",
     "traceback": [
      "\u001b[0;31m---------------------------------------------------------------------------\u001b[0m",
      "\u001b[0;31mValueError\u001b[0m                                Traceback (most recent call last)",
      "\u001b[0;32m<ipython-input-7-b630f36ea94d>\u001b[0m in \u001b[0;36m<module>\u001b[0;34m\u001b[0m\n\u001b[1;32m     50\u001b[0m     \u001b[0mhmm\u001b[0m \u001b[0;34m=\u001b[0m \u001b[0mpickle\u001b[0m\u001b[0;34m.\u001b[0m\u001b[0mload\u001b[0m\u001b[0;34m(\u001b[0m\u001b[0mf\u001b[0m\u001b[0;34m)\u001b[0m\u001b[0;34m\u001b[0m\u001b[0;34m\u001b[0m\u001b[0m\n\u001b[1;32m     51\u001b[0m \u001b[0;31m# load latents\u001b[0m\u001b[0;34m\u001b[0m\u001b[0;34m\u001b[0m\u001b[0;34m\u001b[0m\u001b[0m\n\u001b[0;32m---> 52\u001b[0;31m \u001b[0m_\u001b[0m\u001b[0;34m,\u001b[0m \u001b[0mlatents_file\u001b[0m \u001b[0;34m=\u001b[0m \u001b[0mget_transforms_paths\u001b[0m\u001b[0;34m(\u001b[0m\u001b[0;34m'ae_latents'\u001b[0m\u001b[0;34m,\u001b[0m \u001b[0mhparams\u001b[0m\u001b[0;34m,\u001b[0m \u001b[0msess_ids\u001b[0m\u001b[0;34m[\u001b[0m\u001b[0msess_idx\u001b[0m\u001b[0;34m]\u001b[0m\u001b[0;34m)\u001b[0m\u001b[0;34m\u001b[0m\u001b[0;34m\u001b[0m\u001b[0m\n\u001b[0m\u001b[1;32m     53\u001b[0m \u001b[0;32mwith\u001b[0m \u001b[0mopen\u001b[0m\u001b[0;34m(\u001b[0m\u001b[0mlatents_file\u001b[0m\u001b[0;34m,\u001b[0m \u001b[0;34m'rb'\u001b[0m\u001b[0;34m)\u001b[0m \u001b[0;32mas\u001b[0m \u001b[0mf\u001b[0m\u001b[0;34m:\u001b[0m\u001b[0;34m\u001b[0m\u001b[0;34m\u001b[0m\u001b[0m\n\u001b[1;32m     54\u001b[0m     \u001b[0mall_latents\u001b[0m \u001b[0;34m=\u001b[0m \u001b[0mpickle\u001b[0m\u001b[0;34m.\u001b[0m\u001b[0mload\u001b[0m\u001b[0;34m(\u001b[0m\u001b[0mf\u001b[0m\u001b[0;34m)\u001b[0m\u001b[0;34m\u001b[0m\u001b[0;34m\u001b[0m\u001b[0m\n",
      "\u001b[0;32m~/Code/behavenet-master/behavenet/data/utils.py\u001b[0m in \u001b[0;36mget_transforms_paths\u001b[0;34m(data_type, hparams, sess_id)\u001b[0m\n\u001b[1;32m    275\u001b[0m                 \u001b[0mae_version\u001b[0m \u001b[0;34m=\u001b[0m \u001b[0mstr\u001b[0m\u001b[0;34m(\u001b[0m\u001b[0;34m'version_%i'\u001b[0m \u001b[0;34m%\u001b[0m \u001b[0mhparams\u001b[0m\u001b[0;34m[\u001b[0m\u001b[0;34m'ae_version'\u001b[0m\u001b[0;34m]\u001b[0m\u001b[0;34m)\u001b[0m\u001b[0;34m\u001b[0m\u001b[0;34m\u001b[0m\u001b[0m\n\u001b[1;32m    276\u001b[0m             \u001b[0;32melse\u001b[0m\u001b[0;34m:\u001b[0m\u001b[0;34m\u001b[0m\u001b[0;34m\u001b[0m\u001b[0m\n\u001b[0;32m--> 277\u001b[0;31m                 \u001b[0mae_version\u001b[0m \u001b[0;34m=\u001b[0m \u001b[0mget_best_model_version\u001b[0m\u001b[0;34m(\u001b[0m\u001b[0mae_dir\u001b[0m\u001b[0;34m,\u001b[0m \u001b[0;34m'val_loss'\u001b[0m\u001b[0;34m)\u001b[0m\u001b[0;34m[\u001b[0m\u001b[0;36m0\u001b[0m\u001b[0;34m]\u001b[0m\u001b[0;34m\u001b[0m\u001b[0;34m\u001b[0m\u001b[0m\n\u001b[0m\u001b[1;32m    278\u001b[0m             \u001b[0mae_latents\u001b[0m \u001b[0;34m=\u001b[0m \u001b[0mstr\u001b[0m\u001b[0;34m(\u001b[0m\u001b[0;34m'%slatents.pkl'\u001b[0m \u001b[0;34m%\u001b[0m \u001b[0msess_id_str\u001b[0m\u001b[0;34m)\u001b[0m\u001b[0;34m\u001b[0m\u001b[0;34m\u001b[0m\u001b[0m\n\u001b[1;32m    279\u001b[0m             \u001b[0mpath\u001b[0m \u001b[0;34m=\u001b[0m \u001b[0mos\u001b[0m\u001b[0;34m.\u001b[0m\u001b[0mpath\u001b[0m\u001b[0;34m.\u001b[0m\u001b[0mjoin\u001b[0m\u001b[0;34m(\u001b[0m\u001b[0mae_dir\u001b[0m\u001b[0;34m,\u001b[0m \u001b[0mae_version\u001b[0m\u001b[0;34m,\u001b[0m \u001b[0mae_latents\u001b[0m\u001b[0;34m)\u001b[0m\u001b[0;34m\u001b[0m\u001b[0;34m\u001b[0m\u001b[0m\n",
      "\u001b[0;32m~/Code/behavenet-master/behavenet/fitting/utils.py\u001b[0m in \u001b[0;36mget_best_model_version\u001b[0;34m(model_path, measure, best_def, n_best)\u001b[0m\n\u001b[1;32m    386\u001b[0m \u001b[0;34m\u001b[0m\u001b[0m\n\u001b[1;32m    387\u001b[0m     \u001b[0;31m# gather all versions\u001b[0m\u001b[0;34m\u001b[0m\u001b[0;34m\u001b[0m\u001b[0;34m\u001b[0m\u001b[0m\n\u001b[0;32m--> 388\u001b[0;31m     \u001b[0mversions\u001b[0m \u001b[0;34m=\u001b[0m \u001b[0mget_subdirs\u001b[0m\u001b[0;34m(\u001b[0m\u001b[0mmodel_path\u001b[0m\u001b[0;34m)\u001b[0m\u001b[0;34m\u001b[0m\u001b[0;34m\u001b[0m\u001b[0m\n\u001b[0m\u001b[1;32m    389\u001b[0m \u001b[0;34m\u001b[0m\u001b[0m\n\u001b[1;32m    390\u001b[0m     \u001b[0;31m# load csv files with model metrics (saved out from test tube)\u001b[0m\u001b[0;34m\u001b[0m\u001b[0;34m\u001b[0m\u001b[0;34m\u001b[0m\u001b[0m\n",
      "\u001b[0;32m~/Code/behavenet-master/behavenet/fitting/utils.py\u001b[0m in \u001b[0;36mget_subdirs\u001b[0;34m(path)\u001b[0m\n\u001b[1;32m      6\u001b[0m     \u001b[0;34m\"\"\"get all first-level subdirectories in a given path (no recursion)\"\"\"\u001b[0m\u001b[0;34m\u001b[0m\u001b[0;34m\u001b[0m\u001b[0m\n\u001b[1;32m      7\u001b[0m     \u001b[0;32mif\u001b[0m \u001b[0;32mnot\u001b[0m \u001b[0mos\u001b[0m\u001b[0;34m.\u001b[0m\u001b[0mpath\u001b[0m\u001b[0;34m.\u001b[0m\u001b[0mexists\u001b[0m\u001b[0;34m(\u001b[0m\u001b[0mpath\u001b[0m\u001b[0;34m)\u001b[0m\u001b[0;34m:\u001b[0m\u001b[0;34m\u001b[0m\u001b[0;34m\u001b[0m\u001b[0m\n\u001b[0;32m----> 8\u001b[0;31m         \u001b[0;32mraise\u001b[0m \u001b[0mValueError\u001b[0m\u001b[0;34m(\u001b[0m\u001b[0;34m'%s is not a path'\u001b[0m \u001b[0;34m%\u001b[0m \u001b[0mpath\u001b[0m\u001b[0;34m)\u001b[0m\u001b[0;34m\u001b[0m\u001b[0;34m\u001b[0m\u001b[0m\n\u001b[0m\u001b[1;32m      9\u001b[0m     \u001b[0;32mtry\u001b[0m\u001b[0;34m:\u001b[0m\u001b[0;34m\u001b[0m\u001b[0;34m\u001b[0m\u001b[0m\n\u001b[1;32m     10\u001b[0m         \u001b[0;32mreturn\u001b[0m \u001b[0mnext\u001b[0m\u001b[0;34m(\u001b[0m\u001b[0mos\u001b[0m\u001b[0;34m.\u001b[0m\u001b[0mwalk\u001b[0m\u001b[0;34m(\u001b[0m\u001b[0mpath\u001b[0m\u001b[0;34m)\u001b[0m\u001b[0;34m)\u001b[0m\u001b[0;34m[\u001b[0m\u001b[0;36m1\u001b[0m\u001b[0;34m]\u001b[0m\u001b[0;34m\u001b[0m\u001b[0;34m\u001b[0m\u001b[0m\n",
      "\u001b[0;31mValueError\u001b[0m: /home/chingf/engram/analysis/behavenet/musall/vistrained/mSM36/multisession-00/ae/conv/09_latents/grid_search is not a path"
     ]
    }
   ],
   "source": [
    "import os\n",
    "import pickle\n",
    "from behavenet.data.utils import get_transforms_paths\n",
    "from behavenet.fitting.utils import experiment_exists\n",
    "from behavenet.fitting.utils import get_best_model_version\n",
    "from behavenet.fitting.utils import get_expt_dir\n",
    "from behavenet.fitting.utils import get_output_session_dir\n",
    "\n",
    "# define index into session\n",
    "# for mSM36, 0=05-Dec-2017, 1=07-Dec-2017\n",
    "sess_idx = 0 \n",
    "\n",
    "# get best model in a test-tube experiment, or get specific model\n",
    "get_best_version = True\n",
    "\n",
    "# define model\n",
    "hparams = {\n",
    "    'tt_save_path': '/home/chingf/engram/analysis/behavenet/',\n",
    "    'data_dir': '/home/chingf/engram/data/',\n",
    "    'lab': 'musall',\n",
    "    'expt': 'vistrained',\n",
    "    'rng_seed': 0,\n",
    "    'train_percent': 1.0,\n",
    "    'animal': 'mSM36',\n",
    "    'session': 'all',\n",
    "    'experiment_name': 'grid_search',\n",
    "    'model_class': 'arhmm',\n",
    "    'model_type': None, #'conv',\n",
    "    'n_arhmm_states': 8,\n",
    "    'kappa': 0,\n",
    "    'train_percent': 1.0,\n",
    "    'noise_type': 'gaussian',\n",
    "    'ae_experiment_name': 'grid_search',\n",
    "    'ae_model_type': 'conv',\n",
    "    'n_ae_latents': 9,\n",
    "}\n",
    "hparams['session_dir'], sess_ids = get_output_session_dir(hparams)\n",
    "hparams['expt_dir'] = get_expt_dir(hparams)\n",
    "\n",
    "# find model version\n",
    "if get_best_version:\n",
    "    version = get_best_model_version(\n",
    "        hparams['expt_dir'], measure='val_ll', best_def='max')[0]\n",
    "else:\n",
    "    _, version = experiment_exists(hparams, which_version=True)\n",
    "print(version)\n",
    "# load model\n",
    "model_file = os.path.join(hparams['expt_dir'], version, 'best_val_model.pt')\n",
    "with open(model_file, 'rb') as f:\n",
    "    hmm = pickle.load(f) \n",
    "# load latents\n",
    "_, latents_file = get_transforms_paths('ae_latents', hparams, sess_ids[sess_idx])\n",
    "with open(latents_file, 'rb') as f:\n",
    "    all_latents = pickle.load(f)"
   ]
  },
  {
   "cell_type": "code",
   "execution_count": null,
   "metadata": {},
   "outputs": [],
   "source": []
  }
 ],
 "metadata": {
  "kernelspec": {
   "display_name": "behavenet",
   "language": "python",
   "name": "behavenet"
  },
  "language_info": {
   "codemirror_mode": {
    "name": "ipython",
    "version": 3
   },
   "file_extension": ".py",
   "mimetype": "text/x-python",
   "name": "python",
   "nbconvert_exporter": "python",
   "pygments_lexer": "ipython3",
   "version": "3.7.2"
  }
 },
 "nbformat": 4,
 "nbformat_minor": 2
}
