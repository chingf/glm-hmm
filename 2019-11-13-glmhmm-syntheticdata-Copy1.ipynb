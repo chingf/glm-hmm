{
 "cells": [
  {
   "cell_type": "markdown",
   "metadata": {},
   "source": [
    "# GLM HMM with EM on Simulated Data"
   ]
  },
  {
   "cell_type": "code",
   "execution_count": 43,
   "metadata": {
    "code_folding": [
     0
    ]
   },
   "outputs": [],
   "source": [
    "# Import statements\n",
    "import os\n",
    "import traceback\n",
    "import pickle\n",
    "from datetime import datetime\n",
    "import numpy as np\n",
    "import matplotlib.pyplot as plt\n",
    "from sklearn.linear_model import LogisticRegression\n",
    "from LearningSession import *\n",
    "from LearningChoicePredictor import *\n",
    "from LearningPsychometricPredictor import *\n",
    "from SyntheticHMM import *\n",
    "import ssm"
   ]
  },
  {
   "cell_type": "markdown",
   "metadata": {},
   "source": [
    "## Set up Data"
   ]
  },
  {
   "cell_type": "code",
   "execution_count": 44,
   "metadata": {
    "code_folding": [
     0
    ]
   },
   "outputs": [],
   "source": [
    "def plot_psychometric(clf, coefs=None):\n",
    "    oldcoef = clf.coef_\n",
    "    oldintercept = clf.intercept_\n",
    "    if not (coefs is None):\n",
    "        clf.coef_ = np.array([coefs[0,:-1]])\n",
    "        clf.intercept_ = np.array([coefs[0,-1]])\n",
    "    data_prevl = []\n",
    "    data_prevr = []\n",
    "    for delta in range(-35,36):\n",
    "        data_prevl.append([0,delta])\n",
    "        data_prevr.append([1,delta])\n",
    "    data_prevl = np.array(data_prevl)\n",
    "    data_prevr = np.array(data_prevr)\n",
    "    psychometric_curve_prevl = clf.predict_proba(data_prevl)\n",
    "    psychometric_curve_prevr = clf.predict_proba(data_prevr)\n",
    "    plt.plot(\n",
    "        range(-35, 36),\n",
    "        psychometric_curve_prevl[:,1], color=\"blue\",\n",
    "        label=\"Previous Choice Left\"\n",
    "        )\n",
    "    plt.plot(\n",
    "        range(-35, 36),\n",
    "        psychometric_curve_prevr[:,1], color=\"red\",\n",
    "        label=\"Previous Choice Right\"\n",
    "        )\n",
    "    plt.title(\"Probability of Choosing Right\")\n",
    "    plt.legend()\n",
    "    plt.xlabel(\"More Left Beeps >>> More Right Beeps\")\n",
    "    plt.show()\n",
    "    clf.coef_ = oldcoef\n",
    "    clf.intercept_ = oldintercept"
   ]
  },
  {
   "cell_type": "code",
   "execution_count": 45,
   "metadata": {},
   "outputs": [],
   "source": [
    "train_size = 400\n",
    "test_size = 120"
   ]
  },
  {
   "cell_type": "code",
   "execution_count": 46,
   "metadata": {
    "code_folding": []
   },
   "outputs": [],
   "source": [
    "# Synthetic: X_train, X_test\n",
    "X_train = np.random.choice(np.arange(-30,31,1), size=train_size).reshape((-1,1))\n",
    "X_test = np.random.choice(np.arange(-30,31,1), size=test_size).reshape((-1,1))"
   ]
  },
  {
   "cell_type": "code",
   "execution_count": 47,
   "metadata": {},
   "outputs": [],
   "source": [
    "K = 2 # Number of states\n",
    "D = 1 # Dimension of observations"
   ]
  },
  {
   "cell_type": "code",
   "execution_count": 98,
   "metadata": {},
   "outputs": [],
   "source": [
    "# Synthetic GLM states\n",
    "K = 3\n",
    "true_K = 3\n",
    "set_coef = np.array(\n",
    "    [[0.01, 0.08, 0.02],\n",
    "     [1., 0.04, -0.50],\n",
    "     [-1., 0.04, -0.50]]\n",
    "    )"
   ]
  },
  {
   "cell_type": "markdown",
   "metadata": {},
   "source": [
    "## Generate Synthetic Data"
   ]
  },
  {
   "cell_type": "code",
   "execution_count": 99,
   "metadata": {},
   "outputs": [],
   "source": [
    "transition_coefs = np.random.rand(K, set_coef.shape[1])*0\n",
    "true_hmm = SyntheticInputDrivenGLMHMM(\n",
    "    K, set_coef, transition_coefs\n",
    "    )"
   ]
  },
  {
   "cell_type": "code",
   "execution_count": 70,
   "metadata": {
    "code_folding": []
   },
   "outputs": [],
   "source": [
    "# Generate simulated data\n",
    "sim_states_train, sim_y_train = true_hmm.sample(X_train)\n",
    "sim_states_test, sim_y_test = true_hmm.sample(X_test)\n",
    "sim_y_train = sim_y_train.astype(int)\n",
    "sim_y_test = sim_y_test.astype(int)\n",
    "sim_X_test = np.hstack((sim_y_test[:-1], X_test[1:].copy()))\n",
    "sim_X_train = np.hstack((sim_y_train[:-1], X_train[1:].copy()))\n",
    "sim_y_test = sim_y_test[1:]\n",
    "sim_y_train = sim_y_train[1:]"
   ]
  },
  {
   "cell_type": "markdown",
   "metadata": {},
   "source": [
    "## Fitting HMM and checking inferred transition matrix"
   ]
  },
  {
   "cell_type": "code",
   "execution_count": 73,
   "metadata": {
    "code_folding": []
   },
   "outputs": [],
   "source": [
    "def fit_hmm(\n",
    "    K, X_train, y_train,\n",
    "    sim_X_test, sim_y_test, transitions=\"standard\"\n",
    "    ):\n",
    "    fitted_lls = []\n",
    "    best_test_ll = -np.inf\n",
    "    best_ll_array = None\n",
    "    best_hmm = None\n",
    "    input_size = X_train.shape[1]\n",
    "    for _ in range(15):\n",
    "        tmp_hmm = ssm.HMM(\n",
    "            K, D, M=input_size, observations=\"logistic\",\n",
    "            transitions=transitions,\n",
    "            observation_kwargs={\"input_size\":input_size}\n",
    "            )\n",
    "        lls = tmp_hmm.fit(\n",
    "            y_train,\n",
    "            inputs=X_train,\n",
    "            method=\"em\"\n",
    "            )\n",
    "        test_ll = tmp_hmm.log_likelihood(sim_y_test, inputs=sim_X_test)\n",
    "        if test_ll > best_test_ll:\n",
    "            best_test_ll = test_ll\n",
    "            best_ll_array = lls\n",
    "            best_hmm = tmp_hmm\n",
    "    hmm = best_hmm\n",
    "    lls = best_ll_array\n",
    "    return hmm, lls, best_test_ll"
   ]
  },
  {
   "cell_type": "code",
   "execution_count": 74,
   "metadata": {
    "code_folding": []
   },
   "outputs": [],
   "source": [
    "%%capture\n",
    "Ks = [2]\n",
    "K_hmms = []\n",
    "K_lls = []\n",
    "K_test_lls = []\n",
    "for K in Ks:\n",
    "    _hmm, _lls, _test_ll = fit_hmm(\n",
    "        K, sim_X_train, sim_y_train,\n",
    "        sim_X_test, sim_y_test,\n",
    "        transitions=\"standard\"\n",
    "        )\n",
    "    K_hmms.append(_hmm)\n",
    "    K_lls.append(_lls)\n",
    "    K_test_lls.append(_test_ll)"
   ]
  },
  {
   "cell_type": "markdown",
   "metadata": {},
   "source": [
    "## Comparing inferred psychometric curves"
   ]
  },
  {
   "cell_type": "code",
   "execution_count": 75,
   "metadata": {},
   "outputs": [],
   "source": [
    "hmm = K_hmms[Ks.index(true_K)]"
   ]
  },
  {
   "cell_type": "code",
   "execution_count": 76,
   "metadata": {
    "code_folding": []
   },
   "outputs": [],
   "source": [
    "%%capture\n",
    "clf = LogisticRegression().fit(sim_X_train, sim_y_train)"
   ]
  },
  {
   "cell_type": "code",
   "execution_count": 56,
   "metadata": {},
   "outputs": [
    {
     "data": {
      "image/png": "[encoded data removed]",
      "text/plain": [
       "<Figure size 432x288 with 1 Axes>"
      ]
     },
     "metadata": {
      "needs_background": "light"
     },
     "output_type": "display_data"
    }
   ],
   "source": [
    "plot_psychometric(clf, true_hmm.coefs[0,:].reshape((1,-1)))"
   ]
  },
  {
   "cell_type": "code",
   "execution_count": 81,
   "metadata": {
    "code_folding": []
   },
   "outputs": [
    {
     "data": {
      "image/png": "[encoded data removed]",
      "text/plain": [
       "<Figure size 432x288 with 1 Axes>"
      ]
     },
     "metadata": {
      "needs_background": "light"
     },
     "output_type": "display_data"
    }
   ],
   "source": [
    "plot_psychometric(clf, hmm.observations.coef[1,:].reshape((1,-1)))"
   ]
  },
  {
   "cell_type": "code",
   "execution_count": 59,
   "metadata": {},
   "outputs": [
    {
     "data": {
      "text/plain": [
       "array([[ 0.01347069,  0.08247031,  1.13431769],\n",
       "       [-1.23114869,  0.01001895, -0.94957744]])"
      ]
     },
     "execution_count": 59,
     "metadata": {},
     "output_type": "execute_result"
    }
   ],
   "source": [
    " hmm.observations.coef"
   ]
  },
  {
   "cell_type": "code",
   "execution_count": 60,
   "metadata": {},
   "outputs": [
    {
     "data": {
      "text/plain": [
       "array([[ 0.01,  0.08,  0.02],\n",
       "       [ 1.  ,  0.04, -0.5 ]])"
      ]
     },
     "execution_count": 60,
     "metadata": {},
     "output_type": "execute_result"
    }
   ],
   "source": [
    "set_coef"
   ]
  },
  {
   "cell_type": "markdown",
   "metadata": {},
   "source": [
    "## Testing accuracy: predicted states and predicted choices"
   ]
  },
  {
   "cell_type": "code",
   "execution_count": 87,
   "metadata": {},
   "outputs": [
    {
     "data": {
      "text/plain": [
       "array([0, 0, 1, 1, 1, 1, 1, 1, 1, 1, 1, 1, 1, 1, 1, 1, 1, 1, 1, 1, 1, 1,\n",
       "       1, 1, 1, 1, 1, 1, 1, 1, 0, 0, 0, 0, 0, 0, 0, 0, 0, 0, 0, 0, 0, 0,\n",
       "       0, 0, 0, 0, 0, 0, 0, 0, 0, 0, 0, 0, 0, 0, 0, 0, 0, 0, 0, 1, 1, 1,\n",
       "       1, 1, 1, 1, 1, 1, 1, 1, 0, 0, 0, 0, 0, 0, 0, 0, 0, 0, 0, 0, 0, 0,\n",
       "       0, 0, 0, 0, 0, 0, 0, 0, 0, 0, 0, 0, 0, 1, 1, 1, 1, 1, 1, 1, 1, 1,\n",
       "       1, 1, 1, 1, 1, 0, 0, 0, 0])"
      ]
     },
     "execution_count": 87,
     "metadata": {},
     "output_type": "execute_result"
    }
   ],
   "source": [
    "hmm.most_likely_states(sim_y_test, input=sim_X_test)"
   ]
  },
  {
   "cell_type": "code",
   "execution_count": 97,
   "metadata": {},
   "outputs": [
    {
     "data": {
      "text/plain": [
       "0.6325"
      ]
     },
     "execution_count": 97,
     "metadata": {},
     "output_type": "execute_result"
    }
   ],
   "source": [
    "253/400"
   ]
  },
  {
   "cell_type": "code",
   "execution_count": 96,
   "metadata": {},
   "outputs": [
    {
     "data": {
      "text/plain": [
       "400"
      ]
     },
     "execution_count": 96,
     "metadata": {},
     "output_type": "execute_result"
    }
   ],
   "source": [
    "sim_states_train.size"
   ]
  },
  {
   "cell_type": "code",
   "execution_count": 95,
   "metadata": {},
   "outputs": [
    {
     "data": {
      "text/plain": [
       "253"
      ]
     },
     "execution_count": 95,
     "metadata": {},
     "output_type": "execute_result"
    }
   ],
   "source": [
    "np.sum(np.equal(hmm.most_likely_states(sim_y_train, input=sim_X_train), sim_states_train[1:]))"
   ]
  },
  {
   "cell_type": "code",
   "execution_count": 79,
   "metadata": {},
   "outputs": [
    {
     "data": {
      "image/png": "[encoded data removed]",
      "text/plain": [
       "<Figure size 1080x36 with 1 Axes>"
      ]
     },
     "metadata": {
      "needs_background": "light"
     },
     "output_type": "display_data"
    }
   ],
   "source": [
    "plt.figure(figsize=(15,0.5))\n",
    "plt.imshow(\n",
    "    hmm.most_likely_states(sim_y_test, input=sim_X_test).reshape((1,-1)),\n",
    "    aspect=\"auto\")\n",
    "plt.xlabel(\"Trial Number\")\n",
    "plt.show()"
   ]
  },
  {
   "cell_type": "code",
   "execution_count": 92,
   "metadata": {},
   "outputs": [
    {
     "data": {
      "image/png": "[encoded data removed]",
      "text/plain": [
       "<Figure size 1080x36 with 1 Axes>"
      ]
     },
     "metadata": {
      "needs_background": "light"
     },
     "output_type": "display_data"
    }
   ],
   "source": [
    "plt.figure(figsize=(15,0.5))\n",
    "plt.imshow(\n",
    "    sim_states_test[1:].reshape((1,-1)),\n",
    "    aspect=\"auto\")\n",
    "plt.show()"
   ]
  },
  {
   "cell_type": "code",
   "execution_count": 80,
   "metadata": {},
   "outputs": [
    {
     "data": {
      "image/png": "[encoded data removed]",
      "text/plain": [
       "<Figure size 1080x36 with 1 Axes>"
      ]
     },
     "metadata": {
      "needs_background": "light"
     },
     "output_type": "display_data"
    }
   ],
   "source": [
    "plt.figure(figsize=(15,0.5))\n",
    "plt.imshow(\n",
    "    hmm.most_likely_states(sim_y_train, input=sim_X_train).reshape((1,-1)),\n",
    "    aspect=\"auto\")\n",
    "plt.xlabel(\"Trial Number\")\n",
    "plt.show()"
   ]
  },
  {
   "cell_type": "code",
   "execution_count": 72,
   "metadata": {},
   "outputs": [
    {
     "data": {
      "image/png": "[encoded data removed]",
      "text/plain": [
       "<Figure size 1080x36 with 1 Axes>"
      ]
     },
     "metadata": {
      "needs_background": "light"
     },
     "output_type": "display_data"
    }
   ],
   "source": [
    "plt.figure(figsize=(15,0.5))\n",
    "plt.imshow(\n",
    "    sim_states_train[:400].reshape((1,-1)),\n",
    "    aspect=\"auto\")\n",
    "plt.show()"
   ]
  },
  {
   "cell_type": "code",
   "execution_count": null,
   "metadata": {},
   "outputs": [],
   "source": [
    "print(\"Proportion Identical\")\n",
    "print(np.sum(predicted.astype(bool) == sim_z_test.astype(bool))/predicted.size)\n",
    "print(np.sum(np.logical_not(predicted.astype(bool)) == sim_z_test.astype(bool))/predicted.size)"
   ]
  },
  {
   "cell_type": "markdown",
   "metadata": {},
   "source": [
    "## Data size sensitivitiy: likelihood/data point"
   ]
  },
  {
   "cell_type": "code",
   "execution_count": 98,
   "metadata": {},
   "outputs": [],
   "source": [
    "def fit_hmm_datasize(train_size):\n",
    "    test_size = 100\n",
    "    X_train = np.random.choice(np.arange(-30,31,1), size=train_size).reshape((-1,1))\n",
    "    X_test = np.random.choice(np.arange(-30,31,1), size=test_size).reshape((-1,1))\n",
    "    transition_coefs = np.random.rand(true_K, set_coef.shape[1])*2\n",
    "    true_hmm = SyntheticInputDrivenGLMHMM(\n",
    "        true_K, set_coef, transition_coefs\n",
    "        )\n",
    "    # Generate simulated data\n",
    "    sim_states_train, sim_y_train = true_hmm.sample(X_train)\n",
    "    sim_states_test, sim_y_test = true_hmm.sample(X_test)\n",
    "    sim_y_train = sim_y_train.astype(int)\n",
    "    sim_y_test = sim_y_test.astype(int)\n",
    "    sim_X_test = np.hstack((sim_y_test[:-1], X_test[1:].copy()))\n",
    "    sim_X_train = np.hstack((sim_y_train[:-1], X_train[1:].copy()))\n",
    "    sim_y_test = sim_y_test[1:]\n",
    "    sim_y_train = sim_y_train[1:]\n",
    "    hmm, lls, test_ll = fit_hmm(\n",
    "        true_K, sim_X_train, sim_y_train,\n",
    "        sim_X_test, sim_y_test, transitions=\"inputdriven\")\n",
    "    result = {}\n",
    "    result['hmm'] = hmm\n",
    "    result['lls'] = lls\n",
    "    result['test_ll'] = test_ll\n",
    "    result['sim_X_train'] = sim_X_train\n",
    "    result['sim_y_train'] = sim_y_train\n",
    "    result['sim_X_test'] = sim_X_test\n",
    "    result['sim_y_test'] = sim_y_test\n",
    "    return result"
   ]
  },
  {
   "cell_type": "code",
   "execution_count": 99,
   "metadata": {
    "scrolled": true
   },
   "outputs": [],
   "source": [
    "%%capture\n",
    "train_sizes = np.arange(300,800,50)\n",
    "results = []\n",
    "for train_size in train_sizes:\n",
    "    result = fit_hmm_datasize(train_size)\n",
    "    results.append(result)"
   ]
  },
  {
   "cell_type": "code",
   "execution_count": 101,
   "metadata": {},
   "outputs": [
    {
     "data": {
      "text/plain": [
       "-54.02498193194144"
      ]
     },
     "execution_count": 101,
     "metadata": {},
     "output_type": "execute_result"
    }
   ],
   "source": [
    "results[0]['test_ll']"
   ]
  },
  {
   "cell_type": "code",
   "execution_count": 102,
   "metadata": {},
   "outputs": [
    {
     "data": {
      "text/plain": [
       "[]"
      ]
     },
     "execution_count": 102,
     "metadata": {},
     "output_type": "execute_result"
    }
   ],
   "source": [
    "K_datasize_lls"
   ]
  },
  {
   "cell_type": "code",
   "execution_count": 103,
   "metadata": {},
   "outputs": [
    {
     "data": {
      "image/png": "[encoded data removed]",
      "text/plain": [
       "<Figure size 504x360 with 1 Axes>"
      ]
     },
     "metadata": {
      "needs_background": "light"
     },
     "output_type": "display_data"
    }
   ],
   "source": [
    "K_datasize_lls = []\n",
    "for result in results:\n",
    "    K_datasize_lls.append(result['test_ll'])\n",
    "plt.figure(figsize=(7,5))\n",
    "plt.plot(train_sizes, K_datasize_lls, linewidth=2)\n",
    "plt.xlabel(\"Size of Traning Set\")\n",
    "plt.ylabel(\"Test Set Log Likelihood/Data point\")\n",
    "plt.xticks(train_sizes)\n",
    "plt.show()"
   ]
  },
  {
   "cell_type": "code",
   "execution_count": 46,
   "metadata": {},
   "outputs": [
    {
     "data": {
      "text/plain": [
       "[<matplotlib.lines.Line2D at 0x7fe96c709be0>]"
      ]
     },
     "execution_count": 46,
     "metadata": {},
     "output_type": "execute_result"
    },
    {
     "data": {
      "image/png": "[encoded data removed]",
      "text/plain": [
       "<Figure size 432x288 with 1 Axes>"
      ]
     },
     "metadata": {
      "needs_background": "light"
     },
     "output_type": "display_data"
    }
   ],
   "source": [
    "datasize_max_lls = [max(ll) for ll in datasize_lls]\n",
    "plt.xlabel(\"Log Likelihood/Data point\")\n",
    "plt.ylabel(\"Size of Training Data\")\n",
    "plt.plot(train_sizes, datasize_max_lls/train_sizes)"
   ]
  },
  {
   "cell_type": "code",
   "execution_count": 123,
   "metadata": {},
   "outputs": [],
   "source": [
    "hmm = results[np.argwhere(train_sizes == 500)[0,0]]['hmm']"
   ]
  },
  {
   "cell_type": "code",
   "execution_count": 47,
   "metadata": {},
   "outputs": [
    {
     "data": {
      "text/plain": [
       "6"
      ]
     },
     "execution_count": 47,
     "metadata": {},
     "output_type": "execute_result"
    }
   ],
   "source": [
    "np.argwhere(train_sizes == 600)[0,0]"
   ]
  },
  {
   "cell_type": "code",
   "execution_count": null,
   "metadata": {},
   "outputs": [],
   "source": []
  }
 ],
 "metadata": {
  "kernelspec": {
   "display_name": "Python 3",
   "language": "python",
   "name": "python3"
  },
  "language_info": {
   "codemirror_mode": {
    "name": "ipython",
    "version": 3
   },
   "file_extension": ".py",
   "mimetype": "text/x-python",
   "name": "python",
   "nbconvert_exporter": "python",
   "pygments_lexer": "ipython3",
   "version": "3.7.3"
  }
 },
 "nbformat": 4,
 "nbformat_minor": 2
}
