{
 "cells": [
  {
   "cell_type": "code",
   "execution_count": 1,
   "metadata": {},
   "outputs": [],
   "source": [
    "import os\n",
    "import traceback\n",
    "import numpy as np\n",
    "import matplotlib.pyplot as plt\n",
    "from LearningSession import *\n",
    "from LearningChoicePredictor import *"
   ]
  },
  {
   "cell_type": "code",
   "execution_count": null,
   "metadata": {},
   "outputs": [
    {
     "name": "stdout",
     "output_type": "stream",
     "text": [
      "> /home/chingf/Code/Widefield/LearningSession.py(96)_load_trialmarkers()\n",
      "-> for trial in range(self.num_trials):\n",
      "(Pdb) l\n",
      " 91  \t\n",
      " 92  \t        filepath = self.dirpath + \"trialmarkers.mat\"\n",
      " 93  \t        matfile = loadmat(filepath)\n",
      " 94  \t        for key in [key for key in matfile if not key.startswith(\"__\")]:\n",
      " 95  \t            self.trialmarkers[key] = np.array(matfile[key]).squeeze()\n",
      " 96  ->\t        for trial in range(self.num_trials):\n",
      " 97  \t            if self.trialmarkers['audStimL'][trial].size > 0 or\\\n",
      " 98  \t                self.trialmarkers['audStimR'][trial].size > 0:\n",
      " 99  \t                self.is_aud_trial.append(True)\n",
      "100  \t            else:\n",
      "101  \t                self.is_aud_trial.append(False)\n",
      "(Pdb) self.num_trials\n",
      "408\n",
      "(Pdb) len(self.is_aud_trial)\n",
      "412\n",
      "(Pdb) trial\n",
      "0\n",
      "(Pdb) self.is_aud_trial[0:10]\n",
      "[True, False, True, False, False, True, False, False, True, True]\n"
     ]
    }
   ],
   "source": [
    "animal = 'mSM63'\n",
    "folder = '/home/chingf/engram/data/musall/learning/neural/mSM63'\n",
    "dates = os.listdir(folder)\n",
    "dates.sort()\n",
    "dates = dates[1:]\n",
    "\n",
    "all_results = []\n",
    "all_indices = []\n",
    "for date_index in np.arange(0, len(dates), 2):\n",
    "    date = dates[date_index]\n",
    "    try:\n",
    "        session = LearningSession(animal, date, access_engram=True)\n",
    "        predictor = SVCChoice(session)\n",
    "        results = predictor.fit_all()\n",
    "        all_results.append(results)\n",
    "        all_indices.append(date_index)\n",
    "    except Exception:\n",
    "        print(\"Error in \" + date)\n",
    "        traceback.print_exc()\n",
    "        print()"
   ]
  },
  {
   "cell_type": "code",
   "execution_count": null,
   "metadata": {},
   "outputs": [],
   "source": [
    "animal = 'mSM63'\n",
    "date = '02-Jul-2018'\n",
    "session = LearningSession(animal, date, access_engram=True)\n",
    "predictor = SVCChoice(session)\n",
    "results = predictor.fit_all()"
   ]
  },
  {
   "cell_type": "code",
   "execution_count": null,
   "metadata": {},
   "outputs": [],
   "source": []
  }
 ],
 "metadata": {
  "kernelspec": {
   "display_name": "Python 3",
   "language": "python",
   "name": "python3"
  },
  "language_info": {
   "codemirror_mode": {
    "name": "ipython",
    "version": 3
   },
   "file_extension": ".py",
   "mimetype": "text/x-python",
   "name": "python",
   "nbconvert_exporter": "python",
   "pygments_lexer": "ipython3",
   "version": "3.7.3"
  }
 },
 "nbformat": 4,
 "nbformat_minor": 2
}
