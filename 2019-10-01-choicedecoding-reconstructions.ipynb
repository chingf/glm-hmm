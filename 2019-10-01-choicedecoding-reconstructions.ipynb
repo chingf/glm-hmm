{
 "cells": [
  {
   "cell_type": "markdown",
   "metadata": {},
   "source": [
    "# Churchland Widefield Data\n",
    "\n",
    "This notebook demonstrates:\n",
    "- Decoding L/R choice from different periods of the delay period"
   ]
  },
  {
   "cell_type": "code",
   "execution_count": 45,
   "metadata": {
    "code_folding": [
     0
    ]
   },
   "outputs": [],
   "source": [
    "# Import statements\n",
    "import numpy as np\n",
    "import pandas as pd\n",
    "import ssm\n",
    "import seaborn as sns\n",
    "import numpy.random as npr\n",
    "import matplotlib.pyplot as plt\n",
    "import numpy.linalg as la\n",
    "from collections import OrderedDict\n",
    "from matplotlib.font_manager import FontProperties\n",
    "from matplotlib.gridspec import GridSpec\n",
    "from mpl_toolkits.mplot3d import Axes3D\n",
    "from scipy.io import loadmat\n",
    "from sklearn.decomposition import PCA\n",
    "from sklearn.preprocessing import normalize\n",
    "from ssm import LDS\n",
    "from Session import *\n",
    "from LVM import *\n",
    "from sklearn.model_selection import train_test_split\n",
    "from sklearn.model_selection import cross_validate\n",
    "from sklearn.model_selection import GridSearchCV\n",
    "from sklearn.linear_model import LogisticRegressionCV\n",
    "from sklearn.ensemble import GradientBoostingClassifier\n",
    "from sklearn.preprocessing import StandardScaler\n",
    "from sklearn.metrics import r2_score"
   ]
  },
  {
   "cell_type": "code",
   "execution_count": 46,
   "metadata": {},
   "outputs": [],
   "source": [
    "from matplotlib.cm import get_cmap\n",
    "cmap = get_cmap('coolwarm')"
   ]
  },
  {
   "cell_type": "markdown",
   "metadata": {},
   "source": [
    "## 0. Specify the mouse and session date you are looking at"
   ]
  },
  {
   "cell_type": "code",
   "execution_count": 85,
   "metadata": {},
   "outputs": [],
   "source": [
    "mouse = \"mSM36\"\n",
    "day = \"07-Dec-2017\"\n",
    "bn_version = 'version_4'"
   ]
  },
  {
   "cell_type": "markdown",
   "metadata": {},
   "source": [
    "## 1A. Load data and BehaveNet reconstructions for the best model"
   ]
  },
  {
   "cell_type": "code",
   "execution_count": 86,
   "metadata": {
    "code_folding": [
     0,
     16
    ]
   },
   "outputs": [],
   "source": [
    "def undo_zscore(neural, predictions):\n",
    "    \"\"\"\n",
    "    Assumes data is trial x time x components\n",
    "    \n",
    "    Args:\n",
    "        neural: original neural activity\n",
    "        predictions: predicted z-scored activity\n",
    "    Returns:\n",
    "        predictions with the z-scoring undone\n",
    "    \"\"\"\n",
    "\n",
    "    predictions = predictions.copy()\n",
    "    predictions *= np.std(neural, axis=(0,1))\n",
    "    predictions += np.mean(neural, axis=(0,1))\n",
    "    return predictions\n",
    "\n",
    "def zscore(data):\n",
    "    \"\"\"\n",
    "    Assumes data is trial x time x components\n",
    "    \"\"\"\n",
    "\n",
    "    data -= np.mean(data, axis=(0,1))\n",
    "    data /= np.std(data, axis=(0,1))\n",
    "    return data"
   ]
  },
  {
   "cell_type": "code",
   "execution_count": 87,
   "metadata": {
    "code_folding": [
     0
    ]
   },
   "outputs": [],
   "source": [
    "# Load Session\n",
    "session = Session(\"vistrained\", mouse, day)\n",
    "all_neural_data = session.neural['neural']\n",
    "delay_period_indices = session.get_delay_period(include_stim=True)\n",
    "excerpt_indices = []\n",
    "for trial in range(delay_period_indices.shape[0]):\n",
    "    start = delay_period_indices[trial,:][0] - 30\n",
    "    end = delay_period_indices[trial,:][0] + 90\n",
    "    excerpt_indices.append([start, end])\n",
    "trial_choices = session.trialmarkers['ResponseSide']"
   ]
  },
  {
   "cell_type": "code",
   "execution_count": 88,
   "metadata": {
    "code_folding": [
     1
    ]
   },
   "outputs": [],
   "source": [
    "# Load predictions\n",
    "ffdatadir = \"/home/chingf/Code/Widefield/analysis/musall/vistrained/\" \\\n",
    "    + mouse + \"/\" + day + \"/ae-neural/16_latents/ff/all/test/\"\n",
    "predictions_file = ffdatadir + bn_version + \"/\" + \"predictions.pkl\"\n",
    "with open(predictions_file, \"rb\") as f:\n",
    "    predictions_data = pickle.load(f)\n",
    "predictions = np.nan_to_num(\n",
    "    predictions_data['predictions']\n",
    "    )\n",
    "scaled_predictions = undo_zscore(all_neural_data, predictions)\n",
    "predictions_trials = predictions_data['trials']"
   ]
  },
  {
   "cell_type": "code",
   "execution_count": 89,
   "metadata": {
    "code_folding": [
     0
    ]
   },
   "outputs": [],
   "source": [
    "# Extract bins of interest\n",
    "predictions_excerpt = []\n",
    "neural_data_excerpt = []\n",
    "for trial in range(scaled_predictions.shape[0]):\n",
    "    activity = scaled_predictions[trial,:,:]\n",
    "    indices = excerpt_indices[trial]\n",
    "    predictions_excerpt.append(activity[indices[0]:indices[1],:])\n",
    "    neural_data_excerpt.append(\n",
    "        all_neural_data[trial,indices[0]:indices[1],:]\n",
    "        )\n",
    "scaled_predictions = np.array(predictions_excerpt)\n",
    "neural_data_excerpt = np.array(neural_data_excerpt)"
   ]
  },
  {
   "cell_type": "markdown",
   "metadata": {},
   "source": [
    "## 1B. Fit logistic regression models over each time step\n",
    "### Features: flattened neural activity"
   ]
  },
  {
   "cell_type": "code",
   "execution_count": 85,
   "metadata": {
    "code_folding": [
     0
    ]
   },
   "outputs": [],
   "source": [
    "def fit_LR(start_idx, window_length, data, trial_choices):\n",
    "    \"\"\"\n",
    "    Fits a L2-regularized logistic regression model, predicting\n",
    "    left/right licking choice.\n",
    "    \n",
    "    Args\n",
    "        start_idx: index in delay period to start extracting a window\n",
    "            of activity.\n",
    "        window_length: size of the window of activity to extract\n",
    "    \"\"\"\n",
    "    \n",
    "    X = []\n",
    "    y = []\n",
    "    # Extracting training and test data\n",
    "    for trial in range(trial_choices.size):\n",
    "        choice = trial_choices[trial]\n",
    "        if np.isnan(choice):\n",
    "            continue\n",
    "        activity = data[trial,start_idx:start_idx+window_length,:]\n",
    "        X.append(activity.flatten())\n",
    "        y.append(int(choice-1))\n",
    "    X = np.array(X)\n",
    "    y = np.array(y)\n",
    "    \n",
    "    # Training the model with cross validation\n",
    "    log_reg = LogisticRegressionCV(\n",
    "        Cs=5, cv=5, scoring='accuracy', max_iter=500\n",
    "        )\n",
    "    scaler = StandardScaler()\n",
    "    X = scaler.fit_transform(X)\n",
    "    log_reg.fit(X, y)\n",
    "    return log_reg"
   ]
  },
  {
   "cell_type": "code",
   "execution_count": 86,
   "metadata": {
    "code_folding": [
     0
    ],
    "collapsed": true
   },
   "outputs": [
    {
     "name": "stderr",
     "output_type": "stream",
     "text": [
      "/home/chingf/anaconda3/lib/python3.7/site-packages/sklearn/linear_model/logistic.py:947: ConvergenceWarning: lbfgs failed to converge. Increase the number of iterations.\n",
      "  \"of iterations.\", ConvergenceWarning)\n",
      "/home/chingf/anaconda3/lib/python3.7/site-packages/sklearn/linear_model/logistic.py:947: ConvergenceWarning: lbfgs failed to converge. Increase the number of iterations.\n",
      "  \"of iterations.\", ConvergenceWarning)\n"
     ]
    },
    {
     "ename": "KeyboardInterrupt",
     "evalue": "",
     "output_type": "error",
     "traceback": [
      "\u001b[0;31m---------------------------------------------------------------------------\u001b[0m",
      "\u001b[0;31mKeyboardInterrupt\u001b[0m                         Traceback (most recent call last)",
      "\u001b[0;32m<ipython-input-86-0ea0e73f5c5a>\u001b[0m in \u001b[0;36m<module>\u001b[0;34m\u001b[0m\n\u001b[1;32m      6\u001b[0m \u001b[0mstart_idxs\u001b[0m \u001b[0;34m=\u001b[0m \u001b[0mrange\u001b[0m\u001b[0;34m(\u001b[0m\u001b[0;36m0\u001b[0m\u001b[0;34m,\u001b[0m \u001b[0;36m120\u001b[0m\u001b[0;34m,\u001b[0m \u001b[0;36m2\u001b[0m\u001b[0;34m)\u001b[0m\u001b[0;34m\u001b[0m\u001b[0;34m\u001b[0m\u001b[0m\n\u001b[1;32m      7\u001b[0m \u001b[0;32mfor\u001b[0m \u001b[0mstart_idx\u001b[0m \u001b[0;32min\u001b[0m \u001b[0mstart_idxs\u001b[0m\u001b[0;34m:\u001b[0m\u001b[0;34m\u001b[0m\u001b[0;34m\u001b[0m\u001b[0m\n\u001b[0;32m----> 8\u001b[0;31m     \u001b[0mlog_reg\u001b[0m \u001b[0;34m=\u001b[0m \u001b[0mfit_LR\u001b[0m\u001b[0;34m(\u001b[0m\u001b[0mstart_idx\u001b[0m\u001b[0;34m,\u001b[0m \u001b[0mwindow_length\u001b[0m\u001b[0;34m,\u001b[0m \u001b[0mscaled_predictions\u001b[0m\u001b[0;34m,\u001b[0m \u001b[0mtrial_choices\u001b[0m\u001b[0;34m)\u001b[0m\u001b[0;34m\u001b[0m\u001b[0;34m\u001b[0m\u001b[0m\n\u001b[0m\u001b[1;32m      9\u001b[0m     \u001b[0mresults\u001b[0m\u001b[0;34m.\u001b[0m\u001b[0mappend\u001b[0m\u001b[0;34m(\u001b[0m\u001b[0mlog_reg\u001b[0m\u001b[0;34m)\u001b[0m\u001b[0;34m\u001b[0m\u001b[0;34m\u001b[0m\u001b[0m\n",
      "\u001b[0;32m<ipython-input-85-9a223630f40d>\u001b[0m in \u001b[0;36mfit_LR\u001b[0;34m(start_idx, window_length, data, trial_choices)\u001b[0m\n\u001b[1;32m     29\u001b[0m     \u001b[0mscaler\u001b[0m \u001b[0;34m=\u001b[0m \u001b[0mStandardScaler\u001b[0m\u001b[0;34m(\u001b[0m\u001b[0;34m)\u001b[0m\u001b[0;34m\u001b[0m\u001b[0;34m\u001b[0m\u001b[0m\n\u001b[1;32m     30\u001b[0m     \u001b[0mX\u001b[0m \u001b[0;34m=\u001b[0m \u001b[0mscaler\u001b[0m\u001b[0;34m.\u001b[0m\u001b[0mfit_transform\u001b[0m\u001b[0;34m(\u001b[0m\u001b[0mX\u001b[0m\u001b[0;34m)\u001b[0m\u001b[0;34m\u001b[0m\u001b[0;34m\u001b[0m\u001b[0m\n\u001b[0;32m---> 31\u001b[0;31m     \u001b[0mlog_reg\u001b[0m\u001b[0;34m.\u001b[0m\u001b[0mfit\u001b[0m\u001b[0;34m(\u001b[0m\u001b[0mX\u001b[0m\u001b[0;34m,\u001b[0m \u001b[0my\u001b[0m\u001b[0;34m)\u001b[0m\u001b[0;34m\u001b[0m\u001b[0;34m\u001b[0m\u001b[0m\n\u001b[0m\u001b[1;32m     32\u001b[0m     \u001b[0;32mreturn\u001b[0m \u001b[0mlog_reg\u001b[0m\u001b[0;34m\u001b[0m\u001b[0;34m\u001b[0m\u001b[0m\n",
      "\u001b[0;32m~/anaconda3/lib/python3.7/site-packages/sklearn/linear_model/logistic.py\u001b[0m in \u001b[0;36mfit\u001b[0;34m(self, X, y, sample_weight)\u001b[0m\n\u001b[1;32m   2083\u001b[0m                       \u001b[0ml1_ratio\u001b[0m\u001b[0;34m=\u001b[0m\u001b[0ml1_ratio\u001b[0m\u001b[0;34m\u001b[0m\u001b[0;34m\u001b[0m\u001b[0m\n\u001b[1;32m   2084\u001b[0m                       )\n\u001b[0;32m-> 2085\u001b[0;31m             \u001b[0;32mfor\u001b[0m \u001b[0mlabel\u001b[0m \u001b[0;32min\u001b[0m \u001b[0miter_encoded_labels\u001b[0m\u001b[0;34m\u001b[0m\u001b[0;34m\u001b[0m\u001b[0m\n\u001b[0m\u001b[1;32m   2086\u001b[0m             \u001b[0;32mfor\u001b[0m \u001b[0mtrain\u001b[0m\u001b[0;34m,\u001b[0m \u001b[0mtest\u001b[0m \u001b[0;32min\u001b[0m \u001b[0mfolds\u001b[0m\u001b[0;34m\u001b[0m\u001b[0;34m\u001b[0m\u001b[0m\n\u001b[1;32m   2087\u001b[0m             for l1_ratio in l1_ratios_)\n",
      "\u001b[0;32m~/anaconda3/lib/python3.7/site-packages/joblib/parallel.py\u001b[0m in \u001b[0;36m__call__\u001b[0;34m(self, iterable)\u001b[0m\n\u001b[1;32m    922\u001b[0m                 \u001b[0mself\u001b[0m\u001b[0;34m.\u001b[0m\u001b[0m_iterating\u001b[0m \u001b[0;34m=\u001b[0m \u001b[0mself\u001b[0m\u001b[0;34m.\u001b[0m\u001b[0m_original_iterator\u001b[0m \u001b[0;32mis\u001b[0m \u001b[0;32mnot\u001b[0m \u001b[0;32mNone\u001b[0m\u001b[0;34m\u001b[0m\u001b[0;34m\u001b[0m\u001b[0m\n\u001b[1;32m    923\u001b[0m \u001b[0;34m\u001b[0m\u001b[0m\n\u001b[0;32m--> 924\u001b[0;31m             \u001b[0;32mwhile\u001b[0m \u001b[0mself\u001b[0m\u001b[0;34m.\u001b[0m\u001b[0mdispatch_one_batch\u001b[0m\u001b[0;34m(\u001b[0m\u001b[0miterator\u001b[0m\u001b[0;34m)\u001b[0m\u001b[0;34m:\u001b[0m\u001b[0;34m\u001b[0m\u001b[0;34m\u001b[0m\u001b[0m\n\u001b[0m\u001b[1;32m    925\u001b[0m                 \u001b[0;32mpass\u001b[0m\u001b[0;34m\u001b[0m\u001b[0;34m\u001b[0m\u001b[0m\n\u001b[1;32m    926\u001b[0m \u001b[0;34m\u001b[0m\u001b[0m\n",
      "\u001b[0;32m~/anaconda3/lib/python3.7/site-packages/joblib/parallel.py\u001b[0m in \u001b[0;36mdispatch_one_batch\u001b[0;34m(self, iterator)\u001b[0m\n\u001b[1;32m    757\u001b[0m                 \u001b[0;32mreturn\u001b[0m \u001b[0;32mFalse\u001b[0m\u001b[0;34m\u001b[0m\u001b[0;34m\u001b[0m\u001b[0m\n\u001b[1;32m    758\u001b[0m             \u001b[0;32melse\u001b[0m\u001b[0;34m:\u001b[0m\u001b[0;34m\u001b[0m\u001b[0;34m\u001b[0m\u001b[0m\n\u001b[0;32m--> 759\u001b[0;31m                 \u001b[0mself\u001b[0m\u001b[0;34m.\u001b[0m\u001b[0m_dispatch\u001b[0m\u001b[0;34m(\u001b[0m\u001b[0mtasks\u001b[0m\u001b[0;34m)\u001b[0m\u001b[0;34m\u001b[0m\u001b[0;34m\u001b[0m\u001b[0m\n\u001b[0m\u001b[1;32m    760\u001b[0m                 \u001b[0;32mreturn\u001b[0m \u001b[0;32mTrue\u001b[0m\u001b[0;34m\u001b[0m\u001b[0;34m\u001b[0m\u001b[0m\n\u001b[1;32m    761\u001b[0m \u001b[0;34m\u001b[0m\u001b[0m\n",
      "\u001b[0;32m~/anaconda3/lib/python3.7/site-packages/joblib/parallel.py\u001b[0m in \u001b[0;36m_dispatch\u001b[0;34m(self, batch)\u001b[0m\n\u001b[1;32m    714\u001b[0m         \u001b[0;32mwith\u001b[0m \u001b[0mself\u001b[0m\u001b[0;34m.\u001b[0m\u001b[0m_lock\u001b[0m\u001b[0;34m:\u001b[0m\u001b[0;34m\u001b[0m\u001b[0;34m\u001b[0m\u001b[0m\n\u001b[1;32m    715\u001b[0m             \u001b[0mjob_idx\u001b[0m \u001b[0;34m=\u001b[0m \u001b[0mlen\u001b[0m\u001b[0;34m(\u001b[0m\u001b[0mself\u001b[0m\u001b[0;34m.\u001b[0m\u001b[0m_jobs\u001b[0m\u001b[0;34m)\u001b[0m\u001b[0;34m\u001b[0m\u001b[0;34m\u001b[0m\u001b[0m\n\u001b[0;32m--> 716\u001b[0;31m             \u001b[0mjob\u001b[0m \u001b[0;34m=\u001b[0m \u001b[0mself\u001b[0m\u001b[0;34m.\u001b[0m\u001b[0m_backend\u001b[0m\u001b[0;34m.\u001b[0m\u001b[0mapply_async\u001b[0m\u001b[0;34m(\u001b[0m\u001b[0mbatch\u001b[0m\u001b[0;34m,\u001b[0m \u001b[0mcallback\u001b[0m\u001b[0;34m=\u001b[0m\u001b[0mcb\u001b[0m\u001b[0;34m)\u001b[0m\u001b[0;34m\u001b[0m\u001b[0;34m\u001b[0m\u001b[0m\n\u001b[0m\u001b[1;32m    717\u001b[0m             \u001b[0;31m# A job can complete so quickly than its callback is\u001b[0m\u001b[0;34m\u001b[0m\u001b[0;34m\u001b[0m\u001b[0;34m\u001b[0m\u001b[0m\n\u001b[1;32m    718\u001b[0m             \u001b[0;31m# called before we get here, causing self._jobs to\u001b[0m\u001b[0;34m\u001b[0m\u001b[0;34m\u001b[0m\u001b[0;34m\u001b[0m\u001b[0m\n",
      "\u001b[0;32m~/anaconda3/lib/python3.7/site-packages/joblib/_parallel_backends.py\u001b[0m in \u001b[0;36mapply_async\u001b[0;34m(self, func, callback)\u001b[0m\n\u001b[1;32m    180\u001b[0m     \u001b[0;32mdef\u001b[0m \u001b[0mapply_async\u001b[0m\u001b[0;34m(\u001b[0m\u001b[0mself\u001b[0m\u001b[0;34m,\u001b[0m \u001b[0mfunc\u001b[0m\u001b[0;34m,\u001b[0m \u001b[0mcallback\u001b[0m\u001b[0;34m=\u001b[0m\u001b[0;32mNone\u001b[0m\u001b[0;34m)\u001b[0m\u001b[0;34m:\u001b[0m\u001b[0;34m\u001b[0m\u001b[0;34m\u001b[0m\u001b[0m\n\u001b[1;32m    181\u001b[0m         \u001b[0;34m\"\"\"Schedule a func to be run\"\"\"\u001b[0m\u001b[0;34m\u001b[0m\u001b[0;34m\u001b[0m\u001b[0m\n\u001b[0;32m--> 182\u001b[0;31m         \u001b[0mresult\u001b[0m \u001b[0;34m=\u001b[0m \u001b[0mImmediateResult\u001b[0m\u001b[0;34m(\u001b[0m\u001b[0mfunc\u001b[0m\u001b[0;34m)\u001b[0m\u001b[0;34m\u001b[0m\u001b[0;34m\u001b[0m\u001b[0m\n\u001b[0m\u001b[1;32m    183\u001b[0m         \u001b[0;32mif\u001b[0m \u001b[0mcallback\u001b[0m\u001b[0;34m:\u001b[0m\u001b[0;34m\u001b[0m\u001b[0;34m\u001b[0m\u001b[0m\n\u001b[1;32m    184\u001b[0m             \u001b[0mcallback\u001b[0m\u001b[0;34m(\u001b[0m\u001b[0mresult\u001b[0m\u001b[0;34m)\u001b[0m\u001b[0;34m\u001b[0m\u001b[0;34m\u001b[0m\u001b[0m\n",
      "\u001b[0;32m~/anaconda3/lib/python3.7/site-packages/joblib/_parallel_backends.py\u001b[0m in \u001b[0;36m__init__\u001b[0;34m(self, batch)\u001b[0m\n\u001b[1;32m    547\u001b[0m         \u001b[0;31m# Don't delay the application, to avoid keeping the input\u001b[0m\u001b[0;34m\u001b[0m\u001b[0;34m\u001b[0m\u001b[0;34m\u001b[0m\u001b[0m\n\u001b[1;32m    548\u001b[0m         \u001b[0;31m# arguments in memory\u001b[0m\u001b[0;34m\u001b[0m\u001b[0;34m\u001b[0m\u001b[0;34m\u001b[0m\u001b[0m\n\u001b[0;32m--> 549\u001b[0;31m         \u001b[0mself\u001b[0m\u001b[0;34m.\u001b[0m\u001b[0mresults\u001b[0m \u001b[0;34m=\u001b[0m \u001b[0mbatch\u001b[0m\u001b[0;34m(\u001b[0m\u001b[0;34m)\u001b[0m\u001b[0;34m\u001b[0m\u001b[0;34m\u001b[0m\u001b[0m\n\u001b[0m\u001b[1;32m    550\u001b[0m \u001b[0;34m\u001b[0m\u001b[0m\n\u001b[1;32m    551\u001b[0m     \u001b[0;32mdef\u001b[0m \u001b[0mget\u001b[0m\u001b[0;34m(\u001b[0m\u001b[0mself\u001b[0m\u001b[0;34m)\u001b[0m\u001b[0;34m:\u001b[0m\u001b[0;34m\u001b[0m\u001b[0;34m\u001b[0m\u001b[0m\n",
      "\u001b[0;32m~/anaconda3/lib/python3.7/site-packages/joblib/parallel.py\u001b[0m in \u001b[0;36m__call__\u001b[0;34m(self)\u001b[0m\n\u001b[1;32m    223\u001b[0m         \u001b[0;32mwith\u001b[0m \u001b[0mparallel_backend\u001b[0m\u001b[0;34m(\u001b[0m\u001b[0mself\u001b[0m\u001b[0;34m.\u001b[0m\u001b[0m_backend\u001b[0m\u001b[0;34m,\u001b[0m \u001b[0mn_jobs\u001b[0m\u001b[0;34m=\u001b[0m\u001b[0mself\u001b[0m\u001b[0;34m.\u001b[0m\u001b[0m_n_jobs\u001b[0m\u001b[0;34m)\u001b[0m\u001b[0;34m:\u001b[0m\u001b[0;34m\u001b[0m\u001b[0;34m\u001b[0m\u001b[0m\n\u001b[1;32m    224\u001b[0m             return [func(*args, **kwargs)\n\u001b[0;32m--> 225\u001b[0;31m                     for func, args, kwargs in self.items]\n\u001b[0m\u001b[1;32m    226\u001b[0m \u001b[0;34m\u001b[0m\u001b[0m\n\u001b[1;32m    227\u001b[0m     \u001b[0;32mdef\u001b[0m \u001b[0m__len__\u001b[0m\u001b[0;34m(\u001b[0m\u001b[0mself\u001b[0m\u001b[0;34m)\u001b[0m\u001b[0;34m:\u001b[0m\u001b[0;34m\u001b[0m\u001b[0;34m\u001b[0m\u001b[0m\n",
      "\u001b[0;32m~/anaconda3/lib/python3.7/site-packages/joblib/parallel.py\u001b[0m in \u001b[0;36m<listcomp>\u001b[0;34m(.0)\u001b[0m\n\u001b[1;32m    223\u001b[0m         \u001b[0;32mwith\u001b[0m \u001b[0mparallel_backend\u001b[0m\u001b[0;34m(\u001b[0m\u001b[0mself\u001b[0m\u001b[0;34m.\u001b[0m\u001b[0m_backend\u001b[0m\u001b[0;34m,\u001b[0m \u001b[0mn_jobs\u001b[0m\u001b[0;34m=\u001b[0m\u001b[0mself\u001b[0m\u001b[0;34m.\u001b[0m\u001b[0m_n_jobs\u001b[0m\u001b[0;34m)\u001b[0m\u001b[0;34m:\u001b[0m\u001b[0;34m\u001b[0m\u001b[0;34m\u001b[0m\u001b[0m\n\u001b[1;32m    224\u001b[0m             return [func(*args, **kwargs)\n\u001b[0;32m--> 225\u001b[0;31m                     for func, args, kwargs in self.items]\n\u001b[0m\u001b[1;32m    226\u001b[0m \u001b[0;34m\u001b[0m\u001b[0m\n\u001b[1;32m    227\u001b[0m     \u001b[0;32mdef\u001b[0m \u001b[0m__len__\u001b[0m\u001b[0;34m(\u001b[0m\u001b[0mself\u001b[0m\u001b[0;34m)\u001b[0m\u001b[0;34m:\u001b[0m\u001b[0;34m\u001b[0m\u001b[0;34m\u001b[0m\u001b[0m\n",
      "\u001b[0;32m~/anaconda3/lib/python3.7/site-packages/sklearn/linear_model/logistic.py\u001b[0m in \u001b[0;36m_log_reg_scoring_path\u001b[0;34m(X, y, train, test, pos_class, Cs, scoring, fit_intercept, max_iter, tol, class_weight, verbose, solver, penalty, dual, intercept_scaling, multi_class, random_state, max_squared_sum, sample_weight, l1_ratio)\u001b[0m\n\u001b[1;32m   1160\u001b[0m         \u001b[0mpenalty\u001b[0m\u001b[0;34m=\u001b[0m\u001b[0mpenalty\u001b[0m\u001b[0;34m,\u001b[0m \u001b[0mintercept_scaling\u001b[0m\u001b[0;34m=\u001b[0m\u001b[0mintercept_scaling\u001b[0m\u001b[0;34m,\u001b[0m\u001b[0;34m\u001b[0m\u001b[0;34m\u001b[0m\u001b[0m\n\u001b[1;32m   1161\u001b[0m         \u001b[0mrandom_state\u001b[0m\u001b[0;34m=\u001b[0m\u001b[0mrandom_state\u001b[0m\u001b[0;34m,\u001b[0m \u001b[0mcheck_input\u001b[0m\u001b[0;34m=\u001b[0m\u001b[0;32mFalse\u001b[0m\u001b[0;34m,\u001b[0m\u001b[0;34m\u001b[0m\u001b[0;34m\u001b[0m\u001b[0m\n\u001b[0;32m-> 1162\u001b[0;31m         max_squared_sum=max_squared_sum, sample_weight=sample_weight)\n\u001b[0m\u001b[1;32m   1163\u001b[0m \u001b[0;34m\u001b[0m\u001b[0m\n\u001b[1;32m   1164\u001b[0m     \u001b[0mlog_reg\u001b[0m \u001b[0;34m=\u001b[0m \u001b[0mLogisticRegression\u001b[0m\u001b[0;34m(\u001b[0m\u001b[0msolver\u001b[0m\u001b[0;34m=\u001b[0m\u001b[0msolver\u001b[0m\u001b[0;34m,\u001b[0m \u001b[0mmulti_class\u001b[0m\u001b[0;34m=\u001b[0m\u001b[0mmulti_class\u001b[0m\u001b[0;34m)\u001b[0m\u001b[0;34m\u001b[0m\u001b[0;34m\u001b[0m\u001b[0m\n",
      "\u001b[0;32m~/anaconda3/lib/python3.7/site-packages/sklearn/linear_model/logistic.py\u001b[0m in \u001b[0;36m_logistic_regression_path\u001b[0;34m(X, y, pos_class, Cs, fit_intercept, max_iter, tol, verbose, solver, coef, class_weight, dual, penalty, intercept_scaling, multi_class, random_state, check_input, max_squared_sum, sample_weight, l1_ratio)\u001b[0m\n\u001b[1;32m    942\u001b[0m                 \u001b[0mfunc\u001b[0m\u001b[0;34m,\u001b[0m \u001b[0mw0\u001b[0m\u001b[0;34m,\u001b[0m \u001b[0mfprime\u001b[0m\u001b[0;34m=\u001b[0m\u001b[0;32mNone\u001b[0m\u001b[0;34m,\u001b[0m\u001b[0;34m\u001b[0m\u001b[0;34m\u001b[0m\u001b[0m\n\u001b[1;32m    943\u001b[0m                 \u001b[0margs\u001b[0m\u001b[0;34m=\u001b[0m\u001b[0;34m(\u001b[0m\u001b[0mX\u001b[0m\u001b[0;34m,\u001b[0m \u001b[0mtarget\u001b[0m\u001b[0;34m,\u001b[0m \u001b[0;36m1.\u001b[0m \u001b[0;34m/\u001b[0m \u001b[0mC\u001b[0m\u001b[0;34m,\u001b[0m \u001b[0msample_weight\u001b[0m\u001b[0;34m)\u001b[0m\u001b[0;34m,\u001b[0m\u001b[0;34m\u001b[0m\u001b[0;34m\u001b[0m\u001b[0m\n\u001b[0;32m--> 944\u001b[0;31m                 iprint=iprint, pgtol=tol, maxiter=max_iter)\n\u001b[0m\u001b[1;32m    945\u001b[0m             \u001b[0;32mif\u001b[0m \u001b[0minfo\u001b[0m\u001b[0;34m[\u001b[0m\u001b[0;34m\"warnflag\"\u001b[0m\u001b[0;34m]\u001b[0m \u001b[0;34m==\u001b[0m \u001b[0;36m1\u001b[0m\u001b[0;34m:\u001b[0m\u001b[0;34m\u001b[0m\u001b[0;34m\u001b[0m\u001b[0m\n\u001b[1;32m    946\u001b[0m                 warnings.warn(\"lbfgs failed to converge. Increase the number \"\n",
      "\u001b[0;32m~/anaconda3/lib/python3.7/site-packages/scipy/optimize/lbfgsb.py\u001b[0m in \u001b[0;36mfmin_l_bfgs_b\u001b[0;34m(func, x0, fprime, args, approx_grad, bounds, m, factr, pgtol, epsilon, iprint, maxfun, maxiter, disp, callback, maxls)\u001b[0m\n\u001b[1;32m    197\u001b[0m \u001b[0;34m\u001b[0m\u001b[0m\n\u001b[1;32m    198\u001b[0m     res = _minimize_lbfgsb(fun, x0, args=args, jac=jac, bounds=bounds,\n\u001b[0;32m--> 199\u001b[0;31m                            **opts)\n\u001b[0m\u001b[1;32m    200\u001b[0m     d = {'grad': res['jac'],\n\u001b[1;32m    201\u001b[0m          \u001b[0;34m'task'\u001b[0m\u001b[0;34m:\u001b[0m \u001b[0mres\u001b[0m\u001b[0;34m[\u001b[0m\u001b[0;34m'message'\u001b[0m\u001b[0;34m]\u001b[0m\u001b[0;34m,\u001b[0m\u001b[0;34m\u001b[0m\u001b[0;34m\u001b[0m\u001b[0m\n",
      "\u001b[0;32m~/anaconda3/lib/python3.7/site-packages/scipy/optimize/lbfgsb.py\u001b[0m in \u001b[0;36m_minimize_lbfgsb\u001b[0;34m(fun, x0, args, jac, bounds, disp, maxcor, ftol, gtol, eps, maxfun, maxiter, iprint, callback, maxls, **unknown_options)\u001b[0m\n\u001b[1;32m    333\u001b[0m             \u001b[0;31m# until the completion of the current minimization iteration.\u001b[0m\u001b[0;34m\u001b[0m\u001b[0;34m\u001b[0m\u001b[0;34m\u001b[0m\u001b[0m\n\u001b[1;32m    334\u001b[0m             \u001b[0;31m# Overwrite f and g:\u001b[0m\u001b[0;34m\u001b[0m\u001b[0;34m\u001b[0m\u001b[0;34m\u001b[0m\u001b[0m\n\u001b[0;32m--> 335\u001b[0;31m             \u001b[0mf\u001b[0m\u001b[0;34m,\u001b[0m \u001b[0mg\u001b[0m \u001b[0;34m=\u001b[0m \u001b[0mfunc_and_grad\u001b[0m\u001b[0;34m(\u001b[0m\u001b[0mx\u001b[0m\u001b[0;34m)\u001b[0m\u001b[0;34m\u001b[0m\u001b[0;34m\u001b[0m\u001b[0m\n\u001b[0m\u001b[1;32m    336\u001b[0m         \u001b[0;32melif\u001b[0m \u001b[0mtask_str\u001b[0m\u001b[0;34m.\u001b[0m\u001b[0mstartswith\u001b[0m\u001b[0;34m(\u001b[0m\u001b[0;34mb'NEW_X'\u001b[0m\u001b[0;34m)\u001b[0m\u001b[0;34m:\u001b[0m\u001b[0;34m\u001b[0m\u001b[0;34m\u001b[0m\u001b[0m\n\u001b[1;32m    337\u001b[0m             \u001b[0;31m# new iteration\u001b[0m\u001b[0;34m\u001b[0m\u001b[0;34m\u001b[0m\u001b[0;34m\u001b[0m\u001b[0m\n",
      "\u001b[0;32m~/anaconda3/lib/python3.7/site-packages/scipy/optimize/lbfgsb.py\u001b[0m in \u001b[0;36mfunc_and_grad\u001b[0;34m(x)\u001b[0m\n\u001b[1;32m    283\u001b[0m     \u001b[0;32melse\u001b[0m\u001b[0;34m:\u001b[0m\u001b[0;34m\u001b[0m\u001b[0;34m\u001b[0m\u001b[0m\n\u001b[1;32m    284\u001b[0m         \u001b[0;32mdef\u001b[0m \u001b[0mfunc_and_grad\u001b[0m\u001b[0;34m(\u001b[0m\u001b[0mx\u001b[0m\u001b[0;34m)\u001b[0m\u001b[0;34m:\u001b[0m\u001b[0;34m\u001b[0m\u001b[0;34m\u001b[0m\u001b[0m\n\u001b[0;32m--> 285\u001b[0;31m             \u001b[0mf\u001b[0m \u001b[0;34m=\u001b[0m \u001b[0mfun\u001b[0m\u001b[0;34m(\u001b[0m\u001b[0mx\u001b[0m\u001b[0;34m,\u001b[0m \u001b[0;34m*\u001b[0m\u001b[0margs\u001b[0m\u001b[0;34m)\u001b[0m\u001b[0;34m\u001b[0m\u001b[0;34m\u001b[0m\u001b[0m\n\u001b[0m\u001b[1;32m    286\u001b[0m             \u001b[0mg\u001b[0m \u001b[0;34m=\u001b[0m \u001b[0mjac\u001b[0m\u001b[0;34m(\u001b[0m\u001b[0mx\u001b[0m\u001b[0;34m,\u001b[0m \u001b[0;34m*\u001b[0m\u001b[0margs\u001b[0m\u001b[0;34m)\u001b[0m\u001b[0;34m\u001b[0m\u001b[0;34m\u001b[0m\u001b[0m\n\u001b[1;32m    287\u001b[0m             \u001b[0;32mreturn\u001b[0m \u001b[0mf\u001b[0m\u001b[0;34m,\u001b[0m \u001b[0mg\u001b[0m\u001b[0;34m\u001b[0m\u001b[0;34m\u001b[0m\u001b[0m\n",
      "\u001b[0;32m~/anaconda3/lib/python3.7/site-packages/scipy/optimize/optimize.py\u001b[0m in \u001b[0;36mfunction_wrapper\u001b[0;34m(*wrapper_args)\u001b[0m\n\u001b[1;32m    324\u001b[0m     \u001b[0;32mdef\u001b[0m \u001b[0mfunction_wrapper\u001b[0m\u001b[0;34m(\u001b[0m\u001b[0;34m*\u001b[0m\u001b[0mwrapper_args\u001b[0m\u001b[0;34m)\u001b[0m\u001b[0;34m:\u001b[0m\u001b[0;34m\u001b[0m\u001b[0;34m\u001b[0m\u001b[0m\n\u001b[1;32m    325\u001b[0m         \u001b[0mncalls\u001b[0m\u001b[0;34m[\u001b[0m\u001b[0;36m0\u001b[0m\u001b[0;34m]\u001b[0m \u001b[0;34m+=\u001b[0m \u001b[0;36m1\u001b[0m\u001b[0;34m\u001b[0m\u001b[0;34m\u001b[0m\u001b[0m\n\u001b[0;32m--> 326\u001b[0;31m         \u001b[0;32mreturn\u001b[0m \u001b[0mfunction\u001b[0m\u001b[0;34m(\u001b[0m\u001b[0;34m*\u001b[0m\u001b[0;34m(\u001b[0m\u001b[0mwrapper_args\u001b[0m \u001b[0;34m+\u001b[0m \u001b[0margs\u001b[0m\u001b[0;34m)\u001b[0m\u001b[0;34m)\u001b[0m\u001b[0;34m\u001b[0m\u001b[0;34m\u001b[0m\u001b[0m\n\u001b[0m\u001b[1;32m    327\u001b[0m \u001b[0;34m\u001b[0m\u001b[0m\n\u001b[1;32m    328\u001b[0m     \u001b[0;32mreturn\u001b[0m \u001b[0mncalls\u001b[0m\u001b[0;34m,\u001b[0m \u001b[0mfunction_wrapper\u001b[0m\u001b[0;34m\u001b[0m\u001b[0;34m\u001b[0m\u001b[0m\n",
      "\u001b[0;32m~/anaconda3/lib/python3.7/site-packages/scipy/optimize/optimize.py\u001b[0m in \u001b[0;36m__call__\u001b[0;34m(self, x, *args)\u001b[0m\n\u001b[1;32m     62\u001b[0m     \u001b[0;32mdef\u001b[0m \u001b[0m__call__\u001b[0m\u001b[0;34m(\u001b[0m\u001b[0mself\u001b[0m\u001b[0;34m,\u001b[0m \u001b[0mx\u001b[0m\u001b[0;34m,\u001b[0m \u001b[0;34m*\u001b[0m\u001b[0margs\u001b[0m\u001b[0;34m)\u001b[0m\u001b[0;34m:\u001b[0m\u001b[0;34m\u001b[0m\u001b[0;34m\u001b[0m\u001b[0m\n\u001b[1;32m     63\u001b[0m         \u001b[0mself\u001b[0m\u001b[0;34m.\u001b[0m\u001b[0mx\u001b[0m \u001b[0;34m=\u001b[0m \u001b[0mnumpy\u001b[0m\u001b[0;34m.\u001b[0m\u001b[0masarray\u001b[0m\u001b[0;34m(\u001b[0m\u001b[0mx\u001b[0m\u001b[0;34m)\u001b[0m\u001b[0;34m.\u001b[0m\u001b[0mcopy\u001b[0m\u001b[0;34m(\u001b[0m\u001b[0;34m)\u001b[0m\u001b[0;34m\u001b[0m\u001b[0;34m\u001b[0m\u001b[0m\n\u001b[0;32m---> 64\u001b[0;31m         \u001b[0mfg\u001b[0m \u001b[0;34m=\u001b[0m \u001b[0mself\u001b[0m\u001b[0;34m.\u001b[0m\u001b[0mfun\u001b[0m\u001b[0;34m(\u001b[0m\u001b[0mx\u001b[0m\u001b[0;34m,\u001b[0m \u001b[0;34m*\u001b[0m\u001b[0margs\u001b[0m\u001b[0;34m)\u001b[0m\u001b[0;34m\u001b[0m\u001b[0;34m\u001b[0m\u001b[0m\n\u001b[0m\u001b[1;32m     65\u001b[0m         \u001b[0mself\u001b[0m\u001b[0;34m.\u001b[0m\u001b[0mjac\u001b[0m \u001b[0;34m=\u001b[0m \u001b[0mfg\u001b[0m\u001b[0;34m[\u001b[0m\u001b[0;36m1\u001b[0m\u001b[0;34m]\u001b[0m\u001b[0;34m\u001b[0m\u001b[0;34m\u001b[0m\u001b[0m\n\u001b[1;32m     66\u001b[0m         \u001b[0;32mreturn\u001b[0m \u001b[0mfg\u001b[0m\u001b[0;34m[\u001b[0m\u001b[0;36m0\u001b[0m\u001b[0;34m]\u001b[0m\u001b[0;34m\u001b[0m\u001b[0;34m\u001b[0m\u001b[0m\n",
      "\u001b[0;32m~/anaconda3/lib/python3.7/site-packages/sklearn/linear_model/logistic.py\u001b[0m in \u001b[0;36m_logistic_loss_and_grad\u001b[0;34m(w, X, y, alpha, sample_weight)\u001b[0m\n\u001b[1;32m    117\u001b[0m \u001b[0;34m\u001b[0m\u001b[0m\n\u001b[1;32m    118\u001b[0m     \u001b[0;31m# Logistic loss is the negative of the log of the logistic function.\u001b[0m\u001b[0;34m\u001b[0m\u001b[0;34m\u001b[0m\u001b[0;34m\u001b[0m\u001b[0m\n\u001b[0;32m--> 119\u001b[0;31m     \u001b[0mout\u001b[0m \u001b[0;34m=\u001b[0m \u001b[0;34m-\u001b[0m\u001b[0mnp\u001b[0m\u001b[0;34m.\u001b[0m\u001b[0msum\u001b[0m\u001b[0;34m(\u001b[0m\u001b[0msample_weight\u001b[0m \u001b[0;34m*\u001b[0m \u001b[0mlog_logistic\u001b[0m\u001b[0;34m(\u001b[0m\u001b[0myz\u001b[0m\u001b[0;34m)\u001b[0m\u001b[0;34m)\u001b[0m \u001b[0;34m+\u001b[0m \u001b[0;36m.5\u001b[0m \u001b[0;34m*\u001b[0m \u001b[0malpha\u001b[0m \u001b[0;34m*\u001b[0m \u001b[0mnp\u001b[0m\u001b[0;34m.\u001b[0m\u001b[0mdot\u001b[0m\u001b[0;34m(\u001b[0m\u001b[0mw\u001b[0m\u001b[0;34m,\u001b[0m \u001b[0mw\u001b[0m\u001b[0;34m)\u001b[0m\u001b[0;34m\u001b[0m\u001b[0;34m\u001b[0m\u001b[0m\n\u001b[0m\u001b[1;32m    120\u001b[0m \u001b[0;34m\u001b[0m\u001b[0m\n\u001b[1;32m    121\u001b[0m     \u001b[0mz\u001b[0m \u001b[0;34m=\u001b[0m \u001b[0mexpit\u001b[0m\u001b[0;34m(\u001b[0m\u001b[0myz\u001b[0m\u001b[0;34m)\u001b[0m\u001b[0;34m\u001b[0m\u001b[0;34m\u001b[0m\u001b[0m\n",
      "\u001b[0;32m~/anaconda3/lib/python3.7/site-packages/sklearn/utils/extmath.py\u001b[0m in \u001b[0;36mlog_logistic\u001b[0;34m(X, out)\u001b[0m\n\u001b[1;32m    555\u001b[0m     \u001b[0mis_1d\u001b[0m \u001b[0;34m=\u001b[0m \u001b[0mX\u001b[0m\u001b[0;34m.\u001b[0m\u001b[0mndim\u001b[0m \u001b[0;34m==\u001b[0m \u001b[0;36m1\u001b[0m\u001b[0;34m\u001b[0m\u001b[0;34m\u001b[0m\u001b[0m\n\u001b[1;32m    556\u001b[0m     \u001b[0mX\u001b[0m \u001b[0;34m=\u001b[0m \u001b[0mnp\u001b[0m\u001b[0;34m.\u001b[0m\u001b[0matleast_2d\u001b[0m\u001b[0;34m(\u001b[0m\u001b[0mX\u001b[0m\u001b[0;34m)\u001b[0m\u001b[0;34m\u001b[0m\u001b[0;34m\u001b[0m\u001b[0m\n\u001b[0;32m--> 557\u001b[0;31m     \u001b[0mX\u001b[0m \u001b[0;34m=\u001b[0m \u001b[0mcheck_array\u001b[0m\u001b[0;34m(\u001b[0m\u001b[0mX\u001b[0m\u001b[0;34m,\u001b[0m \u001b[0mdtype\u001b[0m\u001b[0;34m=\u001b[0m\u001b[0mnp\u001b[0m\u001b[0;34m.\u001b[0m\u001b[0mfloat64\u001b[0m\u001b[0;34m)\u001b[0m\u001b[0;34m\u001b[0m\u001b[0;34m\u001b[0m\u001b[0m\n\u001b[0m\u001b[1;32m    558\u001b[0m \u001b[0;34m\u001b[0m\u001b[0m\n\u001b[1;32m    559\u001b[0m     \u001b[0mn_samples\u001b[0m\u001b[0;34m,\u001b[0m \u001b[0mn_features\u001b[0m \u001b[0;34m=\u001b[0m \u001b[0mX\u001b[0m\u001b[0;34m.\u001b[0m\u001b[0mshape\u001b[0m\u001b[0;34m\u001b[0m\u001b[0;34m\u001b[0m\u001b[0m\n",
      "\u001b[0;32m~/anaconda3/lib/python3.7/site-packages/sklearn/utils/validation.py\u001b[0m in \u001b[0;36mcheck_array\u001b[0;34m(array, accept_sparse, accept_large_sparse, dtype, order, copy, force_all_finite, ensure_2d, allow_nd, ensure_min_samples, ensure_min_features, warn_on_dtype, estimator)\u001b[0m\n\u001b[1;32m    543\u001b[0m \u001b[0;34m\u001b[0m\u001b[0m\n\u001b[1;32m    544\u001b[0m     \u001b[0;32mif\u001b[0m \u001b[0mensure_min_samples\u001b[0m \u001b[0;34m>\u001b[0m \u001b[0;36m0\u001b[0m\u001b[0;34m:\u001b[0m\u001b[0;34m\u001b[0m\u001b[0;34m\u001b[0m\u001b[0m\n\u001b[0;32m--> 545\u001b[0;31m         \u001b[0mn_samples\u001b[0m \u001b[0;34m=\u001b[0m \u001b[0m_num_samples\u001b[0m\u001b[0;34m(\u001b[0m\u001b[0marray\u001b[0m\u001b[0;34m)\u001b[0m\u001b[0;34m\u001b[0m\u001b[0;34m\u001b[0m\u001b[0m\n\u001b[0m\u001b[1;32m    546\u001b[0m         \u001b[0;32mif\u001b[0m \u001b[0mn_samples\u001b[0m \u001b[0;34m<\u001b[0m \u001b[0mensure_min_samples\u001b[0m\u001b[0;34m:\u001b[0m\u001b[0;34m\u001b[0m\u001b[0;34m\u001b[0m\u001b[0m\n\u001b[1;32m    547\u001b[0m             raise ValueError(\"Found array with %d sample(s) (shape=%s) while a\"\n",
      "\u001b[0;32m~/anaconda3/lib/python3.7/site-packages/sklearn/utils/validation.py\u001b[0m in \u001b[0;36m_num_samples\u001b[0;34m(x)\u001b[0m\n\u001b[1;32m    147\u001b[0m         \u001b[0;31m# Check that shape is returning an integer or default to len\u001b[0m\u001b[0;34m\u001b[0m\u001b[0;34m\u001b[0m\u001b[0;34m\u001b[0m\u001b[0m\n\u001b[1;32m    148\u001b[0m         \u001b[0;31m# Dask dataframes may not return numeric shape[0] value\u001b[0m\u001b[0;34m\u001b[0m\u001b[0;34m\u001b[0m\u001b[0;34m\u001b[0m\u001b[0m\n\u001b[0;32m--> 149\u001b[0;31m         \u001b[0;32mif\u001b[0m \u001b[0misinstance\u001b[0m\u001b[0;34m(\u001b[0m\u001b[0mx\u001b[0m\u001b[0;34m.\u001b[0m\u001b[0mshape\u001b[0m\u001b[0;34m[\u001b[0m\u001b[0;36m0\u001b[0m\u001b[0;34m]\u001b[0m\u001b[0;34m,\u001b[0m \u001b[0mnumbers\u001b[0m\u001b[0;34m.\u001b[0m\u001b[0mIntegral\u001b[0m\u001b[0;34m)\u001b[0m\u001b[0;34m:\u001b[0m\u001b[0;34m\u001b[0m\u001b[0;34m\u001b[0m\u001b[0m\n\u001b[0m\u001b[1;32m    150\u001b[0m             \u001b[0;32mreturn\u001b[0m \u001b[0mx\u001b[0m\u001b[0;34m.\u001b[0m\u001b[0mshape\u001b[0m\u001b[0;34m[\u001b[0m\u001b[0;36m0\u001b[0m\u001b[0;34m]\u001b[0m\u001b[0;34m\u001b[0m\u001b[0;34m\u001b[0m\u001b[0m\n\u001b[1;32m    151\u001b[0m         \u001b[0;32melse\u001b[0m\u001b[0;34m:\u001b[0m\u001b[0;34m\u001b[0m\u001b[0;34m\u001b[0m\u001b[0m\n",
      "\u001b[0;32m~/anaconda3/lib/python3.7/abc.py\u001b[0m in \u001b[0;36m__instancecheck__\u001b[0;34m(cls, instance)\u001b[0m\n\u001b[1;32m    137\u001b[0m         \u001b[0;32mdef\u001b[0m \u001b[0m__instancecheck__\u001b[0m\u001b[0;34m(\u001b[0m\u001b[0mcls\u001b[0m\u001b[0;34m,\u001b[0m \u001b[0minstance\u001b[0m\u001b[0;34m)\u001b[0m\u001b[0;34m:\u001b[0m\u001b[0;34m\u001b[0m\u001b[0;34m\u001b[0m\u001b[0m\n\u001b[1;32m    138\u001b[0m             \u001b[0;34m\"\"\"Override for isinstance(instance, cls).\"\"\"\u001b[0m\u001b[0;34m\u001b[0m\u001b[0;34m\u001b[0m\u001b[0m\n\u001b[0;32m--> 139\u001b[0;31m             \u001b[0;32mreturn\u001b[0m \u001b[0m_abc_instancecheck\u001b[0m\u001b[0;34m(\u001b[0m\u001b[0mcls\u001b[0m\u001b[0;34m,\u001b[0m \u001b[0minstance\u001b[0m\u001b[0;34m)\u001b[0m\u001b[0;34m\u001b[0m\u001b[0;34m\u001b[0m\u001b[0m\n\u001b[0m\u001b[1;32m    140\u001b[0m \u001b[0;34m\u001b[0m\u001b[0m\n\u001b[1;32m    141\u001b[0m         \u001b[0;32mdef\u001b[0m \u001b[0m__subclasscheck__\u001b[0m\u001b[0;34m(\u001b[0m\u001b[0mcls\u001b[0m\u001b[0;34m,\u001b[0m \u001b[0msubclass\u001b[0m\u001b[0;34m)\u001b[0m\u001b[0;34m:\u001b[0m\u001b[0;34m\u001b[0m\u001b[0;34m\u001b[0m\u001b[0m\n",
      "\u001b[0;32m~/anaconda3/lib/python3.7/abc.py\u001b[0m in \u001b[0;36m__subclasscheck__\u001b[0;34m(cls, subclass)\u001b[0m\n\u001b[1;32m    141\u001b[0m         \u001b[0;32mdef\u001b[0m \u001b[0m__subclasscheck__\u001b[0m\u001b[0;34m(\u001b[0m\u001b[0mcls\u001b[0m\u001b[0;34m,\u001b[0m \u001b[0msubclass\u001b[0m\u001b[0;34m)\u001b[0m\u001b[0;34m:\u001b[0m\u001b[0;34m\u001b[0m\u001b[0;34m\u001b[0m\u001b[0m\n\u001b[1;32m    142\u001b[0m             \u001b[0;34m\"\"\"Override for issubclass(subclass, cls).\"\"\"\u001b[0m\u001b[0;34m\u001b[0m\u001b[0;34m\u001b[0m\u001b[0m\n\u001b[0;32m--> 143\u001b[0;31m             \u001b[0;32mreturn\u001b[0m \u001b[0m_abc_subclasscheck\u001b[0m\u001b[0;34m(\u001b[0m\u001b[0mcls\u001b[0m\u001b[0;34m,\u001b[0m \u001b[0msubclass\u001b[0m\u001b[0;34m)\u001b[0m\u001b[0;34m\u001b[0m\u001b[0;34m\u001b[0m\u001b[0m\n\u001b[0m\u001b[1;32m    144\u001b[0m \u001b[0;34m\u001b[0m\u001b[0m\n\u001b[1;32m    145\u001b[0m         \u001b[0;32mdef\u001b[0m \u001b[0m_dump_registry\u001b[0m\u001b[0;34m(\u001b[0m\u001b[0mcls\u001b[0m\u001b[0;34m,\u001b[0m \u001b[0mfile\u001b[0m\u001b[0;34m=\u001b[0m\u001b[0;32mNone\u001b[0m\u001b[0;34m)\u001b[0m\u001b[0;34m:\u001b[0m\u001b[0;34m\u001b[0m\u001b[0;34m\u001b[0m\u001b[0m\n",
      "\u001b[0;31mKeyboardInterrupt\u001b[0m: "
     ]
    }
   ],
   "source": [
    "# Reconstructions: Do a grid search over start index and window length\n",
    "# Fit logistic regression models\n",
    "window_length = 2\n",
    "results = []\n",
    "\n",
    "start_idxs = range(0, 120, 2)\n",
    "for start_idx in start_idxs:\n",
    "    log_reg = fit_LR(start_idx, window_length, scaled_predictions, trial_choices)\n",
    "    results.append(log_reg)"
   ]
  },
  {
   "cell_type": "code",
   "execution_count": null,
   "metadata": {
    "code_folding": []
   },
   "outputs": [],
   "source": [
    "# Save the logistic regression models\n",
    "pickle.dump(results, open(\n",
    "    \"pickles/temporaldecoding_reconstructions_\" + mouse + \"_\" + day + \".p\", \"wb\"\n",
    "    ))"
   ]
  },
  {
   "cell_type": "markdown",
   "metadata": {},
   "source": [
    "## 2. Decoding: Which time periods are most predictive?\n",
    "### Features: flattened neural activity"
   ]
  },
  {
   "cell_type": "code",
   "execution_count": 90,
   "metadata": {
    "code_folding": []
   },
   "outputs": [],
   "source": [
    "# Extract the results corresponding to window_size = 2\n",
    "with open(\n",
    "    \"pickles/temporaldecoding_reconstructions_\" + mouse + \"_\" + day + \".p\", \"rb\"\n",
    "    ) as f:\n",
    "    results = pickle.load(f)"
   ]
  },
  {
   "cell_type": "code",
   "execution_count": 91,
   "metadata": {},
   "outputs": [],
   "source": [
    "# Extract the results corresponding to window_size = 2\n",
    "with open(\n",
    "    \"pickles/temporaldecoding_neural_\" + mouse + \"_\" + day + \".p\", \"rb\"\n",
    "    ) as f:\n",
    "    neur_results = pickle.load(f)"
   ]
  },
  {
   "cell_type": "code",
   "execution_count": 94,
   "metadata": {},
   "outputs": [],
   "source": [
    "# Extract the results corresponding to window_size = 2\n",
    "with open(\n",
    "    \"pickles/temporaldecoding_behavelatents_\" + mouse + \"_\" + day + \".p\", \"rb\"\n",
    "    ) as f:\n",
    "    bl_results = pickle.load(f)"
   ]
  },
  {
   "cell_type": "code",
   "execution_count": 95,
   "metadata": {},
   "outputs": [],
   "source": [
    "reg_indxs = session.neural['reg_indxs_consolidate'].item()\n",
    "reg_names = session.neural['reg_indxs_consolidate'].dtype.names"
   ]
  },
  {
   "cell_type": "code",
   "execution_count": 96,
   "metadata": {
    "code_folding": []
   },
   "outputs": [
    {
     "data": {
      "text/plain": [
       "<matplotlib.axes._subplots.AxesSubplot at 0x7f128b3a1c50>"
      ]
     },
     "execution_count": 96,
     "metadata": {},
     "output_type": "execute_result"
    },
    {
     "data": {
      "image/png": "[encoded data removed]",
      "text/plain": [
       "<Figure size 648x504 with 1 Axes>"
      ]
     },
     "metadata": {
      "needs_background": "light"
     },
     "output_type": "display_data"
    }
   ],
   "source": [
    "# Plot decoding accuracy over time\n",
    "start_frame = []\n",
    "accuracy = []\n",
    "neur_accuracy = []\n",
    "bl_accuracy = []\n",
    "plt.figure(figsize=(9,7))\n",
    "for frame, log_reg in enumerate(results):\n",
    "    if log_reg == None:\n",
    "        continue\n",
    "    start_frame.append(frame*2)\n",
    "    accuracy.append(\n",
    "        np.max(np.mean(log_reg.scores_[1], axis=0))\n",
    "        )\n",
    "    \n",
    "    # Do the same for behavenet latents\n",
    "    bl_reg = bl_results[frame]\n",
    "    bl_accuracy.append(\n",
    "        np.max(np.mean(bl_reg.scores_[1], axis=0))\n",
    "        )\n",
    "    \n",
    "    # Now do the same for the full neural data\n",
    "    neur_log_reg = neur_results[frame]\n",
    "    neur_accuracy.append(\n",
    "        np.max(np.mean(neur_log_reg.scores_[1], axis=0))\n",
    "        )\n",
    "plt.xticks(\n",
    "    ticks=[30, 30+18, 30+33, 30+51, 30+84],\n",
    "    labels=['Stim On', 'Stim Off', 'Stim On', 'Stim Off', 'Spouts In'],\n",
    "    rotation=45, fontsize=14\n",
    "    )\n",
    "plt.axvspan(30, 30+18, alpha=0.3, color='red')\n",
    "plt.axvspan(30+33, 30+51, alpha=0.3, color='red')\n",
    "plt.title(\"Choice Decoding\\n\" + mouse + \": \" + day)\n",
    "plt.ylabel(\"Accuracy\", fontsize=14)\n",
    "plt.ylim((0.5,1))\n",
    "sns.lineplot(\n",
    "    x=start_frame, y=accuracy, label=\"BehaveNet Reconstruction\",\n",
    "    linewidth=1.5\n",
    "    )\n",
    "sns.lineplot(\n",
    "    x=start_frame, y=neur_accuracy, label=\"Original Neural Activity\",\n",
    "    linewidth=1.5\n",
    "    )\n",
    "sns.lineplot(\n",
    "    x=start_frame, y=bl_accuracy, label=\"BehaveNet Latents\",\n",
    "    linewidth=1.5\n",
    "    )"
   ]
  },
  {
   "cell_type": "markdown",
   "metadata": {},
   "source": [
    "## 3. Decoding: Which regions are most predictive?\n",
    "### Using window frames of length 2 frames"
   ]
  },
  {
   "cell_type": "code",
   "execution_count": 49,
   "metadata": {
    "code_folding": [
     0
    ]
   },
   "outputs": [],
   "source": [
    "# Collect coefficient values\n",
    "coef_values_df = {}\n",
    "coef_values_df['Trial Event'] = []\n",
    "coef_values_df['Coefficients'] = []\n",
    "coef_values_df['Brain Region'] = []\n",
    "frames = [14/2, 40/2, 56/2, 72/2, 90/2]\n",
    "events = ['Pre-Stim', 'Stim 1', 'Between Stims', 'Stim 2', 'Delay']\n",
    "\n",
    "# Iterate over each region\n",
    "session = Session(\"vistrained\", mouse, day, access_engram=False, load_behavenet=False)\n",
    "reg_indxs = session.neural['reg_indxs_consolidate'].item()\n",
    "reg_names = session.neural['reg_indxs_consolidate'].dtype.names\n",
    "for idx, reg_name in enumerate(reg_names):\n",
    "    components = reg_indxs[idx].squeeze()\n",
    "\n",
    "    # For each component in a region\n",
    "    for component in components:\n",
    "        # For each time step, collect the relevant coefficient values\n",
    "        for idx, log_reg in enumerate(results):\n",
    "            if idx not in frames:\n",
    "                continue\n",
    "            normalized_coefs = normalize(log_reg.coef_).squeeze()\n",
    "            coef_values_df['Trial Event'].append(events[frames.index(idx)])\n",
    "            coef_values_df['Coefficients'].append(\n",
    "                np.abs(normalized_coefs[component-1]) # Components is 1-indexed!\n",
    "                )\n",
    "            coef_values_df['Brain Region'].append(reg_name)\n",
    "coef_values_df = pd.DataFrame(data=coef_values_df)"
   ]
  },
  {
   "cell_type": "code",
   "execution_count": 50,
   "metadata": {},
   "outputs": [
    {
     "data": {
      "image/png": "[encoded data removed]",
      "text/plain": [
       "<Figure size 1224x576 with 1 Axes>"
      ]
     },
     "metadata": {
      "needs_background": "light"
     },
     "output_type": "display_data"
    }
   ],
   "source": [
    "plt.figure(figsize=(17,8))\n",
    "plt.title(\"Normalized Coefficient Values of Decoder\", fontsize=14)\n",
    "plt.ylabel(\"Value\", fontsize=14)\n",
    "plt.xlabel(\"Trial Event\", fontsize=14)\n",
    "ax = sns.barplot(\n",
    "    x=\"Trial Event\", y=\"Coefficients\", hue=\"Brain Region\", data=coef_values_df\n",
    "    )"
   ]
  },
  {
   "cell_type": "markdown",
   "metadata": {},
   "source": [
    "## 4. Which regions are reconstructed best?"
   ]
  },
  {
   "cell_type": "code",
   "execution_count": 83,
   "metadata": {},
   "outputs": [],
   "source": [
    "session = Session(\"vistrained\", mouse, day, access_engram=False, load_behavenet=False)\n",
    "reg_indxs = session.neural['reg_indxs_consolidate'].item()\n",
    "reg_names = session.neural['reg_indxs_consolidate'].dtype.names"
   ]
  },
  {
   "cell_type": "code",
   "execution_count": 84,
   "metadata": {
    "code_folding": []
   },
   "outputs": [
    {
     "data": {
      "text/plain": [
       "Text(0.5, 0, 'Brain Region')"
      ]
     },
     "execution_count": 84,
     "metadata": {},
     "output_type": "execute_result"
    },
    {
     "data": {
      "image/png": "[encoded data removed]",
      "text/plain": [
       "<Figure size 504x360 with 1 Axes>"
      ]
     },
     "metadata": {
      "needs_background": "light"
     },
     "output_type": "display_data"
    }
   ],
   "source": [
    "# Over the whole trial:\n",
    "r2_df = {}\n",
    "r2_df['R2 Value'] = []\n",
    "r2_df['Brain Region'] = []\n",
    "test_trials = predictions_trials['test']\n",
    "\n",
    "for idx, reg_name in enumerate(reg_names):\n",
    "    components = reg_indxs[idx].squeeze()\n",
    "\n",
    "    # For each component in a region\n",
    "    for component in components:\n",
    "        pred_activity = scaled_predictions[test_trials,:,component-1]\n",
    "        exp_activity = neural_data_excerpt[test_trials,:,component-1]\n",
    "        r2 = r2_score(exp_activity, pred_activity)\n",
    "        r2_df['Brain Region'].append(reg_name)\n",
    "        r2_df['R2 Value'].append(r2)\n",
    "r2_df = pd.DataFrame(data=r2_df)\n",
    "\n",
    "plt.figure(figsize=(7,5))\n",
    "plt.title(\"BehaveNet Reconstruction\\n\" + mouse + \": \" + day, fontsize=14)\n",
    "ax = sns.barplot(\n",
    "    y=\"R2 Value\", x=\"Brain Region\", data=r2_df\n",
    "    )\n",
    "plt.ylabel(\"R2 Value\", fontsize=14)\n",
    "plt.xlabel(\"Brain Region\", fontsize=14)"
   ]
  },
  {
   "cell_type": "markdown",
   "metadata": {},
   "source": [
    "## 5. Trying a different classifier"
   ]
  },
  {
   "cell_type": "code",
   "execution_count": 8,
   "metadata": {
    "code_folding": [
     0
    ]
   },
   "outputs": [],
   "source": [
    "# Import statements\n",
    "from sklearn.model_selection import cross_validate\n",
    "from sklearn.model_selection import train_test_split\n",
    "from sklearn.model_selection import GridSearchCV\n",
    "from sklearn.ensemble import GradientBoostingClassifier\n",
    "import warnings\n",
    "scoring = ['accuracy']"
   ]
  },
  {
   "cell_type": "code",
   "execution_count": 9,
   "metadata": {
    "code_folding": [
     0
    ]
   },
   "outputs": [],
   "source": [
    "def _gradientboosting_hyperparameter_search(X, y):\n",
    "    \"\"\"\n",
    "        Returns the Gradient Boosting classifier using cross-validated\n",
    "        optimal hyperparameters. Code adapted from:\n",
    "        https://github.com/aarshayj/Analytics_Vidhya/blob/master/Articles/\n",
    "        Parameter_Tuning_GBM_with_Example/GBM%20model.ipynb\n",
    "    \"\"\"\n",
    "\n",
    "    param_1 = {'n_estimators': np.linspace(20, 140, 10, dtype=int)}\n",
    "    gsearch_1 = GridSearchCV(\n",
    "        estimator=GradientBoostingClassifier(\n",
    "            min_samples_split=max(int(y.size*.01), 2),\n",
    "            max_depth=8,\n",
    "            subsample=0.8\n",
    "            ),\n",
    "        param_grid=param_1,\n",
    "        scoring='roc_auc',\n",
    "        n_jobs=-1,\n",
    "        iid=False,\n",
    "        cv=5\n",
    "        )\n",
    "    gsearch_1.fit(X, y)\n",
    "    opt_n_estimators = gsearch_1.best_params_['n_estimators']\n",
    "    if opt_n_estimators == 20 or opt_n_estimators == 140:\n",
    "        warnings.warn(\"n_estimators is at a boundary value: \" + str(opt_n_estimators))\n",
    "\n",
    "    param_2 = {\n",
    "            'max_depth':np.linspace(3, 15, 5, dtype=int),\n",
    "            'min_samples_split':np.linspace(20,500,5, dtype=int)\n",
    "            }\n",
    "    gsearch_2 = GridSearchCV(\n",
    "        estimator=GradientBoostingClassifier(\n",
    "            n_estimators=opt_n_estimators,\n",
    "            subsample=0.8\n",
    "            ),\n",
    "        param_grid=param_2,\n",
    "        scoring='roc_auc',\n",
    "        n_jobs=-1,\n",
    "        iid=False,\n",
    "        cv=5\n",
    "        )\n",
    "    gsearch_2.fit(X, y)\n",
    "    opt_max_depth = gsearch_2.best_params_['max_depth']\n",
    "    opt_min_samples_split = gsearch_2.best_params_['min_samples_split']\n",
    "    if opt_max_depth == 5 or opt_max_depth == 15:\n",
    "        warnings.warn(\"max_depth is at a boundary value: \" + str(opt_max_depth))\n",
    "    if opt_min_samples_split == 20 or opt_min_samples_split == 500:\n",
    "        warnings.warn(\"min_samples_split is at a boundary value: \" +\\\n",
    "            str(opt_min_samples_split)\n",
    "            )\n",
    "    #import pdb;pdb.set_trace()\n",
    "\n",
    "    param_3 = {'min_samples_leaf':np.linspace(20, 100, 10, dtype=int)}\n",
    "    gsearch_3 = GridSearchCV(\n",
    "        estimator=GradientBoostingClassifier(\n",
    "            n_estimators=opt_n_estimators,\n",
    "            max_depth=opt_max_depth,\n",
    "            min_samples_split=opt_min_samples_split,\n",
    "            subsample=0.8\n",
    "            ),\n",
    "        param_grid=param_3,\n",
    "        scoring='roc_auc',\n",
    "        n_jobs=-1,\n",
    "        iid=False,\n",
    "        cv=5\n",
    "    )\n",
    "    gsearch_3.fit(X, y)\n",
    "    opt_min_samples_leaf = gsearch_3.best_params_['min_samples_leaf']\n",
    "    if opt_min_samples_leaf == 20 or opt_min_samples_leaf == 100:\n",
    "        warnings.warn(\"min_samples_leaf is at a boundary value: \" +\\\n",
    "            str(opt_min_samples_leaf)\n",
    "            )\n",
    "    #import pdb;pdb.set_trace()\n",
    "\n",
    "    param_4 = {'max_features': np.linspace(5, X.shape[1]//2, 10, dtype=int)}\n",
    "    gsearch_4 = GridSearchCV(\n",
    "        estimator=GradientBoostingClassifier(\n",
    "            n_estimators=opt_n_estimators,\n",
    "            max_depth=opt_max_depth,\n",
    "            min_samples_split=opt_min_samples_split,\n",
    "            min_samples_leaf=opt_min_samples_leaf,\n",
    "            subsample=0.9\n",
    "            ),\n",
    "        param_grid=param_4,\n",
    "        scoring='roc_auc',\n",
    "        n_jobs=-1,\n",
    "        iid=False,\n",
    "        cv=5\n",
    "    )\n",
    "    gsearch_4.fit(X, y)\n",
    "    opt_max_features = gsearch_4.best_params_['max_features']\n",
    "    if opt_max_features == 5 or opt_max_features == X.shape[1]//2:\n",
    "        warnings.warn(\"max_features is at a boundary value: \" +\\\n",
    "            str(opt_max_features)\n",
    "            )\n",
    "    #import pdb;pdb.set_trace()\n",
    "\n",
    "    param_5 = {'subsample': np.linspace(0.6, 1.0, 6)}\n",
    "    gsearch_5 = GridSearchCV(\n",
    "        estimator=GradientBoostingClassifier(\n",
    "            n_estimators=opt_n_estimators,\n",
    "            max_depth=opt_max_depth,\n",
    "            min_samples_split=opt_min_samples_split,\n",
    "            min_samples_leaf=opt_min_samples_leaf,\n",
    "            max_features=opt_max_features\n",
    "            ),\n",
    "        param_grid=param_5,\n",
    "        scoring='roc_auc',\n",
    "        n_jobs=-1,\n",
    "        iid=False,\n",
    "        cv=5\n",
    "    )\n",
    "    gsearch_5.fit(X, y)\n",
    "    opt_subsample=gsearch_5.best_params_['subsample']\n",
    "    if opt_subsample == 0.6 or opt_subsample==1.0:\n",
    "        warnings.warn(\"subsample is at a boundary value: \" + str(opt_subsample))\n",
    "    #import pdb;pdb.set_trace()\n",
    "\n",
    "    return GradientBoostingClassifier(\n",
    "        n_estimators=opt_n_estimators,\n",
    "        max_depth=opt_max_depth,\n",
    "        min_samples_split=opt_min_samples_split,\n",
    "        min_samples_leaf=opt_min_samples_leaf,\n",
    "        max_features=opt_max_features,\n",
    "        subsample=opt_subsample\n",
    "        )"
   ]
  },
  {
   "cell_type": "code",
   "execution_count": 10,
   "metadata": {
    "code_folding": [
     18
    ]
   },
   "outputs": [],
   "source": [
    "def _evaluate_cv(model, X, y):\n",
    "    \"\"\"\n",
    "        Gets the cross-validated roc_auc and accuracy score of some classifier.\n",
    "        Additionally returns the best model over the cross-validation.\n",
    "    \"\"\"\n",
    "\n",
    "    scores = cross_validate(\n",
    "        model, X, y, scoring=scoring,\n",
    "        cv=5, n_jobs=-1, return_estimator=True\n",
    "        )\n",
    "    test_scores = []\n",
    "    for s in scoring:\n",
    "        score_key = \"test_\" + s\n",
    "        test_scores.append(scores[score_key])\n",
    "    all_estimators = scores['estimator']\n",
    "    best_estimator = all_estimators[np.argmax(scores[\"test_accuracy\"])]\n",
    "    return test_scores, best_estimator \n",
    "\n",
    "def _display_scores(scores):\n",
    "    \"\"\"\n",
    "        Prints the mean and standard deviation of accuracy scores obtained\n",
    "        through cross-validated classifiers.\n",
    "    \"\"\"\n",
    "\n",
    "    for i in range(len(scores)):\n",
    "        print(\"Using score: \" + scoring[i])\n",
    "        print(\"Mean: \", np.mean(scores[i]))\n",
    "        print(\"Std Dev: \", np.std(scores[i]))\n",
    "        print()"
   ]
  },
  {
   "cell_type": "code",
   "execution_count": 11,
   "metadata": {
    "code_folding": []
   },
   "outputs": [],
   "source": [
    "def run_gradientboosting(data, trial_choices):\n",
    "    \"\"\"\n",
    "        Prints the result of training gradient tree boosting classifiers.\n",
    "        Returns the fitted model.\n",
    "    \"\"\"\n",
    "\n",
    "    X = []\n",
    "    y = []\n",
    "    # Extracting training and test data\n",
    "    for trial in range(trial_choices.size):\n",
    "        choice = trial_choices[trial]\n",
    "        if np.isnan(choice):\n",
    "            continue\n",
    "        activity = data[trial,start_idx:start_idx+window_length,:]\n",
    "        X.append(activity.flatten())\n",
    "        y.append(int(choice-1))\n",
    "    X = np.array(X)\n",
    "    y = np.array(y)\n",
    "    gbrt = _gradientboosting_hyperparameter_search(X, y)\n",
    "    scores, fitted_model = _evaluate_cv(gbrt, X, y)\n",
    "    _display_scores(scores)\n",
    "    return scores, fitted_model"
   ]
  },
  {
   "cell_type": "code",
   "execution_count": 12,
   "metadata": {},
   "outputs": [
    {
     "name": "stderr",
     "output_type": "stream",
     "text": [
      "/home/chingf/anaconda3/lib/python3.7/site-packages/ipykernel_launcher.py:25: UserWarning: n_estimators is at a boundary value: 140\n",
      "/home/chingf/anaconda3/lib/python3.7/site-packages/ipykernel_launcher.py:71: UserWarning: min_samples_leaf is at a boundary value: 100\n"
     ]
    },
    {
     "name": "stdout",
     "output_type": "stream",
     "text": [
      "Using score: accuracy\n",
      "Mean:  0.5332212885154062\n",
      "Std Dev:  0.05604169135945984\n",
      "\n"
     ]
    },
    {
     "name": "stderr",
     "output_type": "stream",
     "text": [
      "/home/chingf/anaconda3/lib/python3.7/site-packages/ipykernel_launcher.py:71: UserWarning: min_samples_leaf is at a boundary value: 100\n",
      "/home/chingf/anaconda3/lib/python3.7/site-packages/ipykernel_launcher.py:94: UserWarning: max_features is at a boundary value: 242\n"
     ]
    },
    {
     "name": "stdout",
     "output_type": "stream",
     "text": [
      "Using score: accuracy\n",
      "Mean:  0.5355742296918768\n",
      "Std Dev:  0.05516742543305749\n",
      "\n"
     ]
    },
    {
     "name": "stderr",
     "output_type": "stream",
     "text": [
      "/home/chingf/anaconda3/lib/python3.7/site-packages/ipykernel_launcher.py:116: UserWarning: subsample is at a boundary value: 1.0\n"
     ]
    },
    {
     "name": "stdout",
     "output_type": "stream",
     "text": [
      "Using score: accuracy\n",
      "Mean:  0.5284033613445379\n",
      "Std Dev:  0.04917816693130644\n",
      "\n"
     ]
    },
    {
     "name": "stderr",
     "output_type": "stream",
     "text": [
      "/home/chingf/anaconda3/lib/python3.7/site-packages/ipykernel_launcher.py:49: UserWarning: min_samples_split is at a boundary value: 20\n",
      "/home/chingf/anaconda3/lib/python3.7/site-packages/ipykernel_launcher.py:116: UserWarning: subsample is at a boundary value: 0.6\n"
     ]
    },
    {
     "name": "stdout",
     "output_type": "stream",
     "text": [
      "Using score: accuracy\n",
      "Mean:  0.4955182072829132\n",
      "Std Dev:  0.05795957515710357\n",
      "\n"
     ]
    },
    {
     "name": "stderr",
     "output_type": "stream",
     "text": [
      "/home/chingf/anaconda3/lib/python3.7/site-packages/ipykernel_launcher.py:46: UserWarning: max_depth is at a boundary value: 15\n",
      "/home/chingf/anaconda3/lib/python3.7/site-packages/ipykernel_launcher.py:116: UserWarning: subsample is at a boundary value: 1.0\n"
     ]
    },
    {
     "name": "stdout",
     "output_type": "stream",
     "text": [
      "Using score: accuracy\n",
      "Mean:  0.5095518207282914\n",
      "Std Dev:  0.034594620025398794\n",
      "\n"
     ]
    },
    {
     "name": "stderr",
     "output_type": "stream",
     "text": [
      "/home/chingf/anaconda3/lib/python3.7/site-packages/ipykernel_launcher.py:46: UserWarning: max_depth is at a boundary value: 15\n",
      "/home/chingf/anaconda3/lib/python3.7/site-packages/ipykernel_launcher.py:49: UserWarning: min_samples_split is at a boundary value: 20\n"
     ]
    },
    {
     "name": "stdout",
     "output_type": "stream",
     "text": [
      "Using score: accuracy\n",
      "Mean:  0.4859663865546218\n",
      "Std Dev:  0.0557378205767087\n",
      "\n"
     ]
    },
    {
     "name": "stderr",
     "output_type": "stream",
     "text": [
      "/home/chingf/anaconda3/lib/python3.7/site-packages/ipykernel_launcher.py:116: UserWarning: subsample is at a boundary value: 0.6\n"
     ]
    },
    {
     "name": "stdout",
     "output_type": "stream",
     "text": [
      "Using score: accuracy\n",
      "Mean:  0.5307843137254903\n",
      "Std Dev:  0.02098736575041734\n",
      "\n"
     ]
    },
    {
     "name": "stderr",
     "output_type": "stream",
     "text": [
      "/home/chingf/anaconda3/lib/python3.7/site-packages/ipykernel_launcher.py:25: UserWarning: n_estimators is at a boundary value: 20\n",
      "/home/chingf/anaconda3/lib/python3.7/site-packages/ipykernel_launcher.py:71: UserWarning: min_samples_leaf is at a boundary value: 100\n",
      "/home/chingf/anaconda3/lib/python3.7/site-packages/ipykernel_launcher.py:116: UserWarning: subsample is at a boundary value: 1.0\n"
     ]
    },
    {
     "name": "stdout",
     "output_type": "stream",
     "text": [
      "Using score: accuracy\n",
      "Mean:  0.5047058823529411\n",
      "Std Dev:  0.04200771143388172\n",
      "\n"
     ]
    },
    {
     "name": "stderr",
     "output_type": "stream",
     "text": [
      "/home/chingf/anaconda3/lib/python3.7/site-packages/ipykernel_launcher.py:25: UserWarning: n_estimators is at a boundary value: 140\n",
      "/home/chingf/anaconda3/lib/python3.7/site-packages/ipykernel_launcher.py:116: UserWarning: subsample is at a boundary value: 1.0\n"
     ]
    },
    {
     "name": "stdout",
     "output_type": "stream",
     "text": [
      "Using score: accuracy\n",
      "Mean:  0.5047338935574229\n",
      "Std Dev:  0.04147838021846409\n",
      "\n"
     ]
    },
    {
     "name": "stderr",
     "output_type": "stream",
     "text": [
      "/home/chingf/anaconda3/lib/python3.7/site-packages/ipykernel_launcher.py:49: UserWarning: min_samples_split is at a boundary value: 20\n",
      "/home/chingf/anaconda3/lib/python3.7/site-packages/ipykernel_launcher.py:94: UserWarning: max_features is at a boundary value: 5\n",
      "/home/chingf/anaconda3/lib/python3.7/site-packages/ipykernel_launcher.py:116: UserWarning: subsample is at a boundary value: 0.6\n"
     ]
    },
    {
     "name": "stdout",
     "output_type": "stream",
     "text": [
      "Using score: accuracy\n",
      "Mean:  0.5355742296918767\n",
      "Std Dev:  0.04351718894399719\n",
      "\n"
     ]
    },
    {
     "name": "stderr",
     "output_type": "stream",
     "text": [
      "/home/chingf/anaconda3/lib/python3.7/site-packages/ipykernel_launcher.py:25: UserWarning: n_estimators is at a boundary value: 140\n",
      "/home/chingf/anaconda3/lib/python3.7/site-packages/ipykernel_launcher.py:94: UserWarning: max_features is at a boundary value: 5\n"
     ]
    },
    {
     "name": "stdout",
     "output_type": "stream",
     "text": [
      "Using score: accuracy\n",
      "Mean:  0.5047899159663866\n",
      "Std Dev:  0.042817066265715784\n",
      "\n"
     ]
    },
    {
     "name": "stderr",
     "output_type": "stream",
     "text": [
      "/home/chingf/anaconda3/lib/python3.7/site-packages/ipykernel_launcher.py:71: UserWarning: min_samples_leaf is at a boundary value: 100\n",
      "/home/chingf/anaconda3/lib/python3.7/site-packages/ipykernel_launcher.py:94: UserWarning: max_features is at a boundary value: 5\n"
     ]
    },
    {
     "name": "stdout",
     "output_type": "stream",
     "text": [
      "Using score: accuracy\n",
      "Mean:  0.5308683473389355\n",
      "Std Dev:  0.04602425872293453\n",
      "\n"
     ]
    },
    {
     "name": "stderr",
     "output_type": "stream",
     "text": [
      "/home/chingf/anaconda3/lib/python3.7/site-packages/ipykernel_launcher.py:46: UserWarning: max_depth is at a boundary value: 15\n"
     ]
    },
    {
     "name": "stdout",
     "output_type": "stream",
     "text": [
      "Using score: accuracy\n",
      "Mean:  0.5285434173669469\n",
      "Std Dev:  0.04534999299263504\n",
      "\n"
     ]
    },
    {
     "name": "stderr",
     "output_type": "stream",
     "text": [
      "/home/chingf/anaconda3/lib/python3.7/site-packages/ipykernel_launcher.py:116: UserWarning: subsample is at a boundary value: 1.0\n"
     ]
    },
    {
     "name": "stdout",
     "output_type": "stream",
     "text": [
      "Using score: accuracy\n",
      "Mean:  0.5617647058823529\n",
      "Std Dev:  0.031303821277802436\n",
      "\n"
     ]
    },
    {
     "name": "stderr",
     "output_type": "stream",
     "text": [
      "/home/chingf/anaconda3/lib/python3.7/site-packages/ipykernel_launcher.py:116: UserWarning: subsample is at a boundary value: 1.0\n"
     ]
    },
    {
     "name": "stdout",
     "output_type": "stream",
     "text": [
      "Using score: accuracy\n",
      "Mean:  0.5119047619047619\n",
      "Std Dev:  0.01874366142627836\n",
      "\n"
     ]
    },
    {
     "name": "stderr",
     "output_type": "stream",
     "text": [
      "/home/chingf/anaconda3/lib/python3.7/site-packages/ipykernel_launcher.py:94: UserWarning: max_features is at a boundary value: 242\n",
      "/home/chingf/anaconda3/lib/python3.7/site-packages/ipykernel_launcher.py:116: UserWarning: subsample is at a boundary value: 0.6\n"
     ]
    },
    {
     "name": "stdout",
     "output_type": "stream",
     "text": [
      "Using score: accuracy\n",
      "Mean:  0.5048739495798319\n",
      "Std Dev:  0.059156745959786754\n",
      "\n",
      "Using score: accuracy\n",
      "Mean:  0.526218487394958\n",
      "Std Dev:  0.04396379736934502\n",
      "\n",
      "Using score: accuracy\n",
      "Mean:  0.5642016806722688\n",
      "Std Dev:  0.05072840732082999\n",
      "\n"
     ]
    },
    {
     "name": "stderr",
     "output_type": "stream",
     "text": [
      "/home/chingf/anaconda3/lib/python3.7/site-packages/ipykernel_launcher.py:25: UserWarning: n_estimators is at a boundary value: 20\n"
     ]
    },
    {
     "name": "stdout",
     "output_type": "stream",
     "text": [
      "Using score: accuracy\n",
      "Mean:  0.561624649859944\n",
      "Std Dev:  0.06397718631983328\n",
      "\n"
     ]
    },
    {
     "name": "stderr",
     "output_type": "stream",
     "text": [
      "/home/chingf/anaconda3/lib/python3.7/site-packages/ipykernel_launcher.py:46: UserWarning: max_depth is at a boundary value: 15\n"
     ]
    },
    {
     "name": "stdout",
     "output_type": "stream",
     "text": [
      "Using score: accuracy\n",
      "Mean:  0.5261904761904763\n",
      "Std Dev:  0.05460503943036119\n",
      "\n"
     ]
    },
    {
     "name": "stderr",
     "output_type": "stream",
     "text": [
      "/home/chingf/anaconda3/lib/python3.7/site-packages/ipykernel_launcher.py:71: UserWarning: min_samples_leaf is at a boundary value: 100\n"
     ]
    },
    {
     "name": "stdout",
     "output_type": "stream",
     "text": [
      "Using score: accuracy\n",
      "Mean:  0.5522128851540616\n",
      "Std Dev:  0.06702370087091962\n",
      "\n"
     ]
    },
    {
     "name": "stderr",
     "output_type": "stream",
     "text": [
      "/home/chingf/anaconda3/lib/python3.7/site-packages/ipykernel_launcher.py:116: UserWarning: subsample is at a boundary value: 1.0\n"
     ]
    },
    {
     "name": "stdout",
     "output_type": "stream",
     "text": [
      "Using score: accuracy\n",
      "Mean:  0.589971988795518\n",
      "Std Dev:  0.04380737455952899\n",
      "\n"
     ]
    },
    {
     "name": "stderr",
     "output_type": "stream",
     "text": [
      "/home/chingf/anaconda3/lib/python3.7/site-packages/ipykernel_launcher.py:71: UserWarning: min_samples_leaf is at a boundary value: 100\n",
      "/home/chingf/anaconda3/lib/python3.7/site-packages/ipykernel_launcher.py:94: UserWarning: max_features is at a boundary value: 242\n"
     ]
    },
    {
     "name": "stdout",
     "output_type": "stream",
     "text": [
      "Using score: accuracy\n",
      "Mean:  0.5854621848739496\n",
      "Std Dev:  0.06728151375665067\n",
      "\n"
     ]
    },
    {
     "name": "stderr",
     "output_type": "stream",
     "text": [
      "/home/chingf/anaconda3/lib/python3.7/site-packages/ipykernel_launcher.py:25: UserWarning: n_estimators is at a boundary value: 140\n",
      "/home/chingf/anaconda3/lib/python3.7/site-packages/ipykernel_launcher.py:71: UserWarning: min_samples_leaf is at a boundary value: 100\n",
      "/home/chingf/anaconda3/lib/python3.7/site-packages/ipykernel_launcher.py:94: UserWarning: max_features is at a boundary value: 5\n"
     ]
    },
    {
     "name": "stdout",
     "output_type": "stream",
     "text": [
      "Using score: accuracy\n",
      "Mean:  0.5522128851540616\n",
      "Std Dev:  0.04441824585432128\n",
      "\n"
     ]
    },
    {
     "name": "stderr",
     "output_type": "stream",
     "text": [
      "/home/chingf/anaconda3/lib/python3.7/site-packages/ipykernel_launcher.py:71: UserWarning: min_samples_leaf is at a boundary value: 100\n",
      "/home/chingf/anaconda3/lib/python3.7/site-packages/ipykernel_launcher.py:94: UserWarning: max_features is at a boundary value: 5\n",
      "/home/chingf/anaconda3/lib/python3.7/site-packages/ipykernel_launcher.py:116: UserWarning: subsample is at a boundary value: 1.0\n"
     ]
    },
    {
     "name": "stdout",
     "output_type": "stream",
     "text": [
      "Using score: accuracy\n",
      "Mean:  0.5545098039215686\n",
      "Std Dev:  0.07142381485782778\n",
      "\n"
     ]
    },
    {
     "name": "stderr",
     "output_type": "stream",
     "text": [
      "/home/chingf/anaconda3/lib/python3.7/site-packages/ipykernel_launcher.py:46: UserWarning: max_depth is at a boundary value: 15\n"
     ]
    },
    {
     "name": "stdout",
     "output_type": "stream",
     "text": [
      "Using score: accuracy\n",
      "Mean:  0.5547058823529412\n",
      "Std Dev:  0.06936795935532405\n",
      "\n"
     ]
    },
    {
     "name": "stderr",
     "output_type": "stream",
     "text": [
      "/home/chingf/anaconda3/lib/python3.7/site-packages/ipykernel_launcher.py:46: UserWarning: max_depth is at a boundary value: 15\n",
      "/home/chingf/anaconda3/lib/python3.7/site-packages/ipykernel_launcher.py:49: UserWarning: min_samples_split is at a boundary value: 20\n",
      "/home/chingf/anaconda3/lib/python3.7/site-packages/ipykernel_launcher.py:116: UserWarning: subsample is at a boundary value: 0.6\n"
     ]
    },
    {
     "name": "stdout",
     "output_type": "stream",
     "text": [
      "Using score: accuracy\n",
      "Mean:  0.5499439775910364\n",
      "Std Dev:  0.04736789924947682\n",
      "\n"
     ]
    },
    {
     "name": "stderr",
     "output_type": "stream",
     "text": [
      "/home/chingf/anaconda3/lib/python3.7/site-packages/ipykernel_launcher.py:46: UserWarning: max_depth is at a boundary value: 15\n",
      "/home/chingf/anaconda3/lib/python3.7/site-packages/ipykernel_launcher.py:116: UserWarning: subsample is at a boundary value: 0.6\n"
     ]
    },
    {
     "name": "stdout",
     "output_type": "stream",
     "text": [
      "Using score: accuracy\n",
      "Mean:  0.545266106442577\n",
      "Std Dev:  0.06863564805559033\n",
      "\n"
     ]
    },
    {
     "name": "stderr",
     "output_type": "stream",
     "text": [
      "/home/chingf/anaconda3/lib/python3.7/site-packages/ipykernel_launcher.py:46: UserWarning: max_depth is at a boundary value: 15\n",
      "/home/chingf/anaconda3/lib/python3.7/site-packages/ipykernel_launcher.py:71: UserWarning: min_samples_leaf is at a boundary value: 100\n"
     ]
    },
    {
     "name": "stdout",
     "output_type": "stream",
     "text": [
      "Using score: accuracy\n",
      "Mean:  0.5499439775910364\n",
      "Std Dev:  0.05294010936632966\n",
      "\n"
     ]
    },
    {
     "name": "stderr",
     "output_type": "stream",
     "text": [
      "/home/chingf/anaconda3/lib/python3.7/site-packages/ipykernel_launcher.py:46: UserWarning: max_depth is at a boundary value: 15\n",
      "/home/chingf/anaconda3/lib/python3.7/site-packages/ipykernel_launcher.py:94: UserWarning: max_features is at a boundary value: 5\n",
      "/home/chingf/anaconda3/lib/python3.7/site-packages/ipykernel_launcher.py:116: UserWarning: subsample is at a boundary value: 1.0\n"
     ]
    },
    {
     "name": "stdout",
     "output_type": "stream",
     "text": [
      "Using score: accuracy\n",
      "Mean:  0.566610644257703\n",
      "Std Dev:  0.072407831208739\n",
      "\n",
      "Using score: accuracy\n",
      "Mean:  0.5379551820728292\n",
      "Std Dev:  0.04782670162919496\n",
      "\n",
      "Using score: accuracy\n",
      "Mean:  0.5548459383753501\n",
      "Std Dev:  0.07455131423052883\n",
      "\n"
     ]
    },
    {
     "name": "stderr",
     "output_type": "stream",
     "text": [
      "/home/chingf/anaconda3/lib/python3.7/site-packages/ipykernel_launcher.py:94: UserWarning: max_features is at a boundary value: 5\n"
     ]
    },
    {
     "name": "stdout",
     "output_type": "stream",
     "text": [
      "Using score: accuracy\n",
      "Mean:  0.5903641456582633\n",
      "Std Dev:  0.062072879693372995\n",
      "\n"
     ]
    },
    {
     "name": "stderr",
     "output_type": "stream",
     "text": [
      "/home/chingf/anaconda3/lib/python3.7/site-packages/ipykernel_launcher.py:49: UserWarning: min_samples_split is at a boundary value: 20\n",
      "/home/chingf/anaconda3/lib/python3.7/site-packages/ipykernel_launcher.py:71: UserWarning: min_samples_leaf is at a boundary value: 100\n"
     ]
    },
    {
     "name": "stdout",
     "output_type": "stream",
     "text": [
      "Using score: accuracy\n",
      "Mean:  0.5547058823529412\n",
      "Std Dev:  0.039037570694287045\n",
      "\n",
      "Using score: accuracy\n",
      "Mean:  0.559579831932773\n",
      "Std Dev:  0.06256800237802447\n",
      "\n"
     ]
    },
    {
     "name": "stderr",
     "output_type": "stream",
     "text": [
      "/home/chingf/anaconda3/lib/python3.7/site-packages/ipykernel_launcher.py:94: UserWarning: max_features is at a boundary value: 242\n"
     ]
    },
    {
     "name": "stdout",
     "output_type": "stream",
     "text": [
      "Using score: accuracy\n",
      "Mean:  0.5950700280112045\n",
      "Std Dev:  0.055490570785353396\n",
      "\n"
     ]
    },
    {
     "name": "stderr",
     "output_type": "stream",
     "text": [
      "/home/chingf/anaconda3/lib/python3.7/site-packages/ipykernel_launcher.py:25: UserWarning: n_estimators is at a boundary value: 140\n"
     ]
    },
    {
     "name": "stdout",
     "output_type": "stream",
     "text": [
      "Using score: accuracy\n",
      "Mean:  0.5880112044817927\n",
      "Std Dev:  0.059062513070638166\n",
      "\n"
     ]
    },
    {
     "name": "stderr",
     "output_type": "stream",
     "text": [
      "/home/chingf/anaconda3/lib/python3.7/site-packages/ipykernel_launcher.py:46: UserWarning: max_depth is at a boundary value: 15\n",
      "/home/chingf/anaconda3/lib/python3.7/site-packages/ipykernel_launcher.py:116: UserWarning: subsample is at a boundary value: 1.0\n"
     ]
    },
    {
     "name": "stdout",
     "output_type": "stream",
     "text": [
      "Using score: accuracy\n",
      "Mean:  0.5688795518207284\n",
      "Std Dev:  0.03817120453375699\n",
      "\n"
     ]
    },
    {
     "name": "stderr",
     "output_type": "stream",
     "text": [
      "/home/chingf/anaconda3/lib/python3.7/site-packages/ipykernel_launcher.py:46: UserWarning: max_depth is at a boundary value: 15\n",
      "/home/chingf/anaconda3/lib/python3.7/site-packages/ipykernel_launcher.py:94: UserWarning: max_features is at a boundary value: 5\n"
     ]
    },
    {
     "name": "stdout",
     "output_type": "stream",
     "text": [
      "Using score: accuracy\n",
      "Mean:  0.6068347338935574\n",
      "Std Dev:  0.06087205326444807\n",
      "\n"
     ]
    },
    {
     "name": "stderr",
     "output_type": "stream",
     "text": [
      "/home/chingf/anaconda3/lib/python3.7/site-packages/ipykernel_launcher.py:46: UserWarning: max_depth is at a boundary value: 15\n",
      "/home/chingf/anaconda3/lib/python3.7/site-packages/ipykernel_launcher.py:71: UserWarning: min_samples_leaf is at a boundary value: 100\n",
      "/home/chingf/anaconda3/lib/python3.7/site-packages/ipykernel_launcher.py:116: UserWarning: subsample is at a boundary value: 1.0\n"
     ]
    },
    {
     "name": "stdout",
     "output_type": "stream",
     "text": [
      "Using score: accuracy\n",
      "Mean:  0.5618767507002802\n",
      "Std Dev:  0.04890056774535617\n",
      "\n",
      "Using score: accuracy\n",
      "Mean:  0.5807843137254902\n",
      "Std Dev:  0.04557048495476159\n",
      "\n"
     ]
    },
    {
     "name": "stderr",
     "output_type": "stream",
     "text": [
      "/home/chingf/anaconda3/lib/python3.7/site-packages/ipykernel_launcher.py:25: UserWarning: n_estimators is at a boundary value: 140\n",
      "/home/chingf/anaconda3/lib/python3.7/site-packages/ipykernel_launcher.py:94: UserWarning: max_features is at a boundary value: 5\n",
      "/home/chingf/anaconda3/lib/python3.7/site-packages/ipykernel_launcher.py:116: UserWarning: subsample is at a boundary value: 1.0\n"
     ]
    },
    {
     "name": "stdout",
     "output_type": "stream",
     "text": [
      "Using score: accuracy\n",
      "Mean:  0.5975070028011205\n",
      "Std Dev:  0.06335118935279922\n",
      "\n"
     ]
    },
    {
     "name": "stderr",
     "output_type": "stream",
     "text": [
      "/home/chingf/anaconda3/lib/python3.7/site-packages/ipykernel_launcher.py:25: UserWarning: n_estimators is at a boundary value: 20\n",
      "/home/chingf/anaconda3/lib/python3.7/site-packages/ipykernel_launcher.py:71: UserWarning: min_samples_leaf is at a boundary value: 100\n",
      "/home/chingf/anaconda3/lib/python3.7/site-packages/ipykernel_launcher.py:116: UserWarning: subsample is at a boundary value: 0.6\n"
     ]
    },
    {
     "name": "stdout",
     "output_type": "stream",
     "text": [
      "Using score: accuracy\n",
      "Mean:  0.5878991596638656\n",
      "Std Dev:  0.04912997579295564\n",
      "\n",
      "Using score: accuracy\n",
      "Mean:  0.6045098039215686\n",
      "Std Dev:  0.04427776732017753\n",
      "\n"
     ]
    },
    {
     "name": "stderr",
     "output_type": "stream",
     "text": [
      "/home/chingf/anaconda3/lib/python3.7/site-packages/ipykernel_launcher.py:71: UserWarning: min_samples_leaf is at a boundary value: 20\n",
      "/home/chingf/anaconda3/lib/python3.7/site-packages/ipykernel_launcher.py:116: UserWarning: subsample is at a boundary value: 1.0\n"
     ]
    },
    {
     "name": "stdout",
     "output_type": "stream",
     "text": [
      "Using score: accuracy\n",
      "Mean:  0.5999999999999999\n",
      "Std Dev:  0.08173437157717976\n",
      "\n"
     ]
    },
    {
     "name": "stderr",
     "output_type": "stream",
     "text": [
      "/home/chingf/anaconda3/lib/python3.7/site-packages/ipykernel_launcher.py:71: UserWarning: min_samples_leaf is at a boundary value: 20\n"
     ]
    },
    {
     "name": "stdout",
     "output_type": "stream",
     "text": [
      "Using score: accuracy\n",
      "Mean:  0.5809243697478992\n",
      "Std Dev:  0.06438729821961588\n",
      "\n"
     ]
    },
    {
     "name": "stderr",
     "output_type": "stream",
     "text": [
      "/home/chingf/anaconda3/lib/python3.7/site-packages/ipykernel_launcher.py:94: UserWarning: max_features is at a boundary value: 242\n",
      "/home/chingf/anaconda3/lib/python3.7/site-packages/ipykernel_launcher.py:116: UserWarning: subsample is at a boundary value: 1.0\n"
     ]
    },
    {
     "name": "stdout",
     "output_type": "stream",
     "text": [
      "Using score: accuracy\n",
      "Mean:  0.5856302521008403\n",
      "Std Dev:  0.061694167562758785\n",
      "\n",
      "Using score: accuracy\n",
      "Mean:  0.6094397759103641\n",
      "Std Dev:  0.08412453531309\n",
      "\n",
      "Using score: accuracy\n",
      "Mean:  0.6046778711484594\n",
      "Std Dev:  0.07353421886380596\n",
      "\n",
      "Using score: accuracy\n",
      "Mean:  0.6045658263305322\n",
      "Std Dev:  0.05859469963850287\n",
      "\n",
      "Using score: accuracy\n",
      "Mean:  0.6094117647058823\n",
      "Std Dev:  0.07409429012190291\n",
      "\n"
     ]
    },
    {
     "name": "stderr",
     "output_type": "stream",
     "text": [
      "/home/chingf/anaconda3/lib/python3.7/site-packages/ipykernel_launcher.py:94: UserWarning: max_features is at a boundary value: 5\n"
     ]
    },
    {
     "name": "stdout",
     "output_type": "stream",
     "text": [
      "Using score: accuracy\n",
      "Mean:  0.623641456582633\n",
      "Std Dev:  0.07899832102812473\n",
      "\n"
     ]
    },
    {
     "name": "stderr",
     "output_type": "stream",
     "text": [
      "/home/chingf/anaconda3/lib/python3.7/site-packages/ipykernel_launcher.py:116: UserWarning: subsample is at a boundary value: 1.0\n"
     ]
    },
    {
     "name": "stdout",
     "output_type": "stream",
     "text": [
      "Using score: accuracy\n",
      "Mean:  0.6450420168067227\n",
      "Std Dev:  0.09352104326319689\n",
      "\n"
     ]
    },
    {
     "name": "stderr",
     "output_type": "stream",
     "text": [
      "/home/chingf/anaconda3/lib/python3.7/site-packages/ipykernel_launcher.py:71: UserWarning: min_samples_leaf is at a boundary value: 100\n"
     ]
    },
    {
     "name": "stdout",
     "output_type": "stream",
     "text": [
      "Using score: accuracy\n",
      "Mean:  0.6638935574229692\n",
      "Std Dev:  0.07615341411972858\n",
      "\n"
     ]
    },
    {
     "name": "stderr",
     "output_type": "stream",
     "text": [
      "/home/chingf/anaconda3/lib/python3.7/site-packages/ipykernel_launcher.py:25: UserWarning: n_estimators is at a boundary value: 140\n",
      "/home/chingf/anaconda3/lib/python3.7/site-packages/ipykernel_launcher.py:49: UserWarning: min_samples_split is at a boundary value: 20\n"
     ]
    },
    {
     "name": "stdout",
     "output_type": "stream",
     "text": [
      "Using score: accuracy\n",
      "Mean:  0.7089635854341736\n",
      "Std Dev:  0.10072203611752076\n",
      "\n"
     ]
    },
    {
     "name": "stderr",
     "output_type": "stream",
     "text": [
      "/home/chingf/anaconda3/lib/python3.7/site-packages/ipykernel_launcher.py:25: UserWarning: n_estimators is at a boundary value: 140\n",
      "/home/chingf/anaconda3/lib/python3.7/site-packages/ipykernel_launcher.py:49: UserWarning: min_samples_split is at a boundary value: 20\n",
      "/home/chingf/anaconda3/lib/python3.7/site-packages/ipykernel_launcher.py:94: UserWarning: max_features is at a boundary value: 5\n"
     ]
    },
    {
     "name": "stdout",
     "output_type": "stream",
     "text": [
      "Using score: accuracy\n",
      "Mean:  0.7280112044817927\n",
      "Std Dev:  0.11681525336790133\n",
      "\n"
     ]
    },
    {
     "name": "stderr",
     "output_type": "stream",
     "text": [
      "/home/chingf/anaconda3/lib/python3.7/site-packages/ipykernel_launcher.py:46: UserWarning: max_depth is at a boundary value: 15\n"
     ]
    },
    {
     "name": "stdout",
     "output_type": "stream",
     "text": [
      "Using score: accuracy\n",
      "Mean:  0.7705882352941177\n",
      "Std Dev:  0.08853667793899567\n",
      "\n"
     ]
    },
    {
     "name": "stderr",
     "output_type": "stream",
     "text": [
      "/home/chingf/anaconda3/lib/python3.7/site-packages/ipykernel_launcher.py:49: UserWarning: min_samples_split is at a boundary value: 20\n"
     ]
    },
    {
     "name": "stdout",
     "output_type": "stream",
     "text": [
      "Using score: accuracy\n",
      "Mean:  0.7040336134453782\n",
      "Std Dev:  0.04750137049747594\n",
      "\n"
     ]
    },
    {
     "name": "stderr",
     "output_type": "stream",
     "text": [
      "/home/chingf/anaconda3/lib/python3.7/site-packages/ipykernel_launcher.py:116: UserWarning: subsample is at a boundary value: 0.6\n"
     ]
    },
    {
     "name": "stdout",
     "output_type": "stream",
     "text": [
      "Using score: accuracy\n",
      "Mean:  0.7277310924369749\n",
      "Std Dev:  0.05324229277400802\n",
      "\n"
     ]
    },
    {
     "name": "stderr",
     "output_type": "stream",
     "text": [
      "/home/chingf/anaconda3/lib/python3.7/site-packages/ipykernel_launcher.py:49: UserWarning: min_samples_split is at a boundary value: 20\n"
     ]
    },
    {
     "name": "stdout",
     "output_type": "stream",
     "text": [
      "Using score: accuracy\n",
      "Mean:  0.6185714285714285\n",
      "Std Dev:  0.018492826636078426\n",
      "\n"
     ]
    }
   ],
   "source": [
    "# Reconstructions: Do a grid search over start index and window length\n",
    "# Fit logistic regression models\n",
    "window_length = 2\n",
    "results = []\n",
    "scores = []\n",
    "\n",
    "start_idxs = range(0, 120, 2)\n",
    "for start_idx in start_idxs:\n",
    "    score, gb_model = run_gradientboosting(scaled_predictions, trial_choices)\n",
    "    scores.append(score)\n",
    "    results.append(gb_model)"
   ]
  },
  {
   "cell_type": "code",
   "execution_count": 17,
   "metadata": {},
   "outputs": [
    {
     "data": {
      "text/plain": [
       "<matplotlib.axes._subplots.AxesSubplot at 0x7f99006fbe48>"
      ]
     },
     "execution_count": 17,
     "metadata": {},
     "output_type": "execute_result"
    },
    {
     "data": {
      "image/png": "[encoded data removed]",
      "text/plain": [
       "<Figure size 648x504 with 1 Axes>"
      ]
     },
     "metadata": {
      "needs_background": "light"
     },
     "output_type": "display_data"
    }
   ],
   "source": [
    "# Plot decoding accuracy over time\n",
    "start_frame = []\n",
    "accuracy = []\n",
    "neur_accuracy = []\n",
    "plt.figure(figsize=(9,7))\n",
    "for frame, sc in enumerate(scores):\n",
    "    start_frame.append(frame*2)\n",
    "    accuracy.append(\n",
    "        np.mean(sc)\n",
    "        )\n",
    "    \n",
    "    # Now do the same for the full neural data\n",
    "    neur_log_reg = neur_results[frame]\n",
    "    neur_accuracy.append(\n",
    "        np.max(np.mean(neur_log_reg.scores_[1], axis=0))\n",
    "        )\n",
    "plt.xticks(\n",
    "    ticks=[30, 30+18, 30+33, 30+51, 30+84],\n",
    "    labels=['Stim On', 'Stim Off', 'Stim On', 'Stim Off', 'Spouts In'],\n",
    "    rotation=45, fontsize=14\n",
    "    )\n",
    "plt.axvspan(30, 30+18, alpha=0.3, color='red')\n",
    "plt.axvspan(30+33, 30+51, alpha=0.3, color='red')\n",
    "plt.title(\"Choice Decoding\")\n",
    "plt.ylim((0.5,1))\n",
    "sns.lineplot(\n",
    "    x=start_frame, y=accuracy, label=\"BehaveNet Reconstruction\",\n",
    "    linewidth=1.5\n",
    "    )\n",
    "sns.lineplot(\n",
    "    x=start_frame, y=neur_accuracy, label=\"Original Neural Activity\",\n",
    "    linewidth=1.5\n",
    "    )"
   ]
  },
  {
   "cell_type": "code",
   "execution_count": null,
   "metadata": {},
   "outputs": [],
   "source": []
  }
 ],
 "metadata": {
  "kernelspec": {
   "display_name": "Python 3",
   "language": "python",
   "name": "python3"
  },
  "language_info": {
   "codemirror_mode": {
    "name": "ipython",
    "version": 3
   },
   "file_extension": ".py",
   "mimetype": "text/x-python",
   "name": "python",
   "nbconvert_exporter": "python",
   "pygments_lexer": "ipython3",
   "version": "3.7.3"
  }
 },
 "nbformat": 4,
 "nbformat_minor": 2
}
