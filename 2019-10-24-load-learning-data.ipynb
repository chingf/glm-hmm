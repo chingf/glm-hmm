{
 "cells": [
  {
   "cell_type": "code",
   "execution_count": 45,
   "metadata": {},
   "outputs": [],
   "source": [
    "import numpy as np\n",
    "import h5py\n",
    "from scipy.io import loadmat"
   ]
  },
  {
   "cell_type": "markdown",
   "metadata": {},
   "source": [
    "## Loading Vc.mat"
   ]
  },
  {
   "cell_type": "code",
   "execution_count": 41,
   "metadata": {},
   "outputs": [],
   "source": [
    "animal = 'mSM63'\n",
    "day = '01-Aug-2018'\n",
    "path = '/home/chingf/engram/data/musall/learning/neural/' +\\\n",
    "    animal + '/' + day + '/' + 'Vc.mat'"
   ]
  },
  {
   "cell_type": "code",
   "execution_count": 42,
   "metadata": {},
   "outputs": [],
   "source": [
    "contents = h5py.File(path, 'r')"
   ]
  },
  {
   "cell_type": "code",
   "execution_count": 35,
   "metadata": {},
   "outputs": [],
   "source": [
    "trials = np.array(contents['trials'])\n",
    "Sv = np.array(contents['Sv'])\n",
    "U = np.array(contents['U'])\n",
    "Vc = np.array(contents['Vc'])\n",
    "bTrials = np.array(contents['bTrials'])\n",
    "blueFrametimes = np.array(contents['blueFrametimes'])\n",
    "totalVar = np.array(contents['totalVar'])"
   ]
  },
  {
   "cell_type": "code",
   "execution_count": 39,
   "metadata": {},
   "outputs": [],
   "source": [
    "num_trials, num_bins, num_components = Vc.shape"
   ]
  },
  {
   "cell_type": "markdown",
   "metadata": {},
   "source": [
    "## Loading trialmarkers.mat\n",
    "Left is 1, Right is 2"
   ]
  },
  {
   "cell_type": "code",
   "execution_count": 43,
   "metadata": {},
   "outputs": [],
   "source": [
    "path = '/home/chingf/engram/data/musall/learning/neural/' +\\\n",
    "    animal + '/' + day + '/' + 'trialmarkers.mat'"
   ]
  },
  {
   "cell_type": "code",
   "execution_count": 47,
   "metadata": {},
   "outputs": [],
   "source": [
    "trialmarkers = loadmat(path)\n",
    "#contents = h5py.File(path, 'r')"
   ]
  },
  {
   "cell_type": "code",
   "execution_count": 49,
   "metadata": {},
   "outputs": [],
   "source": [
    "lickL = np.array(trialmarkers['lickL'])\n",
    "lickR = np.array(trialmarkers['lickR'])\n",
    "leverIn = np.array(trialmarkers['leverIn'])\n",
    "levGrabL = np.array(trialmarkers['levGrabL'])\n",
    "levGrabR = np.array(trialmarkers['levGrabR'])\n",
    "levReleaseL = np.array(trialmarkers['levReleaseL'])\n",
    "levReleaseR = np.array(trialmarkers['levReleaseR'])\n",
    "water = np.array(trialmarkers['water'])\n",
    "handleSounds = np.array(trialmarkers['handleSounds'])\n",
    "tacStimL = np.array(trialmarkers['tacStimL'])\n",
    "tacStimR = np.array(trialmarkers['tacStimR'])\n",
    "audStimL = np.array(trialmarkers['audStimL'])\n",
    "audStimR = np.array(trialmarkers['audStimR'])\n",
    "spoutTime = np.array(trialmarkers['spoutTime'])\n",
    "spoutOutTime = np.array(trialmarkers['spoutOutTime'])\n",
    "rewarded = np.array(trialmarkers['Rewarded'])\n",
    "correctside = np.array(trialmarkers['CorrectSide'])\n",
    "responseside = np.array(trialmarkers['ResponseSide'])"
   ]
  },
  {
   "cell_type": "markdown",
   "metadata": {},
   "source": [
    "## Loading SpatialDisc.mat"
   ]
  },
  {
   "cell_type": "code",
   "execution_count": 78,
   "metadata": {},
   "outputs": [],
   "source": [
    "path = '/home/chingf/engram/data/musall/learning/neural/' +\\\n",
    "    animal + '/' + day + '/' +\\\n",
    "    'mSM63_SpatialDisc_Aug01_2018_Session2.mat'"
   ]
  },
  {
   "cell_type": "code",
   "execution_count": 80,
   "metadata": {},
   "outputs": [],
   "source": [
    "spatialdisc = loadmat(path)\n",
    "#contents = h5py.File(path, 'r')"
   ]
  },
  {
   "cell_type": "code",
   "execution_count": 92,
   "metadata": {},
   "outputs": [],
   "source": [
    "sessiondata = np.array(spatialdisc['SessionData'])\n",
    "unassisted = sessiondata[0,0]['Assisted']"
   ]
  },
  {
   "cell_type": "code",
   "execution_count": 97,
   "metadata": {},
   "outputs": [],
   "source": [
    "diffs = []\n",
    "skipped = 0\n",
    "for i in range(411):\n",
    "    end = spoutTime[0,i]\n",
    "    r = audStimR[0,i]\n",
    "    l = audStimL[0,i]\n",
    "    if r.size == 0 and l.size == 0:\n",
    "        skipped += 1\n",
    "        continue\n",
    "    stims = r if correctside[0,i] == 2 else l\n",
    "    try:\n",
    "        start = np.max(stims)\n",
    "    except:\n",
    "        import pdb; pdb.set_trace()\n",
    "    diffs.append(end-start)"
   ]
  },
  {
   "cell_type": "code",
   "execution_count": 100,
   "metadata": {},
   "outputs": [
    {
     "name": "stdout",
     "output_type": "stream",
     "text": [
      "1\n",
      "31\n"
     ]
    }
   ],
   "source": [
    "print(np.min(diffs))\n",
    "print(np.max(diffs))"
   ]
  },
  {
   "cell_type": "code",
   "execution_count": null,
   "metadata": {},
   "outputs": [],
   "source": []
  }
 ],
 "metadata": {
  "kernelspec": {
   "display_name": "Python 3",
   "language": "python",
   "name": "python3"
  },
  "language_info": {
   "codemirror_mode": {
    "name": "ipython",
    "version": 3
   },
   "file_extension": ".py",
   "mimetype": "text/x-python",
   "name": "python",
   "nbconvert_exporter": "python",
   "pygments_lexer": "ipython3",
   "version": "3.7.3"
  }
 },
 "nbformat": 4,
 "nbformat_minor": 2
}
