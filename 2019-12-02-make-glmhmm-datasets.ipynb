{
 "cells": [
  {
   "cell_type": "code",
   "execution_count": 15,
   "metadata": {
    "code_folding": [
     0
    ]
   },
   "outputs": [],
   "source": [
    "# Import statements\n",
    "import os\n",
    "import traceback\n",
    "import pickle\n",
    "import pdb\n",
    "from datetime import datetime\n",
    "import numpy as np\n",
    "import pandas as pd\n",
    "import seaborn as sns\n",
    "import matplotlib.pyplot as plt\n",
    "from LearningSession import *\n",
    "from LearningChoicePredictor import *\n",
    "from LearningPsychometricPredictor import *\n",
    "from sklearn.linear_model import LogisticRegression\n",
    "import ssm"
   ]
  },
  {
   "cell_type": "code",
   "execution_count": 16,
   "metadata": {},
   "outputs": [],
   "source": [
    "animal = 'mSM63'\n",
    "folder = '/home/chingf/engram/data/musall/learning/neural/mSM63'\n",
    "dates = os.listdir(folder)\n",
    "dates.sort()\n",
    "dates = dates[1:]\n",
    "dates.sort(key = lambda date: datetime.strptime(date, '%d-%b-%Y')) "
   ]
  },
  {
   "cell_type": "code",
   "execution_count": 3,
   "metadata": {},
   "outputs": [],
   "source": [
    "# Load choice decoding results\n",
    "choicedecoders = pickle.load(\n",
    "    open(\"pickles/choicedecodingreduce1.0_learning_mSM63.p\", \"rb\")\n",
    "    )"
   ]
  },
  {
   "cell_type": "code",
   "execution_count": 54,
   "metadata": {
    "code_folding": [
     0
    ]
   },
   "outputs": [],
   "source": [
    "# Create dataset\n",
    "def _form_data_matrix(task_type):\n",
    "    aud_dates = range(21, 31)\n",
    "    audtac_dates = range(31, 41)\n",
    "    tacaud_dates = range(41, 68)\n",
    "    if task_type == \"aud\":\n",
    "        task_dates = aud_dates\n",
    "        multimodal = False\n",
    "    elif task_type == \"audtac\":\n",
    "        task_dates = audtac_dates\n",
    "        multimodal = True\n",
    "    elif task_type == \"tacaud\":\n",
    "        task_dates = tacaud_dates\n",
    "        multimodal = True\n",
    "    all_X = []\n",
    "    all_y = []\n",
    "    all_indices = []\n",
    "    is_aud_trial = []\n",
    "    curr_index = 0\n",
    "\n",
    "    for date_idx, day_number in enumerate(task_dates):\n",
    "        date = dates[day_number]\n",
    "        session = LearningSession(\n",
    "            animal, date, access_engram=True, load_neural=False\n",
    "            )\n",
    "        predictor = LearningPsychometricPredictor(\n",
    "            session, multimodal=multimodal)\n",
    "        \n",
    "        # Collect behavioral covariates\n",
    "        y = predictor.trial_choices\n",
    "        X = predictor.data\n",
    "        \n",
    "        # Add in choice decoder predictive probability\n",
    "        # Frames 0-10 are pre-stim, 10-30 are during stim, 30-40 are post-stim\n",
    "        choicedecoder = choicedecoders[day_number]\n",
    "        predic_probs = []\n",
    "        for trial in range(1, session.num_trials + 1):\n",
    "            trial_predic_probs = []\n",
    "            for frame in range(len(choicedecoder[\"predic_prob\"])):\n",
    "                prob = choicedecoder[\"predic_prob\"][frame]\n",
    "                trial_labels = choicedecoder[\"trial_labels\"][frame]\n",
    "                idx = np.argwhere(trial_labels == trial)\n",
    "                if idx.size == 0:\n",
    "                    trial_predic_probs.append(np.nan)\n",
    "                else:\n",
    "                    trial_predic_probs.append(prob[idx[0,0], 1])\n",
    "            trial_predic_probs = np.array(trial_predic_probs)\n",
    "            predic_probs.append(trial_predic_probs)\n",
    "        predic_probs = np.array(predic_probs)\n",
    "        pre_stim_prob = np.mean(predic_probs[:,:10], axis=1)\n",
    "        X = np.hstack((X, pre_stim_prob.reshape((-1,1))))\n",
    "        \n",
    "        # Post-process predictors: throw out nan trials\n",
    "        nonnan_covariates = np.logical_not(\n",
    "            np.sum(np.isnan(X), axis=1)\n",
    "            )\n",
    "        nonnan_choices = np.logical_not(np.isnan(y))\n",
    "        nonnan_indices = np.logical_and(nonnan_covariates, nonnan_choices)\n",
    "        y = y[nonnan_indices].astype(int) - 1\n",
    "        y = y.reshape((-1,1))\n",
    "        X = X[nonnan_indices,:]\n",
    "        \n",
    "        # Boolean mask over auditory trials for nonnan trials\n",
    "        for idx, val in enumerate(nonnan_indices):\n",
    "            if not val:\n",
    "                continue\n",
    "            is_aud_trial.append(session.is_aud_trial[idx])\n",
    "            \n",
    "        # Collect into arrays over all relevant sessions\n",
    "        indices = np.vstack(\n",
    "            (np.arange(y.size) + curr_index, np.ones(y.size)*date_idx)\n",
    "            ).T\n",
    "        all_X.append(X)\n",
    "        all_y.append(y)\n",
    "        all_indices.append(indices)\n",
    "        curr_index += y.size\n",
    "    all_X = np.vstack(all_X)\n",
    "    all_y = np.vstack(all_y)\n",
    "    all_indices = np.vstack(all_indices)\n",
    "    \n",
    "    # For testing/debugging\n",
    "    all_X = all_X[:,-1].reshape((-1,1))\n",
    "    \n",
    "    # Split data if there are modality differences trial-by-trial\n",
    "    if task_type == \"aud\":\n",
    "        filename = task_type + \"_neurglmhmm_testdata.p\"\n",
    "        _split_data_and_save(all_X, all_y, all_indices, filename)\n",
    "    else:\n",
    "        is_tac_trial = np.logical_not(is_aud_trial)\n",
    "        aud_filename = task_type + \"_aud_neurglmhmm_testdata.p\"\n",
    "        aud_X = all_X[is_aud_trial]\n",
    "        aud_y = all_y[is_aud_trial]\n",
    "        aud_indices = all_indices[is_aud_trial]\n",
    "        _split_data_and_save(\n",
    "            aud_X, aud_y, aud_indices, aud_filename\n",
    "            )\n",
    "        tac_filename = task_type + \"_tac_neurglmhmm_testdata.p\"\n",
    "        tac_X = all_X[is_tac_trial]\n",
    "        tac_y = all_y[is_tac_trial]\n",
    "        tac_indices = all_indices[is_tac_trial]\n",
    "        _split_data_and_save(\n",
    "            tac_X, tac_y, tac_indices, tac_filename\n",
    "            )\n",
    "    \n",
    "def _split_data_and_save(all_X, all_y, all_indices, filename):\n",
    "    data = {\n",
    "        \"X\": all_X, \"y\": all_y, \"indices\": all_indices\n",
    "        }\n",
    "    pickle.dump(data, open(filename, \"wb\"))"
   ]
  },
  {
   "cell_type": "code",
   "execution_count": 53,
   "metadata": {},
   "outputs": [
    {
     "name": "stdout",
     "output_type": "stream",
     "text": [
      "0.8554123711340206\n",
      "0.7957174501599803\n",
      "0.8547515720485342\n"
     ]
    }
   ],
   "source": [
    "task_type = \"aud\"\n",
    "_form_data_matrix(task_type)\n",
    "task_type = \"audtac\"\n",
    "_form_data_matrix(task_type)\n",
    "task_type = \"tacaud\"\n",
    "_form_data_matrix(task_type)"
   ]
  },
  {
   "cell_type": "code",
   "execution_count": 12,
   "metadata": {},
   "outputs": [],
   "source": [
    "reg_of_interest = [\n",
    "    'MOB', 'SSp_bfd1', 'SSp_m1', 'SSs1'\n",
    "    ]\n",
    "reg = []\n",
    "vals= []\n",
    "session_cov = []\n",
    "for date in dates:\n",
    "    session = LearningSession(\n",
    "        animal, date, access_engram=True, load_neural=True\n",
    "        )\n",
    "    reg_indices = session.neural['reg_indxs'].item()\n",
    "    reg_names = session.neural['reg_indxs'].dtype.names\n",
    "    cov = 0\n",
    "    for idx, reg_name_rl in enumerate(reg_names):\n",
    "        reg_name = reg_name_rl[:-2]\n",
    "        if reg_name not in reg_of_interest:\n",
    "            continue\n",
    "        reg_index = reg_indices[idx] - 1\n",
    "        reg_count = reg_index.flatten().size\n",
    "        reg.append(reg_name)\n",
    "        vals.append(reg_count)\n",
    "        cov += reg_count\n",
    "    session_cov.append(cov)"
   ]
  },
  {
   "cell_type": "code",
   "execution_count": 13,
   "metadata": {},
   "outputs": [
    {
     "data": {
      "text/plain": [
       "<seaborn.axisgrid.FacetGrid at 0x7fe83d5d3f98>"
      ]
     },
     "execution_count": 13,
     "metadata": {},
     "output_type": "execute_result"
    },
    {
     "data": {
      "image/png": "[encoded data removed]",
      "text/plain": [
       "<Figure size 360x360 with 1 Axes>"
      ]
     },
     "metadata": {
      "needs_background": "light"
     },
     "output_type": "display_data"
    }
   ],
   "source": [
    "df = pd.DataFrame({\n",
    "    'reg': reg, 'vals': vals\n",
    "})\n",
    "sns.catplot(x='reg', y = 'vals', data=df)"
   ]
  },
  {
   "cell_type": "code",
   "execution_count": 14,
   "metadata": {},
   "outputs": [
    {
     "data": {
      "text/plain": [
       "(array([ 5.,  5.,  6., 12.,  8., 17., 15.,  4.,  5.,  3.]),\n",
       " array([52. , 53.6, 55.2, 56.8, 58.4, 60. , 61.6, 63.2, 64.8, 66.4, 68. ]),\n",
       " <a list of 10 Patch objects>)"
      ]
     },
     "execution_count": 14,
     "metadata": {},
     "output_type": "execute_result"
    },
    {
     "data": {
      "image/png": "[encoded data removed]",
      "text/plain": [
       "<Figure size 432x288 with 1 Axes>"
      ]
     },
     "metadata": {
      "needs_background": "light"
     },
     "output_type": "display_data"
    }
   ],
   "source": [
    "plt.hist(session_cov)"
   ]
  },
  {
   "cell_type": "code",
   "execution_count": null,
   "metadata": {},
   "outputs": [],
   "source": []
  }
 ],
 "metadata": {
  "kernelspec": {
   "display_name": "Python 3",
   "language": "python",
   "name": "python3"
  },
  "language_info": {
   "codemirror_mode": {
    "name": "ipython",
    "version": 3
   },
   "file_extension": ".py",
   "mimetype": "text/x-python",
   "name": "python",
   "nbconvert_exporter": "python",
   "pygments_lexer": "ipython3",
   "version": "3.7.3"
  }
 },
 "nbformat": 4,
 "nbformat_minor": 2
}
