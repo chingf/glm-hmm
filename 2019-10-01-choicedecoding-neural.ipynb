{
 "cells": [
  {
   "cell_type": "markdown",
   "metadata": {},
   "source": [
    "# Churchland Widefield Data\n",
    "\n",
    "This notebook demonstrates:\n",
    "- Decoding L/R choice from different periods of the delay period\n",
    "\n",
    "Run this with access to the engram"
   ]
  },
  {
   "cell_type": "code",
   "execution_count": 8,
   "metadata": {
    "code_folding": []
   },
   "outputs": [],
   "source": [
    "# Import statements\n",
    "import numpy as np\n",
    "import matplotlib.pyplot as plt\n",
    "from datetime import datetime\n",
    "from LearningSession import *\n",
    "from LearningChoicePredictor import *"
   ]
  },
  {
   "cell_type": "markdown",
   "metadata": {},
   "source": [
    "# Single Session"
   ]
  },
  {
   "cell_type": "markdown",
   "metadata": {},
   "source": [
    "## 0. Specify the mouse and session date you are looking at"
   ]
  },
  {
   "cell_type": "code",
   "execution_count": 2,
   "metadata": {},
   "outputs": [],
   "source": [
    "mouse = \"mSM63\"\n",
    "days = os.listdir(\"/home/chingf/engram/data/musall/learning/neural/mSM63\")\n",
    "days = [d for d in days if \"2018\" in d]\n",
    "days.sort(key = lambda date: datetime.strptime(date, '%d-%b-%Y')) "
   ]
  },
  {
   "cell_type": "code",
   "execution_count": 5,
   "metadata": {},
   "outputs": [
    {
     "data": {
      "text/plain": [
       "'20-Jun-2018'"
      ]
     },
     "execution_count": 5,
     "metadata": {},
     "output_type": "execute_result"
    }
   ],
   "source": [
    "days[9]"
   ]
  },
  {
   "cell_type": "code",
   "execution_count": 6,
   "metadata": {},
   "outputs": [],
   "source": [
    "session = LearningSession(mouse, \"06-Aug-2018\", access_engram=True)"
   ]
  },
  {
   "cell_type": "code",
   "execution_count": 7,
   "metadata": {},
   "outputs": [
    {
     "data": {
      "text/plain": [
       "(446, 180, 200)"
      ]
     },
     "execution_count": 7,
     "metadata": {},
     "output_type": "execute_result"
    }
   ],
   "source": [
    "session.Vc['Vc'].shape"
   ]
  },
  {
   "cell_type": "markdown",
   "metadata": {},
   "source": [
    "## 1A. Load data"
   ]
  },
  {
   "cell_type": "code",
   "execution_count": null,
   "metadata": {},
   "outputs": [],
   "source": [
    "stims_length = [[] for _ in range(4)]\n",
    "for day in days:\n",
    "    session = LearningSession(mouse, day, access_engram=True)\n",
    "    for t in range(session.num_trials):\n",
    "        t_i = session._get_delay_period_trial(t)\n",
    "        if np.isnan(t_i[1]):\n",
    "            continue\n",
    "        for i in range(4):\n",
    "            length = t_i[i+1] - t_i[i]\n",
    "            stims_length[i].append(length)"
   ]
  },
  {
   "cell_type": "code",
   "execution_count": null,
   "metadata": {},
   "outputs": [],
   "source": [
    "for stim_length in stims_length:\n",
    "    print(\"Min: \" + str(min(stim_length)))\n",
    "    print(\"Mean: \" + str(np.mean(stim_length)))\n",
    "    print()"
   ]
  },
  {
   "cell_type": "code",
   "execution_count": 3,
   "metadata": {
    "code_folding": []
   },
   "outputs": [
    {
     "name": "stdout",
     "output_type": "stream",
     "text": [
      "07-Jun-2018\n",
      "08-Jun-2018\n",
      "11-Jun-2018\n",
      "12-Jun-2018\n",
      "13-Jun-2018\n",
      "14-Jun-2018\n",
      "15-Jun-2018\n",
      "18-Jun-2018\n",
      "19-Jun-2018\n",
      "20-Jun-2018\n",
      "21-Jun-2018\n",
      "22-Jun-2018\n",
      "26-Jun-2018\n",
      "27-Jun-2018\n",
      "28-Jun-2018\n",
      "29-Jun-2018\n",
      "02-Jul-2018\n",
      "03-Jul-2018\n",
      "04-Jul-2018\n",
      "05-Jul-2018\n",
      "06-Jul-2018\n",
      "09-Jul-2018\n",
      "10-Jul-2018\n",
      "11-Jul-2018\n",
      "12-Jul-2018\n",
      "13-Jul-2018\n",
      "16-Jul-2018\n",
      "17-Jul-2018\n",
      "18-Jul-2018\n",
      "19-Jul-2018\n",
      "20-Jul-2018\n",
      "23-Jul-2018\n",
      "24-Jul-2018\n",
      "25-Jul-2018\n",
      "26-Jul-2018\n",
      "27-Jul-2018\n",
      "30-Jul-2018\n",
      "31-Jul-2018\n",
      "01-Aug-2018\n",
      "02-Aug-2018\n",
      "03-Aug-2018\n",
      "06-Aug-2018\n",
      "07-Aug-2018\n",
      "08-Aug-2018\n",
      "09-Aug-2018\n",
      "10-Aug-2018\n",
      "13-Aug-2018\n",
      "14-Aug-2018\n",
      "15-Aug-2018\n",
      "16-Aug-2018\n",
      "17-Aug-2018\n",
      "20-Aug-2018\n",
      "21-Aug-2018\n",
      "22-Aug-2018\n",
      "23-Aug-2018\n",
      "24-Aug-2018\n",
      "27-Aug-2018\n",
      "28-Aug-2018\n",
      "29-Aug-2018\n",
      "30-Aug-2018\n",
      "31-Aug-2018\n",
      "04-Sep-2018\n",
      "05-Sep-2018\n",
      "06-Sep-2018\n",
      "07-Sep-2018\n",
      "10-Sep-2018\n",
      "11-Sep-2018\n",
      "13-Sep-2018\n",
      "14-Sep-2018\n",
      "17-Sep-2018\n",
      "18-Sep-2018\n",
      "19-Sep-2018\n",
      "20-Sep-2018\n",
      "24-Sep-2018\n",
      "25-Sep-2018\n",
      "26-Sep-2018\n",
      "27-Sep-2018\n",
      "28-Sep-2018\n",
      "24-Oct-2018\n",
      "25-Oct-2018\n"
     ]
    }
   ],
   "source": [
    "# Load Session\n",
    "results = []\n",
    "for day in days:\n",
    "    print(day)\n",
    "    session = LearningSession(mouse, day, access_engram=True)\n",
    "    predictor = SVCChoice(session)\n",
    "    r = predictor.fit_all()\n",
    "    results.append(r)"
   ]
  },
  {
   "cell_type": "markdown",
   "metadata": {},
   "source": [
    "## 1B. Fit polynomial-kernel SVC over each time step"
   ]
  },
  {
   "cell_type": "code",
   "execution_count": null,
   "metadata": {
    "code_folding": []
   },
   "outputs": [],
   "source": [
    "results = predictor.fit_all()"
   ]
  },
  {
   "cell_type": "code",
   "execution_count": null,
   "metadata": {},
   "outputs": [],
   "source": [
    "plt.plot(results['scores'])"
   ]
  },
  {
   "cell_type": "code",
   "execution_count": null,
   "metadata": {},
   "outputs": [],
   "source": [
    "# Save the logistic regression models\n",
    "pickle.dump(results, open(\n",
    "    \"pickles/choicedecoding_neural_\" + mouse + \"_\" + day + \".p\", \"wb\"\n",
    "    ))"
   ]
  },
  {
   "cell_type": "code",
   "execution_count": 4,
   "metadata": {},
   "outputs": [],
   "source": [
    "# Save the logistic regression models\n",
    "pickle.dump(results, open(\n",
    "    \"pickles/choicedecoding_learning_\" + mouse + \".p\", \"wb\"\n",
    "    ))"
   ]
  },
  {
   "cell_type": "code",
   "execution_count": null,
   "metadata": {},
   "outputs": [],
   "source": [
    "session.trialmarkers['audStimL'][5]"
   ]
  },
  {
   "cell_type": "code",
   "execution_count": null,
   "metadata": {},
   "outputs": [],
   "source": [
    "session.spatialdisc.keys()"
   ]
  },
  {
   "cell_type": "code",
   "execution_count": null,
   "metadata": {},
   "outputs": [],
   "source": [
    "all_files = os.listdir(session.dirpath)\n",
    "sdf = [f for f in all_files if 'SpatialDisc' in f][0]\n",
    "fp = session.dirpath + sdf\n",
    "from scipy.io import loadmat\n",
    "matfile = loadmat(fp)\n",
    "sd = np.array(matfile['SessionData'])[0,0]"
   ]
  },
  {
   "cell_type": "code",
   "execution_count": null,
   "metadata": {},
   "outputs": [],
   "source": []
  }
 ],
 "metadata": {
  "kernelspec": {
   "display_name": "Python 3",
   "language": "python",
   "name": "python3"
  },
  "language_info": {
   "codemirror_mode": {
    "name": "ipython",
    "version": 3
   },
   "file_extension": ".py",
   "mimetype": "text/x-python",
   "name": "python",
   "nbconvert_exporter": "python",
   "pygments_lexer": "ipython3",
   "version": "3.7.3"
  }
 },
 "nbformat": 4,
 "nbformat_minor": 2
}
