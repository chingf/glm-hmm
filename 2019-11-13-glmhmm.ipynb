{
 "cells": [
  {
   "cell_type": "code",
   "execution_count": 49,
   "metadata": {},
   "outputs": [],
   "source": [
    "# Import statements\n",
    "import os\n",
    "import traceback\n",
    "import pickle\n",
    "from datetime import datetime\n",
    "import numpy as np\n",
    "import matplotlib.pyplot as plt\n",
    "from LearningSession import *\n",
    "from LearningChoicePredictor import *\n",
    "from LearningPsychometricPredictor import *\n",
    "from sklearn.linear_model import LogisticRegression\n",
    "import ssm"
   ]
  },
  {
   "cell_type": "markdown",
   "metadata": {},
   "source": [
    "## Set up Data"
   ]
  },
  {
   "cell_type": "code",
   "execution_count": 2,
   "metadata": {},
   "outputs": [],
   "source": [
    "animal = 'mSM63'\n",
    "folder = '/home/chingf/engram/data/musall/learning/neural/mSM63'\n",
    "dates = os.listdir(folder)\n",
    "dates.sort()\n",
    "dates = dates[1:]\n",
    "dates.sort(key = lambda date: datetime.strptime(date, '%d-%b-%Y')) "
   ]
  },
  {
   "cell_type": "code",
   "execution_count": 3,
   "metadata": {},
   "outputs": [],
   "source": [
    "session = LearningSession(\n",
    "    animal, dates[26], access_engram=True, load_Vc=False\n",
    "    )"
   ]
  },
  {
   "cell_type": "code",
   "execution_count": 74,
   "metadata": {},
   "outputs": [],
   "source": [
    "session = pickle.load(\n",
    "    open(\"session28.p\", \"rb\")\n",
    "    )"
   ]
  },
  {
   "cell_type": "code",
   "execution_count": 75,
   "metadata": {},
   "outputs": [],
   "source": [
    "predictor = LearningPsychometricPredictor(session)"
   ]
  },
  {
   "cell_type": "code",
   "execution_count": 76,
   "metadata": {
    "code_folding": []
   },
   "outputs": [],
   "source": [
    "trial_choices = predictor.trial_choices\n",
    "nonnan_choices = np.logical_not(np.isnan(trial_choices))\n",
    "nonnan_data = np.ones((nonnan_choices.shape)).astype(bool)\n",
    "for trial in range(predictor.data.shape[0]):\n",
    "    if np.sum(np.isnan(predictor.data[trial,:])) > 0:\n",
    "        nonnan_data[trial] = False\n",
    "nonnan_indices = np.logical_and(nonnan_choices, nonnan_data)\n",
    "y = trial_choices[nonnan_indices].astype(int) - 1\n",
    "y = y.reshape((-1,1))\n",
    "X = predictor.data[nonnan_indices,:]"
   ]
  },
  {
   "cell_type": "code",
   "execution_count": 77,
   "metadata": {},
   "outputs": [],
   "source": [
    "indices = np.arange(y.size)\n",
    "X_train, X_test, y_train, y_test, train_indices, test_indices = \\\n",
    "    train_test_split(\n",
    "        X, y, indices, test_size = 0.20, stratify=y\n",
    "        )"
   ]
  },
  {
   "cell_type": "code",
   "execution_count": 78,
   "metadata": {},
   "outputs": [],
   "source": [
    "K = 4 # Number of states\n",
    "D = 1 # Dimension of observations"
   ]
  },
  {
   "cell_type": "code",
   "execution_count": 79,
   "metadata": {
    "code_folding": [
     0
    ]
   },
   "outputs": [],
   "source": [
    "def plot_psychometric(clf, coefs=None):\n",
    "    oldcoef = clf.coef_\n",
    "    oldintercept = clf.intercept_\n",
    "    if not (coefs is None):\n",
    "        clf.coef_ = np.array([coefs[0,:-1]])\n",
    "        clf.intercept_ = np.array([coefs[0,-1]])\n",
    "    data_prevl = []\n",
    "    data_prevr = []\n",
    "    for delta in range(-35,36):\n",
    "        data_prevl.append([0,delta])\n",
    "        data_prevr.append([1,delta])\n",
    "    data_prevl = np.array(data_prevl)\n",
    "    data_prevr = np.array(data_prevr)\n",
    "    psychometric_curve_prevl = clf.predict_proba(data_prevl)\n",
    "    psychometric_curve_prevr = clf.predict_proba(data_prevr)\n",
    "    plt.plot(\n",
    "        range(-35, 36),\n",
    "        psychometric_curve_prevl[:,1], color=\"blue\",\n",
    "        label=\"Previous Choice Left\"\n",
    "        )\n",
    "    plt.plot(\n",
    "        range(-35, 36),\n",
    "        psychometric_curve_prevr[:,1], color=\"red\",\n",
    "        label=\"Previous Choice Right\"\n",
    "        )\n",
    "    plt.title(\"Probability of Choosing Right\")\n",
    "    plt.legend()\n",
    "    plt.xlabel(\"More Left Beeps >>> More Right Beeps\")\n",
    "    plt.show()\n",
    "    clf.coef_ = oldcoef\n",
    "    clf.intercept_ = oldintercept"
   ]
  },
  {
   "cell_type": "markdown",
   "metadata": {},
   "source": [
    "## GLM HMM"
   ]
  },
  {
   "cell_type": "code",
   "execution_count": 80,
   "metadata": {},
   "outputs": [],
   "source": [
    "def fit_hmm(\n",
    "    K, X_train, y_train,\n",
    "    X_test, y_test, transitions=\"standard\"\n",
    "    ):\n",
    "    fitted_lls = []\n",
    "    best_test_ll = -np.inf\n",
    "    best_ll_array = None\n",
    "    best_hmm = None\n",
    "    input_size = X_train.shape[1]\n",
    "    for _ in range(15):\n",
    "        tmp_hmm = ssm.HMM(\n",
    "            K, D, M=input_size, observations=\"logistic\",\n",
    "            transitions=transitions,\n",
    "            observation_kwargs={\"input_size\":input_size}\n",
    "            )\n",
    "        lls = tmp_hmm.fit(\n",
    "            y_train,\n",
    "            inputs=X_train,\n",
    "            method=\"em\"\n",
    "            )\n",
    "        test_ll = tmp_hmm.log_likelihood(y_test, inputs=X_test)\n",
    "        if test_ll > best_test_ll:\n",
    "            best_test_ll = test_ll\n",
    "            best_ll_array = lls\n",
    "            best_hmm = tmp_hmm\n",
    "    hmm = best_hmm\n",
    "    lls = best_ll_array\n",
    "    return hmm, lls, best_test_ll"
   ]
  },
  {
   "cell_type": "code",
   "execution_count": 81,
   "metadata": {},
   "outputs": [],
   "source": [
    "%%capture\n",
    "Ks = [1,2,3,4]\n",
    "K_hmms = []\n",
    "K_lls = []\n",
    "K_test_lls = []\n",
    "for K in Ks:\n",
    "    _hmm, _lls, _test_ll = fit_hmm(\n",
    "        K, X_train, y_train,\n",
    "        X_test, y_test,\n",
    "        transitions=\"inputdriven\"\n",
    "        )\n",
    "    K_hmms.append(_hmm)\n",
    "    K_lls.append(_lls)\n",
    "    K_test_lls.append(_test_ll)"
   ]
  },
  {
   "cell_type": "code",
   "execution_count": 82,
   "metadata": {},
   "outputs": [
    {
     "data": {
      "text/plain": [
       "Text(0, 0.5, 'Test Set Log Likelihood')"
      ]
     },
     "execution_count": 82,
     "metadata": {},
     "output_type": "execute_result"
    },
    {
     "data": {
      "image/png": "[encoded data removed]",
      "text/plain": [
       "<Figure size 432x288 with 1 Axes>"
      ]
     },
     "metadata": {
      "needs_background": "light"
     },
     "output_type": "display_data"
    }
   ],
   "source": [
    "plt.plot(Ks, K_test_lls)\n",
    "plt.xticks(Ks)\n",
    "plt.xlabel(\"Number of States\")\n",
    "plt.ylabel(\"Test Set Log Likelihood\")"
   ]
  },
  {
   "cell_type": "code",
   "execution_count": 99,
   "metadata": {},
   "outputs": [],
   "source": [
    "hmm = K_hmms[Ks.index(3)]"
   ]
  },
  {
   "cell_type": "code",
   "execution_count": 90,
   "metadata": {},
   "outputs": [
    {
     "name": "stderr",
     "output_type": "stream",
     "text": [
      "/home/chingf/anaconda3/lib/python3.7/site-packages/sklearn/linear_model/logistic.py:432: FutureWarning: Default solver will be changed to 'lbfgs' in 0.22. Specify a solver to silence this warning.\n",
      "  FutureWarning)\n",
      "/home/chingf/anaconda3/lib/python3.7/site-packages/sklearn/utils/validation.py:724: DataConversionWarning: A column-vector y was passed when a 1d array was expected. Please change the shape of y to (n_samples, ), for example using ravel().\n",
      "  y = column_or_1d(y, warn=True)\n"
     ]
    }
   ],
   "source": [
    "clf = LogisticRegression().fit(X_train, y_train)"
   ]
  },
  {
   "cell_type": "markdown",
   "metadata": {},
   "source": [
    "m (2, 1)\n",
    "data (393, 1, 1)\n",
    "mask (393, 1, 1)\n",
    "logit_ps (2,1)\n",
    "data\\*logit_ps (393, 2, 1)\n",
    "lls (393, 2, 1)\n",
    "np.sum(lls\\*mask,axis=-1) (393, 2)"
   ]
  },
  {
   "cell_type": "code",
   "execution_count": 61,
   "metadata": {
    "code_folding": [
     0
    ]
   },
   "outputs": [
    {
     "data": {
      "text/plain": [
       "Text(0, 0.5, 'Current Class')"
      ]
     },
     "execution_count": 61,
     "metadata": {},
     "output_type": "execute_result"
    },
    {
     "data": {
      "image/png": "[encoded data removed]",
      "text/plain": [
       "<Figure size 432x288 with 2 Axes>"
      ]
     },
     "metadata": {
      "needs_background": "light"
     },
     "output_type": "display_data"
    }
   ],
   "source": [
    "# Plot transition matrix\n",
    "plt.imshow(hmm.transitions.transition_matrix)\n",
    "plt.colorbar()\n",
    "plt.title(\"Transition Matrix\")\n",
    "plt.xticks(np.arange(K), np.arange(K))\n",
    "plt.yticks(np.arange(K), np.arange(K))\n",
    "plt.xlabel(\"Next Class\")\n",
    "plt.ylabel(\"Current Class\")"
   ]
  },
  {
   "cell_type": "code",
   "execution_count": 92,
   "metadata": {
    "code_folding": [
     0
    ]
   },
   "outputs": [],
   "source": [
    "def plot_psychometric(clf, coefs=None):\n",
    "    oldcoef = clf.coef_\n",
    "    oldintercept = clf.intercept_\n",
    "    if not (coefs is None):\n",
    "        clf.coef_ = np.array([coefs[0,:-1]])\n",
    "        clf.intercept_ = np.array([coefs[0,-1]])\n",
    "    data_prevl = []\n",
    "    data_prevr = []\n",
    "    for delta in range(-35,36):\n",
    "        data_prevl.append([0,delta])\n",
    "        data_prevr.append([1,delta])\n",
    "    data_prevl = np.array(data_prevl)\n",
    "    data_prevr = np.array(data_prevr)\n",
    "    psychometric_curve_prevl = clf.predict_proba(data_prevl)\n",
    "    psychometric_curve_prevr = clf.predict_proba(data_prevr)\n",
    "    plt.plot(\n",
    "        range(-35, 36),\n",
    "        psychometric_curve_prevl[:,1], color=\"blue\",\n",
    "        label=\"Previous Choice Left\"\n",
    "        )\n",
    "    plt.plot(\n",
    "        range(-35, 36),\n",
    "        psychometric_curve_prevr[:,1], color=\"red\",\n",
    "        label=\"Previous Choice Right\"\n",
    "        )\n",
    "    plt.title(\"Probability of Choosing Right\")\n",
    "    plt.legend()\n",
    "    plt.xlabel(\"More Left Beeps >>> More Right Beeps\")\n",
    "    plt.show()\n",
    "    clf.coef_ = oldcoef\n",
    "    clf.intercept_ = oldintercept"
   ]
  },
  {
   "cell_type": "code",
   "execution_count": 91,
   "metadata": {},
   "outputs": [
    {
     "data": {
      "image/png": "[encoded data removed]",
      "text/plain": [
       "<Figure size 432x288 with 1 Axes>"
      ]
     },
     "metadata": {
      "needs_background": "light"
     },
     "output_type": "display_data"
    }
   ],
   "source": [
    "plot_psychometric(clf)"
   ]
  },
  {
   "cell_type": "code",
   "execution_count": 103,
   "metadata": {
    "code_folding": []
   },
   "outputs": [
    {
     "data": {
      "image/png": "[encoded data removed]",
      "text/plain": [
       "<Figure size 432x288 with 1 Axes>"
      ]
     },
     "metadata": {
      "needs_background": "light"
     },
     "output_type": "display_data"
    }
   ],
   "source": [
    "plot_psychometric(clf, hmm.observations.coef[2,:].reshape((1,-1)))"
   ]
  },
  {
   "cell_type": "code",
   "execution_count": 107,
   "metadata": {
    "scrolled": true
   },
   "outputs": [],
   "source": [
    "predicted = hmm.most_likely_states(y_test, input=X_test)"
   ]
  },
  {
   "cell_type": "code",
   "execution_count": 108,
   "metadata": {
    "scrolled": true
   },
   "outputs": [
    {
     "data": {
      "text/plain": [
       "array([2, 1, 1, 2, 1, 1, 1, 1, 2, 1, 1, 1, 2, 1, 1, 2, 2, 1, 1, 1, 0, 0,\n",
       "       0, 0, 1, 1, 0, 1, 2, 1, 1, 1, 1, 0, 2, 2, 2, 2, 1, 1, 2, 1, 1, 1,\n",
       "       1, 2, 1, 2, 2, 1, 2, 2, 1, 1, 0, 0, 0, 0, 0, 0, 0, 0, 1, 1, 2, 1,\n",
       "       1, 2, 1, 2, 1, 2, 1, 1, 1, 2, 2, 2, 2, 1, 1])"
      ]
     },
     "execution_count": 108,
     "metadata": {},
     "output_type": "execute_result"
    }
   ],
   "source": [
    "predicted"
   ]
  },
  {
   "cell_type": "code",
   "execution_count": 106,
   "metadata": {},
   "outputs": [
    {
     "data": {
      "image/png": "[encoded data removed]",
      "text/plain": [
       "<Figure size 1080x36 with 2 Axes>"
      ]
     },
     "metadata": {
      "needs_background": "light"
     },
     "output_type": "display_data"
    }
   ],
   "source": [
    "plt.figure(figsize=(15,0.5))\n",
    "plt.imshow(\n",
    "    hmm.most_likely_states(y_test, input=X_test).reshape((1,-1)),\n",
    "    aspect=\"auto\")\n",
    "plt.xlabel(\"Trial Number\")\n",
    "plt.show()"
   ]
  },
  {
   "cell_type": "code",
   "execution_count": 105,
   "metadata": {},
   "outputs": [
    {
     "data": {
      "image/png": "[encoded data removed]",
      "text/plain": [
       "<Figure size 1080x36 with 1 Axes>"
      ]
     },
     "metadata": {
      "needs_background": "light"
     },
     "output_type": "display_data"
    }
   ],
   "source": [
    "plt.figure(figsize=(15,0.5))\n",
    "plt.imshow(\n",
    "    hmm.most_likely_states(y_train, input=X_train).reshape((1,-1)),\n",
    "    aspect=\"auto\")\n",
    "plt.xlabel(\"Trial Number\")\n",
    "plt.show()"
   ]
  },
  {
   "cell_type": "code",
   "execution_count": null,
   "metadata": {},
   "outputs": [],
   "source": []
  }
 ],
 "metadata": {
  "kernelspec": {
   "display_name": "Python 3",
   "language": "python",
   "name": "python3"
  },
  "language_info": {
   "codemirror_mode": {
    "name": "ipython",
    "version": 3
   },
   "file_extension": ".py",
   "mimetype": "text/x-python",
   "name": "python",
   "nbconvert_exporter": "python",
   "pygments_lexer": "ipython3",
   "version": "3.7.3"
  }
 },
 "nbformat": 4,
 "nbformat_minor": 2
}
